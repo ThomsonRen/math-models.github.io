{
 "cells": [
  {
   "cell_type": "markdown",
   "metadata": {
    "id": "885C8DEF8CC341618A13295098F8FF24",
    "jupyter": {},
    "mdEditEnable": false,
    "slideshow": {
     "slide_type": "slide"
    },
    "tags": []
   },
   "source": [
    "# 预测模型\n",
    "\n",
    "## 预测模型介绍"
   ]
  },
  {
   "cell_type": "markdown",
   "metadata": {
    "id": "078EB20655B548BBA5058A73B142EFF0",
    "jupyter": {},
    "mdEditEnable": false,
    "slideshow": {
     "slide_type": "slide"
    },
    "tags": []
   },
   "source": [
    "```{figure} ../_static/lecture_specific/prediction_model/pred.jpg\n",
    "---\n",
    "height: 300px\n",
    "name: directive-fig3\n",
    "---\n",
    "\n",
    "```\n",
    "\n",
    "\n",
    "\n",
    "\n",
    "\n",
    "\n",
    "**预测**(Prediction)是根据事物的历史资料及现状，运用一定的理论和方法，探求事物演变规律，对其未来发展状况作出的一种科学推测。生活中使用预测模型的场景比如：\n",
    "- 天气预报\n",
    "- 飞机晚点预测\n",
    "- 房价预测\n",
    "- 股市\n",
    "\n",
    "随着科学技术的发展和各种预测实践经验的积累，预测作为一门综合性科学已发展成为一门比较完善的学科，现在预测方法已近二百种（最常用的有十几种），但每种方法都有一定的使用范围，它们往往是相互补充的，实际预测时也常常是几种方法一起用。预测方法虽然很多，但到目前为止，还没有一个统一的、普遍适用的分类体系，若根据预测的性质，大体可将预测分为**定性预测**和**定量预测**两类。"
   ]
  },
  {
   "cell_type": "markdown",
   "metadata": {
    "id": "9012D20967DD4370A722A89C4C85F140",
    "jupyter": {},
    "mdEditEnable": false,
    "slideshow": {
     "slide_type": "slide"
    },
    "tags": []
   },
   "source": [
    "```{figure} https://cdn.kesci.com/upload/image/q32dm25jw8.png?imageView2/0\n",
    "---\n",
    "height: 450px\n",
    "name: 预测模型框架图\n",
    "---\n",
    "\n",
    "```\n",
    "\n",
    "\n",
    "```{admonition} 因果预测与时间序列预测\n",
    "定量预测的特点是偏重于利用统计资料，借助于数学方法建立数学模型进行预测，是以数学模型为主的预测方法。又可分为**因果预测**和**时间序列预测**。\n",
    "- **因果预测**是以相关原理来分析预测对象与有关因素的相互关系，并以此关系构造模型进行预测。例如，要预测人的血压与年龄的关系、贫血与缺铁的关系等都可以用此预测方法。常用的因果预测模型有**回归分析、数量经济模型、灰色系统模型、生命周期分析**等。\n",
    "- **时间序列预测**是根据预测对象时间序列的变化特征，来研究事物自身的发展规律和探讨未来发展趋势的。时间序列与因果预测的最重要区别就在于其研究的是“自身”的变化规律而不是因素之间的关系。\n",
    "```\n",
    "\n",
    "\n",
    "\n",
    "## 线性回归\n",
    "\n",
    "深入地学习线性回归之前，我们先来理清楚几个概念\n",
    "\n",
    "```{admonition} 概念梳理\n",
    "\n",
    "- **确定性关系和相关关系：**\n",
    "  - **参数之间的确定性关系是指某参数可以完全由其他参数所决定**，例如正方形的面积与边长的关系，总价格与单价和数量的关系等。\n",
    "  - **相关关系是指一个或多个变量之间有一定的联系，但是这个联系不是完全决定性的**。例如，人的身高与体重有一定的关系，一般来讲身高高的人体重相对大一些。但是它们之间不能用一个确定的表达式表示出来。这次变量之间的关系。我们称之为相关关系。又如环境因素与农作物的产量也有相关关系，因为在相同环境条件下农作物的产量也有区别，这也就是说农作物的产量是一个随机变量。\n",
    "- **回归分析**：回归分析就是研究相关关系的一种数学方法，是寻找不完全确定的变量间的数学关系式并进行统计推断的一种方法。它能帮助我们从一个变量取得的值去估计另一个变量的值。\n",
    "- **线性回归**：回归分析中最简单的是线性回归。\n",
    "```\n",
    "\n",
    "### 一元线性回归模型"
   ]
  },
  {
   "cell_type": "markdown",
   "metadata": {
    "id": "89329F3B98614F5BA5A1FBF8FF06DDB0",
    "jupyter": {},
    "mdEditEnable": false,
    "slideshow": {
     "slide_type": "slide"
    },
    "tags": []
   },
   "source": [
    "单变量线性回归，又称简单线性回归（simple linear regression,SLR），是最简单但用途很广的回归模型。其回归式为：\n",
    "\n",
    "$$\n",
    "y=\\alpha+\\beta x\n",
    "$$\n",
    "\n",
    "为了从一组样本$\\{\\left(x_{i}, y_{i}\\right)|i = 1,2,\\cdots,n\\}$之中估计最合适的参数$\\alpha$和$\\beta$，通常采用**最小二乘法**，其计算目标为**最小化残差平方和**：\n",
    "\n",
    "$$\n",
    "\\min \\sum_{i=1}^{n} \\varepsilon_{i}^{2}=\\min \\sum_{i=1}^{n}\\left(y_{i}-\\alpha-\\beta x_{i}\\right)^{2}\n",
    "$$\n",
    "\n",
    "\n",
    "\n",
    "\n",
    "```{tip}\n",
    "**本课程我们暂不关心最小二乘法的推导过程，只需了解其原理及应用即可。感兴趣的同学可以参看[这里](https://web.williams.edu/Mathematics/sjmiller/public_html/BrownClasses/54/handouts/MethodLeastSquares.pdf)** \n",
    "\n",
    "```\n",
    "\n",
    "我们不加推导，直接给出最小二乘估计的结果\n",
    "\n",
    "$$\n",
    "\\begin{aligned}\n",
    "\\hat{\\alpha}&=\\bar{y}-\\bar{x} \\hat{\\beta}\\\\\n",
    "\\hat{\\beta}&=S_{x y} / S_{x x}\n",
    "\\end{aligned}\n",
    "$$\n",
    "\n",
    "其中，\n",
    "\n",
    "$$\n",
    "\\bar{y}=\\frac{1}{n} \\sum_{i} y_{i}\n",
    "$$\n",
    "\n",
    "$$\n",
    "\\bar{x}=\\frac{1}{n} \\sum_{i} x_{i}\n",
    "$$\n",
    "\n",
    "$$\n",
    "S_{x x}=\\sum_{i}\\left(x_{i}-\\bar{x}\\right)^{2}\n",
    "$$\n",
    "\n",
    "$$\n",
    "S_{y y}=\\sum_{i}\\left(y_{i}-\\bar{y}\\right)^{2}\n",
    "$$\n",
    "\n",
    "$$\n",
    "S_{x y}=\\sum_{i}\\left(x_{i}-\\bar{x}\\right)\\left(y_{i}-\\bar{y}\\right)\n",
    "$$"
   ]
  },
  {
   "cell_type": "markdown",
   "metadata": {
    "id": "1024F7F7C71E4DF5892FF3F2A858B28B",
    "jupyter": {},
    "mdEditEnable": false,
    "slideshow": {
     "slide_type": "slide"
    },
    "tags": []
   },
   "source": [
    "现在有一组高中生的身高和腿长的数据，用一元线性回归研究他们之间的关系，然后对新的同学进行预测。先来看看数据的**散点图**"
   ]
  },
  {
   "cell_type": "code",
   "execution_count": 1,
   "metadata": {
    "id": "1A54E5C63F654170969A2C31B002E924",
    "jupyter": {},
    "slideshow": {
     "slide_type": "slide"
    },
    "tags": []
   },
   "outputs": [
    {
     "data": {
      "text/plain": [
       "Text(0, 0.5, '$L$')"
      ]
     },
     "execution_count": 1,
     "metadata": {},
     "output_type": "execute_result"
    },
    {
     "data": {
      "image/png": "[encoded data removed]",
      "text/plain": [
       "<Figure size 432x288 with 1 Axes>"
      ]
     },
     "metadata": {
      "filenames": {
       "image/png": "/Users/rentongxin/Documents/GitHub/math-models.github.io/Prediction-Model/_build/jupyter_execute/docs/prediction_model_5_1.png"
      }
     },
     "output_type": "display_data"
    }
   ],
   "source": [
    "import numpy as np    # 导入 numpy库，用于科学计算\n",
    "import pandas as pd    # 导入 pandas库 ，用于数据分析\n",
    "import matplotlib.pyplot as plt   # 导入 pandas库 ，用于数据可视化\n",
    "\n",
    "%matplotlib inline \n",
    "plt.style.use(\"ggplot\")  # 使用ggplot绘图风格\n",
    "from sklearn.linear_model import LinearRegression  # 导入线性回归工具函数 LinearRegression\n",
    "x = np.array([143, 145, 146, 147, 149, 150, 153, 154, 155,\n",
    "              156, 157, 158, 159, 160, 162, 164])  # 输入x数据\n",
    "x = x.reshape(16, 1)    # 修改数据的格式，从行向量转换为列向量\n",
    "y = np.array([88, 85, 88, 91, 92, 93, 93, 95, 96,\n",
    "              98, 97, 96, 98, 99, 100, 102])  # 输入y数据\n",
    "plt.scatter(x, y)    # 绘制散点图\n",
    "plt.xlabel(r'$H$')  # 添加xlabel\n",
    "plt.ylabel(r'$L$')  # 绘制ylabel"
   ]
  },
  {
   "cell_type": "markdown",
   "metadata": {
    "id": "832A1749CB804FB48A8191E8158DD1E2",
    "jupyter": {},
    "mdEditEnable": false,
    "slideshow": {
     "slide_type": "slide"
    },
    "tags": []
   },
   "source": [
    "很明显，升身高和体重明显**符合线性关系**。下面我们使用`sklearn.linear_model`中的`LinearRegression`方法进行线性回归"
   ]
  },
  {
   "cell_type": "code",
   "execution_count": 2,
   "metadata": {
    "id": "D785529126F1483486FE48BBB9CBF8E4",
    "jupyter": {},
    "slideshow": {
     "slide_type": "slide"
    },
    "tags": []
   },
   "outputs": [
    {
     "data": {
      "text/plain": [
       "LinearRegression()"
      ]
     },
     "execution_count": 2,
     "metadata": {},
     "output_type": "execute_result"
    }
   ],
   "source": [
    "# 1. 初始化线性回归函数，命名为lrModel\n",
    "lrModel = LinearRegression()\n",
    "# 2. 使用lrModel对数据x,y进行拟合\n",
    "lrModel.fit(x,y)"
   ]
  },
  {
   "cell_type": "code",
   "execution_count": 3,
   "metadata": {
    "id": "0D52F473AD2B4AF2A69762157B1285CD",
    "jupyter": {},
    "slideshow": {
     "slide_type": "slide"
    },
    "tags": []
   },
   "outputs": [
    {
     "name": "stdout",
     "output_type": "stream",
     "text": [
      "-16.07298072980727\n",
      "[0.71935219]\n"
     ]
    }
   ],
   "source": [
    "# 3. 输出截距和斜率\n",
    "print(lrModel.intercept_)\n",
    "print(lrModel.coef_)"
   ]
  },
  {
   "cell_type": "code",
   "execution_count": 4,
   "metadata": {
    "id": "82A53E702224472B957591A43EDA3ACC",
    "jupyter": {},
    "slideshow": {
     "slide_type": "slide"
    },
    "tags": []
   },
   "outputs": [
    {
     "data": {
      "text/plain": [
       "<matplotlib.collections.PathCollection at 0x12214c090>"
      ]
     },
     "execution_count": 4,
     "metadata": {},
     "output_type": "execute_result"
    },
    {
     "data": {
      "image/png": "[encoded data removed]",
      "text/plain": [
       "<Figure size 432x288 with 1 Axes>"
      ]
     },
     "metadata": {
      "filenames": {
       "image/png": "/Users/rentongxin/Documents/GitHub/math-models.github.io/Prediction-Model/_build/jupyter_execute/docs/prediction_model_9_1.png"
      }
     },
     "output_type": "display_data"
    }
   ],
   "source": [
    "# 4. 根据回归得到的系数，在散点图上绘制回归直线\n",
    "LR_data = [lrModel.intercept_ + lrModel.coef_ * i for i in range(145,165)]  # 求解回归直线上的一系列点\n",
    "plt.plot(range(145, 165), LR_data)  # 绘制回归直线\n",
    "plt.scatter(x, y)   # 绘制散点图"
   ]
  },
  {
   "cell_type": "markdown",
   "metadata": {
    "id": "9906516A0D614A848EC7BE5657572186",
    "jupyter": {},
    "mdEditEnable": false,
    "slideshow": {
     "slide_type": "slide"
    },
    "tags": []
   },
   "source": [
    "我们常常用相关系数$R^2$描述线性拟合的效果，使用方法如下"
   ]
  },
  {
   "cell_type": "code",
   "execution_count": 5,
   "metadata": {
    "id": "7929F9E8F6104142B17959BA406FF8CB",
    "jupyter": {},
    "slideshow": {
     "slide_type": "slide"
    },
    "tags": []
   },
   "outputs": [
    {
     "data": {
      "text/plain": [
       "0.928187845952738"
      ]
     },
     "execution_count": 5,
     "metadata": {},
     "output_type": "execute_result"
    }
   ],
   "source": [
    "# 5. 计算R2\n",
    "lrModel.score(x,y)"
   ]
  },
  {
   "cell_type": "markdown",
   "metadata": {
    "id": "62B1FA885768417E93BA12ACB358B60C",
    "jupyter": {},
    "mdEditEnable": false,
    "slideshow": {
     "slide_type": "slide"
    },
    "tags": []
   },
   "source": [
    "执行代码可以看到，模型的评分为`0.928`,是非常不错的一个评分，我们就可以使用这个模型进行未知数据的预测了。（评分等于相关系数$R^2$用于表示拟合得到的模型能解释因变量变化的百分比，$R^2$越接近于1，表示回归模型拟合效果越好，通常认为$R^2 > 0.8$ 就是比较满意的回归结果了）"
   ]
  },
  {
   "cell_type": "markdown",
   "metadata": {
    "id": "AA47CE3A5BD041D280E588E7592CC0AC",
    "jupyter": {},
    "mdEditEnable": false,
    "slideshow": {
     "slide_type": "slide"
    },
    "tags": []
   },
   "source": [
    "假定两位新同学的身高分别是170cm和163cm，下面使用本文的模型预测他们的身高。"
   ]
  },
  {
   "cell_type": "code",
   "execution_count": 6,
   "metadata": {
    "id": "3DA6841E426F4C448A3EA7D09D1C22AB",
    "jupyter": {},
    "slideshow": {
     "slide_type": "slide"
    },
    "tags": []
   },
   "outputs": [
    {
     "data": {
      "text/plain": [
       "array([106.21689217, 101.18142681])"
      ]
     },
     "execution_count": 6,
     "metadata": {},
     "output_type": "execute_result"
    }
   ],
   "source": [
    "# 6. 对新的数据进行预测\n",
    "lrModel.predict([[170],[163]])"
   ]
  },
  {
   "cell_type": "markdown",
   "metadata": {
    "id": "811913FB47D446B4818E6A91CDF20299",
    "jupyter": {},
    "mdEditEnable": false,
    "slideshow": {
     "slide_type": "slide"
    },
    "tags": []
   },
   "source": [
    "### 多元线性回归模型"
   ]
  },
  {
   "cell_type": "markdown",
   "metadata": {
    "id": "606CA4A113874B14BF2A36243B797AA6",
    "jupyter": {},
    "mdEditEnable": false,
    "slideshow": {
     "slide_type": "slide"
    },
    "tags": []
   },
   "source": [
    "在回归分析中，如果有两个或两个以上的自变量，就称为多元回归。事实上，一种现象常常是与多个因素相联系的，由多个自变量的最优组合共同来预测或估计因变量，比只用一个自变量进行预测或估计更有效，更符合实际。\n",
    "\n",
    "在实际经济问题中，一个变量往往受到多个变量的影响。例如，家庭消费支出，除了受家庭可支配收入的影响外，还受诸如家庭所有的财富、物价水平、金融机构存款利息等多种因素的影响，表现在线性回归模型中的解释变量有多个。这样的模型被称为**多元线性回归模型（multivariable linear regression model）**\n",
    "\n",
    "$$\n",
    "y=\\beta_{0}+\\beta_{1} x_{1}+\\beta_{2} x_{2}+\\cdots \\beta_{m} x_{m}\n",
    "$$\n",
    "\n",
    "多元性回归模型的参数估计，同一元线性回归方程一样，也是在要求误差平方和最小的前提下，用最小二乘法求解参数。\n",
    "\n",
    "$$\n",
    "\\min \\sum_{i=1}^{n} \\varepsilon_{i}^{2}=\\min \\sum_{i=1}^{n}\\left(y_{i}-\\left(\\beta_{0}+\\beta_{1} x_{1i}+\\beta_{2} x_{2i}+\\cdots \\beta_{m} x_{mi}\\right)\\right)^{2}\n",
    "$$\n",
    "\n",
    "同样地，这里我们暂时不关心回归系数的具体的推导过程，只需要知道如何用Python操作即可。我们通过一个SO2浓度预测的案例进行介绍。"
   ]
  },
  {
   "cell_type": "code",
   "execution_count": 7,
   "metadata": {
    "id": "44009CB34A53435A88B23250AFD7DBA4",
    "jupyter": {},
    "mdEditEnable": false,
    "slideshow": {
     "slide_type": "slide"
    },
    "tags": []
   },
   "outputs": [
    {
     "name": "stdout",
     "output_type": "stream",
     "text": [
      "    SO2(ppm)    R    G    B    S    H\n",
      "0          0  153  148  157  138   14\n",
      "1          0  153  147  157  138   16\n",
      "2          0  153  146  158  137   20\n",
      "3          0  153  146  158  137   20\n",
      "4          0  154  145  157  141   19\n",
      "5         20  144  115  170  135   82\n",
      "6         20  144  115  169  136   81\n",
      "7         20  145  115  172  135   83\n",
      "8         30  145  114  174  135   87\n",
      "9         30  145  114  176  135   89\n",
      "10        30  145  114  175  135   89\n",
      "11        30  146  114  175  135   88\n",
      "12        50  142   99  175  137  110\n",
      "13        50  141   99  174  137  109\n",
      "14        50  142   99  176  136  110\n",
      "15        80  141   96  181  135  119\n",
      "16        80  141   96  182  135  119\n",
      "17        80  140   96  182  135  120\n",
      "18       100  139   96  175  136  115\n",
      "19       100  139   96  174  136  114\n",
      "20       100  139   96  176  136  116\n",
      "21       150  139   86  178  136  131\n",
      "22       150  139   87  177  137  129\n",
      "23       150  138   86  177  137  130\n",
      "24       150  139   86  178  137  131\n"
     ]
    }
   ],
   "source": [
    "import pandas as pd # 导入 pandas库 ，用于数据分析\n",
    "data = pd.read_csv('../_static/lecture_specific/prediction_model/so2.csv') # 读入数据\n",
    "print(data) # 显示数据"
   ]
  },
  {
   "cell_type": "markdown",
   "metadata": {
    "id": "D859409E51B54C018E8EFFCECEAB4779",
    "jupyter": {},
    "mdEditEnable": false,
    "slideshow": {
     "slide_type": "slide"
    },
    "tags": []
   },
   "source": [
    "可以看到，这是一个**五个变量**的多元线性回归，我们先通过散点图来看一下**各个变量单独与因变量的关系**。"
   ]
  },
  {
   "cell_type": "code",
   "execution_count": 8,
   "metadata": {
    "id": "1C87A0D275CC468195D8F0C74C4A3EA3",
    "jupyter": {},
    "slideshow": {
     "slide_type": "slide"
    },
    "tags": []
   },
   "outputs": [
    {
     "data": {
      "text/plain": [
       "Text(0.5, 1.0, 'H = 0.83')"
      ]
     },
     "execution_count": 8,
     "metadata": {},
     "output_type": "execute_result"
    },
    {
     "data": {
      "image/png": "[encoded data removed]",
      "text/plain": [
       "<Figure size 1440x936 with 5 Axes>"
      ]
     },
     "metadata": {
      "filenames": {
       "image/png": "/Users/rentongxin/Documents/GitHub/math-models.github.io/Prediction-Model/_build/jupyter_execute/docs/prediction_model_19_1.png"
      }
     },
     "output_type": "display_data"
    }
   ],
   "source": [
    "So2 = [0, 0, 0, 0, 0, 20, 20, 20, 30, 30, 30, 30, 50, 50, 50, 80, 80, 80, 100, 100, 100, 150, 150, 150, 150]\n",
    "R = [153, 153, 153, 153, 154, 144, 144, 145, 145, 145, 145, 146, 142, 141, 142, 141, 141, 140, 139, 139, 139, 139, 139, 138, 139]\n",
    "G = [148, 147, 146, 146, 145, 115, 115, 115, 114, 114, 114, 114, 99, 99, 99, 96, 96, 96, 96, 96, 96, 86, 87, 86, 86]\n",
    "B = [157, 157, 158, 158, 157, 170, 169, 172, 174, 176, 175, 175, 175, 174, 176, 181, 182, 182, 175, 174, 176, 178, 177, 177, 178]\n",
    "S = [138, 138, 137, 137, 141, 135, 136, 135, 135, 135, 135, 135, 137, 137, 136, 135, 135, 135, 136, 136, 136, 136, 137, 137, 137]\n",
    "H = [14, 16, 20, 20, 19, 82, 81, 83, 87, 89, 89, 88, 110, 109, 110, 119, 119, 120, 115, 114, 116, 131, 129, 130, 131]\n",
    "\n",
    "\n",
    "import seaborn as sns  # 导入 seaborn库 ，用于数据可视化\n",
    "import matplotlib.pyplot as plt\n",
    "import numpy as np\n",
    "colors = ['r', 'g', 'b', 'm', 'black']  # 指定每个绘图的颜色\n",
    "xlist = ['R', 'G', 'B', 'S', 'H']  # 指定每个绘图的变量名\n",
    "plt.figure(figsize=(20, 13))  # 指定图片大小\n",
    "\n",
    "# 绘制R子图\n",
    "plt.subplot(2, 3, 1)  \n",
    "sns.regplot(x=R, y=So2, color='r')  # 绘制带有回归线和置信区间的线性回归图\n",
    "title_text = 'R = {:.2f}'.format(np.corrcoef(R,So2)[1][0],)\n",
    "plt.title(title_text)  # 添加子图标题\n",
    "\n",
    "# 绘制R子图\n",
    "plt.subplot(2, 3, 2)  \n",
    "sns.regplot(x=G, y=So2, color='g')  # 绘制带有回归线和置信区间的线性回归图\n",
    "title_text = 'G = {:.2f}'.format(np.corrcoef(G,So2)[1][0],)\n",
    "plt.title(title_text)  # 添加子图标题\n",
    "\n",
    "\n",
    "# 绘制B子图\n",
    "plt.subplot(2, 3, 3)  \n",
    "sns.regplot(x=B, y=So2, color='b')  # 绘制带有回归线和置信区间的线性回归图\n",
    "title_text = 'B = {:.2f}'.format(np.corrcoef(B,So2)[1][0],)\n",
    "plt.title(title_text)  # 添加子图标题\n",
    "\n",
    "\n",
    "# 绘制S子图\n",
    "plt.subplot(2, 3, 4)  \n",
    "sns.regplot(x=S, y=So2, color='m')  # 绘制带有回归线和置信区间的线性回归图\n",
    "title_text = 'S = {:.2f}'.format(np.corrcoef(S,So2)[1][0],)\n",
    "plt.title(title_text)  # 添加子图标题\n",
    "\n",
    "\n",
    "\n",
    "# 绘制B子图\n",
    "plt.subplot(2, 3, 5)  \n",
    "sns.regplot(x=H, y=So2, color='black')  # 绘制带有回归线和置信区间的线性回归图\n",
    "title_text = 'H = {:.2f}'.format(np.corrcoef(H,So2)[1][0],)\n",
    "plt.title(title_text)  # 添加子图标题"
   ]
  },
  {
   "cell_type": "markdown",
   "metadata": {
    "id": "582F816773B84C3EB2577C1101AE652D",
    "jupyter": {},
    "mdEditEnable": false,
    "slideshow": {
     "slide_type": "slide"
    },
    "tags": []
   },
   "source": [
    "可以看到，除了第四个变量$S$以外，每一个变量基本上都和因变量有线性关系，因此我们可以删去$S$，进行多元线性回归。"
   ]
  },
  {
   "cell_type": "code",
   "execution_count": 9,
   "metadata": {
    "id": "1A9CE839B5794F3F8E3467AFE7E480E8",
    "jupyter": {},
    "slideshow": {
     "slide_type": "slide"
    },
    "tags": []
   },
   "outputs": [
    {
     "name": "stdout",
     "output_type": "stream",
     "text": [
      "截距为： 2044.021593204974\n",
      "系数为： [ -1.38977229 -17.5022507    5.68341432  -9.34216398]\n",
      "R2为： 0.8961318172850157\n"
     ]
    }
   ],
   "source": [
    "from sklearn.linear_model import LinearRegression  # 导入线性回归函数LinearRegression\n",
    "lrModel = LinearRegression()     # 初始化回归模型\n",
    "lrModel.fit(np.array([R,G,B,H]).T,So2)  # 输入需要回归的数据\n",
    "print('截距为：', lrModel.intercept_)  # 输出截距\n",
    "print('系数为：', lrModel.coef_)    # 输出系数\n",
    "score = lrModel.score(np.array([R,G,B,H]).T, So2)\n",
    "print('R2为：', score)    # 输出相关系数R2"
   ]
  },
  {
   "cell_type": "markdown",
   "metadata": {
    "id": "9D08EA04E9A140E78B1F3983F096DD64",
    "jupyter": {},
    "mdEditEnable": false,
    "slideshow": {
     "slide_type": "slide"
    },
    "tags": []
   },
   "source": [
    "## 非线性拟合\n",
    "### 多项式拟合（Polynomial regression）\n",
    "尽管上述的线性模型已经能够求解许多实际问题，然而生活中的很多系统的增长趋势往往是非线性的，这时候我们就需要用到非线性拟合。\n",
    "\n",
    "\n",
    "对于非线性回归问题而言，最简单也是最常见的方法就是**多项式回归**。多项式（Polynomial）是代数学中的基础概念，是由称为未知数的变量和称为系数的常量通过有限次加法、加减法、乘法以及自然数幂次的乘方运算得到的代数表达式。多项式是整式的一种。未知数只有一个的多项式称为一元多项式；例如$x^{2}-3 x+4$就是一个一元多项式。未知数不止一个的多项式称为多元多项式，例如$x^{3}-2 x y z^{2}+2 y z+1$就是一个三元多项式。"
   ]
  },
  {
   "cell_type": "markdown",
   "metadata": {
    "id": "325F1770BF42437D9ED0011BE3EC57EE",
    "jupyter": {},
    "mdEditEnable": false,
    "slideshow": {
     "slide_type": "slide"
    },
    "tags": []
   },
   "source": [
    "首先，我们通过一组示例数据来认识多项式回归，示例数据一共有 10 组，分别对应着横坐标和纵坐标。接下来，通过 Matplotlib 绘制数据，查看其变化趋势。"
   ]
  },
  {
   "cell_type": "code",
   "execution_count": 10,
   "metadata": {
    "id": "327F1B75D5974EBA89B8F6BB43E2D523",
    "jupyter": {},
    "slideshow": {
     "slide_type": "slide"
    },
    "tags": []
   },
   "outputs": [
    {
     "data": {
      "text/plain": [
       "<matplotlib.collections.PathCollection at 0x123eb6610>"
      ]
     },
     "execution_count": 10,
     "metadata": {},
     "output_type": "execute_result"
    },
    {
     "data": {
      "image/png": "[encoded data removed]",
      "text/plain": [
       "<Figure size 432x288 with 1 Axes>"
      ]
     },
     "metadata": {
      "filenames": {
       "image/png": "/Users/rentongxin/Documents/GitHub/math-models.github.io/Prediction-Model/_build/jupyter_execute/docs/prediction_model_24_1.png"
      }
     },
     "output_type": "display_data"
    }
   ],
   "source": [
    "# 加载示例数据\n",
    "x = [4, 8, 12, 25, 32, 43, 58, 63, 69, 79] # 输入x\n",
    "y = [20, 33, 50, 56, 42, 31, 33, 46, 65, 75]  # 输入y \n",
    "plt.scatter(x, y)  # 绘制散点图"
   ]
  },
  {
   "cell_type": "markdown",
   "metadata": {
    "id": "B5A05D65E2B34818AB685DB62CAE573D",
    "jupyter": {},
    "mdEditEnable": false,
    "slideshow": {
     "slide_type": "slide"
    },
    "tags": []
   },
   "source": [
    "接下来，通过多项式来拟合上面的散点数据。一个标准的一元高阶多项式函数如下所示：\n",
    "\n",
    "$$\n",
    "y(x, w)=w_{0}+w_{1} x+w_{2} x^{2}+\\ldots+w_{m} x^{m}=\\sum_{j=0}^{m} w_{j} x^{j}\n",
    "$$\n",
    "\n",
    "其中，$m$表示多项式的阶数，$x^j$表示$x$的$j$次幂，$w$则代表该多项式的系数。当我们使用上面的多项式去拟合散点时，需要确定两个要素，分别是：\n",
    "- 多项式系数$w$\n",
    "- 多项式阶数$m$\n",
    "\n",
    "这也是多项式的两个基本要素。"
   ]
  },
  {
   "cell_type": "markdown",
   "metadata": {
    "id": "9D054AD1E94C49D58C24163AD9E0FBC9",
    "jupyter": {},
    "mdEditEnable": false,
    "slideshow": {
     "slide_type": "slide"
    },
    "tags": []
   },
   "source": [
    "如果通过手动指定多项式阶数$m$的大小，那么就只需要确定多项式系数$w$的值是多少。例如，这里首先指定$m=2$,多项式就变成了：\n",
    "\n",
    "$$\n",
    "y(x, w)=w_{0}+w_{1} x+w_{2} x^{2}=\\sum_{j=0}^{2} w_{j} x^{j}\n",
    "$$\n",
    "\n",
    "当我们确定$w$的值的大小时，就回到了前面线性回归中学习到的内容，具体来说，就是最小化残差平方和（最小二乘法）。\n",
    "\n",
    "我们先尝试使用二次多项式拟合。"
   ]
  },
  {
   "cell_type": "code",
   "execution_count": 11,
   "metadata": {
    "id": "EC23D2BCD72A4F6781F72F03E40DF96A",
    "jupyter": {},
    "slideshow": {
     "slide_type": "slide"
    },
    "tags": []
   },
   "outputs": [
    {
     "data": {
      "text/plain": [
       "[<matplotlib.lines.Line2D at 0x1262fa7d0>]"
      ]
     },
     "execution_count": 11,
     "metadata": {},
     "output_type": "execute_result"
    },
    {
     "data": {
      "image/png": "[encoded data removed]",
      "text/plain": [
       "<Figure size 432x288 with 1 Axes>"
      ]
     },
     "metadata": {
      "filenames": {
       "image/png": "/Users/rentongxin/Documents/GitHub/math-models.github.io/Prediction-Model/_build/jupyter_execute/docs/prediction_model_27_1.png"
      }
     },
     "output_type": "display_data"
    }
   ],
   "source": [
    "# 加载示例数据\n",
    "x = [4, 8, 12, 25, 32, 43, 58, 63, 69, 79]\n",
    "y = [20, 33, 50, 56, 42, 31, 33, 46, 65, 75]\n",
    "from scipy.optimize import curve_fit  # 导入非线性拟合函数curve_fit\n",
    "\n",
    "# 定义需要拟合的函数形式，这里使用二次函数的一般式 y = ax^2 + bx + c\n",
    "def f2(x, a, b, c):\n",
    "    return a * x**2 + b*x + c\n",
    "\n",
    "\n",
    "plt.scatter(x, y)  # 绘制散点图\n",
    "popt, pcov = curve_fit(f2, x, y)    # 执行非线性拟合\n",
    "# popt数组中，三个值分别是待求参数a,b,c\n",
    "y1 = [f2(i, popt[0], popt[1], popt[2]) for i in x]   # 计算得到拟合曲线上的一系列点\n",
    "plt.plot(x, y1, 'r')   # 绘制拟合曲线"
   ]
  },
  {
   "cell_type": "markdown",
   "metadata": {
    "id": "A814D22B655F4B4E8D48CB71BE5D2ABE",
    "jupyter": {},
    "mdEditEnable": false,
    "slideshow": {
     "slide_type": "slide"
    },
    "tags": []
   },
   "source": [
    "可以看到，其效果并不好，增大次数试一下？"
   ]
  },
  {
   "cell_type": "code",
   "execution_count": 12,
   "metadata": {
    "id": "2250586370CB4E34894417D27D25A0C0",
    "jupyter": {},
    "slideshow": {
     "slide_type": "slide"
    },
    "tags": []
   },
   "outputs": [
    {
     "data": {
      "text/plain": [
       "Text(0.5, 1.0, '38.052046270695655')"
      ]
     },
     "execution_count": 12,
     "metadata": {},
     "output_type": "execute_result"
    },
    {
     "data": {
      "image/png": "[encoded data removed]",
      "text/plain": [
       "<Figure size 720x720 with 4 Axes>"
      ]
     },
     "metadata": {
      "filenames": {
       "image/png": "/Users/rentongxin/Documents/GitHub/math-models.github.io/Prediction-Model/_build/jupyter_execute/docs/prediction_model_29_1.png"
      }
     },
     "output_type": "display_data"
    }
   ],
   "source": [
    "# f3为三次多项式\n",
    "def f3(x, a, b, c,d):  \n",
    "    return a * x**3 + b*x**2 +c *x +d\n",
    "# f4为四次多项式\n",
    "def f4(x, a, b, c,d,e):  \n",
    "    return a * x**4 + b*x**3 +c *x**2 +d*x + e\n",
    "# f5为五次多项式\n",
    "def f5(x, a, b, c,d,e,f):  \n",
    "    return a * x**5 + b*x**4 +c *x**3 +d*x**2 + e*x +f\n",
    "\n",
    "# 定义方差计算函数\n",
    "def error(y1,y2):\n",
    "    a = np.array(y1)\n",
    "    b = np.array(y2)\n",
    "    return np.dot(a-b,a-b)\n",
    "    \n",
    "\n",
    "plt.figure(figsize = (10,10)) # 定义图片大小\n",
    "plt.subplot(2,2,1) # 开始绘制第1张子图\n",
    "plt.scatter(x, y)  # 绘制（x,y）的散点图\n",
    "popt, pcov = curve_fit(f2, x, y)    # 执行2次多项式拟合\n",
    "#popt数组中，三个值分别是待求参数a,b,c  \n",
    "y1 = [f2(i, popt[0],popt[1],popt[2]) for i in x]  # 得到拟合曲线上的一系列点\n",
    "plt.plot(x,y1,'r--')   # 绘制拟合曲线\n",
    "plt.title(str(error(y,y1))) # 计算方差，并作为图片的标题\n",
    "\n",
    "plt.subplot(2,2,2) # 开始绘制第2张子图\n",
    "plt.scatter(x, y) # 绘制（x,y）的散点图\n",
    "popt, pcov = curve_fit(f3, x, y)   # 执行3次多项式拟合\n",
    "#popt数组中，三个值分别是待求参数a,b,c,d  \n",
    "y1 = [f3(i, popt[0],popt[1],popt[2],popt[3]) for i in x]    # 得到拟合曲线上的一系列点\n",
    "plt.plot(x,y1,'r--')   # 绘制拟合曲线\n",
    "plt.title(str(error(y,y1))) # 计算方差，并作为图片的标题\n",
    "\n",
    "\n",
    "plt.subplot(2,2,3) # 开始绘制第3张子图\n",
    "plt.scatter(x, y)\n",
    "popt, pcov = curve_fit(f4, x, y)  \n",
    "y1 = [f4(i, popt[0],popt[1],popt[2],popt[3],popt[4]) for i in x]  \n",
    "plt.plot(x,y1,'r--')  \n",
    "plt.title(str(error(y,y1)))\n",
    "\n",
    "plt.subplot(2,2,4) # 开始绘制第4张子图\n",
    "plt.scatter(x, y)\n",
    "popt, pcov = curve_fit(f5, x, y)  \n",
    "y1 = [f5(i, popt[0],popt[1],popt[2],popt[3],popt[4],popt[5]) for i in x]  \n",
    "plt.plot(x,y1,'r--')  \n",
    "plt.title(str(error(y,y1)))"
   ]
  },
  {
   "cell_type": "markdown",
   "metadata": {
    "id": "1E70BAB04D8A48698EC253CA226F0A4B",
    "jupyter": {},
    "mdEditEnable": false,
    "slideshow": {
     "slide_type": "slide"
    },
    "tags": []
   },
   "source": [
    "**思考：**一定是越高的阶次越好吗？\n",
    "\n",
    "\n",
    "![Image Name](https://cdn.kesci.com/upload/image/q33loqharh.png?imageView2/0/w/960/h/960)"
   ]
  },
  {
   "cell_type": "markdown",
   "metadata": {
    "id": "FBE109ECD09142EA8B2C16FAF0717136",
    "jupyter": {},
    "mdEditEnable": false,
    "slideshow": {
     "slide_type": "slide"
    },
    "tags": []
   },
   "source": [
    "注意：兼顾拟合误差和预测误差。防止**过拟合（overfit）**和**欠拟合（underfit）**。"
   ]
  },
  {
   "cell_type": "markdown",
   "metadata": {
    "id": "A08C12BC7E0B45CD8BA6D575DE0D8501",
    "jupyter": {},
    "mdEditEnable": false,
    "slideshow": {
     "slide_type": "slide"
    },
    "tags": []
   },
   "source": [
    "### 一元其他非线性函数拟合"
   ]
  },
  {
   "cell_type": "markdown",
   "metadata": {
    "id": "4D7D5CE0D3554651839EF324CA9D2DC1",
    "jupyter": {},
    "mdEditEnable": false,
    "slideshow": {
     "slide_type": "slide"
    },
    "tags": []
   },
   "source": [
    "这里我们举一个指数拟合的例子与二次函数拟合进行对比。实际上，使用本课程讲到的方法，可以进行任意形式的函数拟合。"
   ]
  },
  {
   "cell_type": "markdown",
   "metadata": {
    "id": "59D95B5EA5F44731A07C020A7CBAF488",
    "jupyter": {},
    "mdEditEnable": false,
    "slideshow": {
     "slide_type": "slide"
    },
    "tags": []
   },
   "source": [
    "$$\n",
    "f_1(x) = x^a + b\n",
    "$$\n",
    "\n",
    "$$\n",
    "f_2(x) = ax^2 + b\n",
    "$$"
   ]
  },
  {
   "cell_type": "code",
   "execution_count": 13,
   "metadata": {
    "id": "12B24EF37EE146439CA8F252A2CDE102",
    "jupyter": {},
    "slideshow": {
     "slide_type": "slide"
    },
    "tags": []
   },
   "outputs": [
    {
     "data": {
      "text/plain": [
       "<matplotlib.legend.Legend at 0x12658b350>"
      ]
     },
     "execution_count": 13,
     "metadata": {},
     "output_type": "execute_result"
    },
    {
     "data": {
      "image/png": "[encoded data removed]",
      "text/plain": [
       "<Figure size 432x288 with 1 Axes>"
      ]
     },
     "metadata": {
      "filenames": {
       "image/png": "/Users/rentongxin/Documents/GitHub/math-models.github.io/Prediction-Model/_build/jupyter_execute/docs/prediction_model_35_1.png"
      }
     },
     "output_type": "display_data"
    }
   ],
   "source": [
    "# 定义f1\n",
    "def f1(x, a, b):  \n",
    "    return x**a + b  \n",
    "# 定义f2\n",
    "def f2(x,a,b):\n",
    "    return a*x**2 + b\n",
    "# 随机生成数据并绘制折线图\n",
    "xdata = np.linspace(0, 4, 50)  \n",
    "y = f1(xdata, 2.5, 1.3)  \n",
    "ydata = y + 4 * np.random.normal(size=len(xdata))  \n",
    "plt.plot(xdata,ydata,'b-') \n",
    "\n",
    "# 开始拟合\n",
    "popt1, pcov1 = curve_fit(f1, xdata, ydata)   # 使用f1进行拟合\n",
    "popt2, pcov2 = curve_fit(f2, xdata, ydata)    # 使用f2进行拟合\n",
    "\n",
    "y1 = [f1(i, popt1[0],popt1[1]) for i in xdata]\n",
    "y2 = [f2(i, popt2[0],popt2[1]) for i in xdata]\n",
    "plt.plot(xdata,y1,'--',label = 'exp')  \n",
    "plt.plot(xdata,y2,'--',label = 'para') \n",
    "plt.legend()"
   ]
  },
  {
   "cell_type": "markdown",
   "metadata": {
    "id": "9F371968C8514D48A74864CAF093D81C",
    "jupyter": {},
    "mdEditEnable": false,
    "slideshow": {
     "slide_type": "slide"
    },
    "tags": []
   },
   "source": [
    "## 时间序列方法"
   ]
  },
  {
   "cell_type": "markdown",
   "metadata": {
    "id": "77C52AF7B0674E8B87EE5FE1D7CE0FFF",
    "jupyter": {},
    "mdEditEnable": false,
    "slideshow": {
     "slide_type": "slide"
    },
    "tags": []
   },
   "source": [
    "### 移动平均法\n",
    "\n",
    "移动平均法是根据时间序列资料逐渐推移，依次计算包含一定项数的时序平均数，以反映长期趋势的方法。当时间序列的数值由于受周期变动和不规则变动的影响，起伏较大，不易显示出发展趋势时，可用移动平均法，消除这些因素的影响，分析、预测序列的长期趋势。移动平均法有**简单移动平均法，加权移动平均法，趋势移动平均法**等。"
   ]
  },
  {
   "cell_type": "markdown",
   "metadata": {
    "id": "7219D64334D247FE8912D04E5E9EBBC1",
    "jupyter": {},
    "mdEditEnable": false,
    "slideshow": {
     "slide_type": "slide"
    },
    "tags": []
   },
   "source": [
    "#### 简单移动平均法\n",
    "\n",
    "当预测目标的基本趋势是在某一水平上下波动时，可用一次简单移动平均方法 (Simple Moving Average Method) 建立预测模型。设观测序列为$y_{1}, \\cdots, y_{T}$,取移动平均的项数 $N < T$,\n",
    "\n",
    "$$\n",
    "\\hat{y}_{t+1}=\\frac{1}{N}\\left(\\hat{y}_{t}+\\cdots+\\hat{y}_{t-N+1}\\right), t=N, N+1, \\cdots,\n",
    "$$\n",
    "\n",
    "即：最近$N$期序列值的平均值作为未来各期的预测结果。\n",
    "\n",
    "一般$N$取值范围：$5 \\leq N \\leq 200$。当历史序列的基本趋势变化不大且序列中随机变动成分较多时，$N$ 的取值应较大一些。否则$N$的取值应小一些。在有确定的季节变动周期的资料中，移动平均的项数应取周期长度。选择最佳$N$值的一个有效方法是，比较若干模型的预测误差。预测标准误差最小者为好。"
   ]
  },
  {
   "cell_type": "markdown",
   "metadata": {
    "id": "D13AFCBD987C4187AC09BFE5BCF48D60",
    "jupyter": {},
    "mdEditEnable": false,
    "slideshow": {
     "slide_type": "slide"
    },
    "tags": []
   },
   "source": [
    "```{admonition} 例\n",
    "某企业1-11月份的销售收入时间序列如下表所示。试用一次简单移动平均预测其12月份的销售收入。\n",
    "\n",
    "| 月份     \t| 1     \t| 2     \t| 3     \t| 4      \t| 5      \t| 6     \t|\n",
    "|----------\t|-------\t|-------\t|-------\t|--------\t|--------\t|-------\t|\n",
    "| 销售收入 \t| 533.8 \t| 574.6 \t| 606.9 \t| 649.8  \t| 705.1  \t| 772.0 \t|\n",
    "| 月份     \t| 7     \t| 8     \t| 9     \t| 10     \t| 11     \t|       \t|\n",
    "| 销售收入 \t| 816.4 \t| 892.7 \t| 963.9 \t| 1015.1 \t| 1102.7 \t|       \t|\n",
    "\n",
    "\n",
    "```\n",
    "\n",
    "\n",
    "\n",
    "**解** ：分别取$N=4,N=5$的预测公式\n",
    "\n",
    "$$\n",
    "\\begin{aligned}\n",
    "&\\hat{y}_{t+1}^{(1)}=\\frac{y_{t}+y_{t-1}+y_{t-2}+y_{t-3}}{4}, \\quad t=4,5, \\cdots, 11\\\\\n",
    "&\\hat{y}_{t+1}^{(1)}=\\frac{y_{t}+y_{t-1}+y_{t-2}+y_{t-3}+y_{t-4}}{5}, \\quad t=5, \\cdots, 11\n",
    "\\end{aligned}\n",
    "$$\n",
    "\n",
    "当$N=4$时，预测值$\\hat{y}_{12}^{(1)}=993.6$预测的标准误差为\n",
    "\n",
    "$$\n",
    "S_{1}=\\sqrt{\\frac{\\sum_{i=5}^{11}\\left(\\hat{y}_{t}^{(1)}-y_{t}\\right)^{2}}{11-4}}=150.5\n",
    "$$\n",
    "\n",
    "当$N=5$时，预测值$\\hat{y}_{12}^{(1)}=958.2$预测的标准误差为\n",
    "\n",
    "$$\n",
    "S_{2}=\\sqrt{\\frac{\\sum_{t=6}^{11}\\left(\\hat{y}_{t}^{(1)}-y_{t}\\right)^{2}}{11-5}}=182.4\n",
    "$$\n",
    "\n",
    "计算结果表明，$N = 4$时，预测的标准误差较小，所以选取$N = 4$。预测第 12 月份的销售收入为993.6。"
   ]
  },
  {
   "cell_type": "code",
   "execution_count": 14,
   "metadata": {
    "id": "414B2343F1B74FF38A96E596D211E047",
    "jupyter": {},
    "slideshow": {
     "slide_type": "slide"
    },
    "tags": []
   },
   "outputs": [
    {
     "data": {
      "text/plain": [
       "<matplotlib.collections.PathCollection at 0x1268daf90>"
      ]
     },
     "execution_count": 14,
     "metadata": {},
     "output_type": "execute_result"
    },
    {
     "data": {
      "image/png": "[encoded data removed]",
      "text/plain": [
       "<Figure size 432x288 with 1 Axes>"
      ]
     },
     "metadata": {
      "filenames": {
       "image/png": "/Users/rentongxin/Documents/GitHub/math-models.github.io/Prediction-Model/_build/jupyter_execute/docs/prediction_model_40_1.png"
      }
     },
     "output_type": "display_data"
    }
   ],
   "source": [
    "x = [1, 2, 3, 4, 5, 6, 7, 8, 9, 10, 11]  # 输入x值\n",
    "y = [\n",
    "    533.8,\n",
    "    574.6,\n",
    "    606.9,\n",
    "    649.8,\n",
    "    705.1,\n",
    "    772.0,\n",
    "    816.4,\n",
    "    892.7,\n",
    "    963.9,\n",
    "    1015.1,\n",
    "    1102.7]  # 输入y值\n",
    "plt.scatter(x, y)  # 绘制散点图\n",
    "N = 4  # 选择N=4\n",
    "y12 = np.mean(y[-4:])  # 进行移动平均预测\n",
    "plt.scatter(12, y12)  # 绘制移动平均结果"
   ]
  },
  {
   "cell_type": "markdown",
   "metadata": {
    "id": "F55E5C36DFEC4FFCAB9A0CF6A842F001",
    "jupyter": {},
    "mdEditEnable": false,
    "slideshow": {
     "slide_type": "slide"
    },
    "tags": []
   },
   "source": [
    "简单移动平均法**只适合做近期预测**，而且是预测目标的**发展趋势变化不大**的情况。如果目标的发展趋势存在其它的变化，采用简单移动平均法就会产生较大的预测偏差和滞后。"
   ]
  },
  {
   "cell_type": "markdown",
   "metadata": {
    "id": "5D686A1C954C48C684065C9066A729A5",
    "jupyter": {},
    "mdEditEnable": false,
    "slideshow": {
     "slide_type": "slide"
    },
    "tags": []
   },
   "source": [
    "#### 加权移动平均法\n",
    "\n",
    "在简单移动平均公式中，每期数据在求平均时的作用是等同的。但是，每期数据所包含的信息量不一样，近期数据包含着更多关于未来情况的信心。因此，把各期数据等同看待是不尽合理的，应考虑各期数据的重要性，对近期数据给予较大的权重，这就是加权移动平均法(Weighted Moving Average Method)的基本思想。\n",
    "\n",
    "\n",
    "设观测序列为$y_{1}, \\cdots, y_{T}$,加权移动平均值计算公式为：\n",
    "\n",
    "$$\n",
    "\\hat{y}_{t+1}=\\frac{w_{1} y_{t}+w_{2} y_{t-1}+\\cdots+w_{N} y_{t-N+1}}{w_{1}+w_{2}+\\cdots+w_{N}}, t \\geq N\n",
    "$$\n",
    "\n",
    "\n",
    "式中，$\\hat{y}_{t+1}$为$t+1$期的预测值；$w_i$为$y_{t-i+1}$的权数，它体现了相应的$y_t$在加权平均数中的重要性。"
   ]
  },
  {
   "cell_type": "code",
   "execution_count": 15,
   "metadata": {
    "id": "8067084470DD4E42844E2CA507432686",
    "jupyter": {},
    "slideshow": {
     "slide_type": "slide"
    },
    "tags": []
   },
   "outputs": [
    {
     "data": {
      "text/plain": [
       "<matplotlib.legend.Legend at 0x1268cbc50>"
      ]
     },
     "execution_count": 15,
     "metadata": {},
     "output_type": "execute_result"
    },
    {
     "data": {
      "image/png": "[encoded data removed]",
      "text/plain": [
       "<Figure size 432x288 with 1 Axes>"
      ]
     },
     "metadata": {
      "filenames": {
       "image/png": "/Users/rentongxin/Documents/GitHub/math-models.github.io/Prediction-Model/_build/jupyter_execute/docs/prediction_model_43_1.png"
      }
     },
     "output_type": "display_data"
    }
   ],
   "source": [
    "x = [1, 2, 3, 4, 5, 6, 7, 8, 9, 10, 11]  # 输入x值\n",
    "y = [\n",
    "    533.8,\n",
    "    574.6,\n",
    "    606.9,\n",
    "    649.8,\n",
    "    705.1,\n",
    "    772.0,\n",
    "    816.4,\n",
    "    892.7,\n",
    "    963.9,\n",
    "    1015.1,\n",
    "    1102.7]  # 输入y值\n",
    "plt.scatter(x, y)  # 绘制散点图\n",
    "N = 4  # 选择移动平均项数\n",
    "w = [0.1, 0.2, 0.3, 0.4]  # 指定权重\n",
    "y12 = np.mean(y[-4:])  # 简单移动平均预测12月份收入\n",
    "y12_weighted = np.dot(y[-4:], w)  # 加权移动平均预测12月份收入\n",
    "plt.scatter(12, y12, label='Simple Moving Average')  # 绘制简单移动平均结果\n",
    "plt.scatter(12, y12_weighted, label='Weighted Moving Average')  # 绘制加权移动平均结果\n",
    "plt.legend()  # 加入图例"
   ]
  },
  {
   "cell_type": "markdown",
   "metadata": {
    "id": "D3D4E934EE014E5F9BD6DCAD95E46F2F",
    "jupyter": {},
    "mdEditEnable": false,
    "slideshow": {
     "slide_type": "slide"
    },
    "tags": []
   },
   "source": [
    "在加权移动平均法中， $w_t$的选择，同样具有一定的经验性。一般的原则是：近期数据的权数大，远期数据的权数小。至于大到什么程度和小到什么程度，则需要按照预测者对序列的了解和分析来确定。"
   ]
  },
  {
   "cell_type": "markdown",
   "metadata": {
    "id": "4CDA7A76083F4426A17061705B7497F4",
    "jupyter": {},
    "mdEditEnable": false,
    "slideshow": {
     "slide_type": "slide"
    },
    "tags": []
   },
   "source": [
    "#### 趋势移动平均法"
   ]
  },
  {
   "cell_type": "markdown",
   "metadata": {
    "id": "7E99CA96A1A14F459F2E7AD29E74A68C",
    "jupyter": {},
    "mdEditEnable": false,
    "slideshow": {
     "slide_type": "slide"
    },
    "tags": []
   },
   "source": [
    "下面讨论如何利用移动平均的滞后偏差建立直线趋势预测模型。设时间序列$\\left\\{y_{t}\\right\\}$从某时期开始具有直线趋势，且认为未来时期也按此直线趋势变化，则可设此直线趋势预测模型为\n",
    "\n",
    "$$\n",
    "\\hat{y}_{t+T}=a_{t}+b_{t} T, \\quad T=1,2, \\cdots \n",
    "\\tag{1}\n",
    "$$\n",
    "\n",
    "\n",
    "其中 $t$ 为当前时期数；$T$ 为由$t$至预测期的时期数； $a_t$ 为截距； $b_t$ 为斜率。两者又称为平滑系数。\n",
    "\n",
    "\n",
    "现在，我们根据移动平均值来确定平滑系数。由模型(1)可知\n",
    "\n",
    "$$\n",
    "\\begin{aligned}\n",
    "&a_{t}=y_{t}\\\\\n",
    "&y_{t-1}=y_{t}-b_{t}\\\\\n",
    "&y_{t-2}=y_{t}-2 b_{t}\\\\\n",
    "&y_{t-N+1}=y_{t}-(N-1) b_{t}\n",
    "\\end{aligned}\n",
    "$$\n",
    "\n",
    "所以\n",
    "\n",
    "$$\n",
    "\\begin{aligned}\n",
    "M_{t}^{(1)} &=\\frac{y_{t}+y_{t-1}+\\cdots+y_{t-N+1}}{N}=\\frac{y_{t}+\\left(y_{t}-b_{t}\\right)+\\cdots+\\left[y_{t}-(N-1) b_{t}\\right]}{N} \\\\\n",
    "&=\\frac{N y_{t}-[1+2+\\cdots+(N-1)] b_{t}}{N}=y_{t}-\\frac{N-1}{2} b_{t}\n",
    "\\end{aligned}\n",
    "$$\n",
    "\n",
    "因此\n",
    "\n",
    "$$\n",
    "y_{t}-M_{t}^{(1)}=\\frac{N-1}{2} b_{t}\n",
    "\\tag{2}\n",
    "$$\n",
    "\n",
    "类似以上的推导，我们还可以得到\n",
    "\n",
    "$$\n",
    "y_{t-1}-M_{t-1}^{(1)}=\\frac{N-1}{2} b_{t}\n",
    "$$\n",
    "\n",
    "所以\n",
    "\n",
    "$$\n",
    "y_{t}-y_{t-1}=M_{t}^{(1)}-M_{t-1}^{(1)}=b_{t}\n",
    "$$\n",
    "\n",
    "类似式（2）的推导，可得\n",
    "\n",
    "$$\n",
    "M_{t}^{(1)}-M_{t}^{(2)}=\\frac{N-1}{2} b_{t}\n",
    "\\tag{3}\n",
    "$$\n",
    "\n",
    "于是，由式（2）和式（3）可得平滑系数的计算公式为\n",
    "\n",
    "$$\n",
    "\\left\\{\\begin{array}{l}\n",
    "{a_{t}=2 M_{t}^{(1)}-M_{t}^{(2)}} \\\\\n",
    "{b_{t}=\\dfrac{2}{N-1}\\left(M_{t}^{(1)}-M_{t}^{(2)}\\right)}\n",
    "\\end{array}\\right.\n",
    "$$"
   ]
  },
  {
   "cell_type": "markdown",
   "metadata": {
    "id": "54347845FF364202879666ADDE795E7E",
    "jupyter": {},
    "mdEditEnable": false,
    "slideshow": {
     "slide_type": "slide"
    },
    "tags": []
   },
   "source": [
    "继续沿用上面的例子，进行趋势移动平均的计算"
   ]
  },
  {
   "cell_type": "code",
   "execution_count": 16,
   "metadata": {
    "id": "6E8DFF85E62445DCB3EB8713FCD464A8",
    "jupyter": {},
    "slideshow": {
     "slide_type": "slide"
    },
    "tags": []
   },
   "outputs": [],
   "source": [
    "# 趋势移动平均代码\n",
    "def moveingAverage(data,N):\n",
    "    temp = data.copy()\n",
    "    for i in range(len(temp)):\n",
    "        if i >=  N :\n",
    "            temp[i] = np.mean(data[i-N:i])\n",
    "        else:\n",
    "            temp[i] = 0\n",
    "    return temp"
   ]
  },
  {
   "cell_type": "code",
   "execution_count": 17,
   "metadata": {
    "id": "6963807546EB44C8866C094753B8C64D",
    "jupyter": {},
    "slideshow": {
     "slide_type": "slide"
    },
    "tags": []
   },
   "outputs": [
    {
     "data": {
      "text/plain": [
       "<matplotlib.legend.Legend at 0x12649c190>"
      ]
     },
     "execution_count": 17,
     "metadata": {},
     "output_type": "execute_result"
    },
    {
     "data": {
      "image/png": "[encoded data removed]",
      "text/plain": [
       "<Figure size 432x288 with 1 Axes>"
      ]
     },
     "metadata": {
      "filenames": {
       "image/png": "/Users/rentongxin/Documents/GitHub/math-models.github.io/Prediction-Model/_build/jupyter_execute/docs/prediction_model_49_1.png"
      }
     },
     "output_type": "display_data"
    }
   ],
   "source": [
    "x = [1,2,3,4,5,6,7,8,9,10,11]\n",
    "y =  [533.8,574.6,606.9,649.8,705.1,772.0 ,816.4, 892.7,963.9,1015.1,1102.7]\n",
    "plt.scatter(x,y)\n",
    "N = 4\n",
    "w = [0.1,0.2,0.3,0.4]\n",
    "y12 = np.mean(y[-4:])\n",
    "y12_weighted = np.dot(y[-4:],w)\n",
    "\n",
    "# 趋势移动平均代码\n",
    "N = 4\n",
    "MA1 = moveingAverage(y,N)\n",
    "MA2 = moveingAverage(MA1,N)\n",
    "at = 2 * MA1[-1] - MA2[-1]\n",
    "bt = 2/(N-1) * (MA1[-1] - MA2[-1])\n",
    "\n",
    "y_hat = at + bt * 1\n",
    "\n",
    "plt.scatter(12,y12,label = 'Simple Moving Average')\n",
    "plt.scatter(12,y12_weighted,label = 'Weighted Moving Average')\n",
    "plt.scatter(12,y_hat,label = 'Moving Average Concerning Trends')\n",
    "plt.legend()"
   ]
  },
  {
   "cell_type": "markdown",
   "metadata": {
    "id": "90779B55B243411F929B6218EA895E03",
    "jupyter": {},
    "mdEditEnable": false,
    "slideshow": {
     "slide_type": "slide"
    },
    "tags": []
   },
   "source": [
    "趋势移动平均法对于同时存在直线趋势与周期波动的序列，是一种既能反映趋势变化，又可以有效地分离出来周期变动的方法。"
   ]
  },
  {
   "cell_type": "markdown",
   "metadata": {
    "id": "2A1EE9459F33448287EAFAA2E4272303",
    "jupyter": {},
    "mdEditEnable": false,
    "slideshow": {
     "slide_type": "slide"
    },
    "tags": []
   },
   "source": [
    "#### 自适应滤波法"
   ]
  },
  {
   "cell_type": "markdown",
   "metadata": {
    "id": "E2836B270934478D870BF8610E71DB3C",
    "jupyter": {},
    "mdEditEnable": false,
    "slideshow": {
     "slide_type": "slide"
    },
    "tags": []
   },
   "source": [
    "自适应滤波法（Adaptive filtering）与移动平均法、指数平滑法一样，也是以时间序列的历史观测值进行某种加权平均来预测的，它要寻找一组“最佳”的权数，其办法是先用一组给定的权数来计算一个预测值，然后计算预测误差，再根据预测误差调整权数以减少误差。这样反复进行，直至找出一组“最佳”权数，使误差减少到最低限度。由于这种调整权数的过程与通讯工程中的传输噪声过滤过程极为接近，故称为自适应滤波法。\n",
    "\n",
    "自适应滤波法的基本预测公式为\n",
    "\n",
    "$$\n",
    "\\hat{y}_{t+1}=w_{1} y_{t}+w_{2} y_{t-1}+\\cdots+w_{N} y_{t-N+1}=\\sum_{i=1}^{N} w_{i} y_{t-i+1}\n",
    "$$\n",
    "\n",
    "式中,$\\hat{y}_{t+1}$为第$t +1$期的预测值,$w_i$为第$t-i+1$期的观测权数。其调整权数的公式为\n",
    "\n",
    "$$\n",
    "w_{i}^{\\prime}=w_{i}+2 k \\cdot e_{i+1} y_{t-i+1}\n",
    "$$\n",
    "\n",
    "式中,$i=1,2, \\cdots, N, t=N, N+1, \\cdots, n$,n为序列数据的个数,$w_i$ 为调整前的第$i$个权数，$w_{i}^{\\prime}$为调整后的第$i$个权数，$k$为学习常数，$e_{i+1}$为第$t +1$期的预测误差。\n",
    "\n",
    "上式表明：调整后的一组权数应等于旧的一组权数加上误差调整项，这个调整项包括预测误差、原观测值和学习常数等三个因素。学习常数$k$的大小决定权数调整的速度。\n",
    "\n",
    "\n",
    "下面举一个简单的例子来说明此法的全过程。设有一个时间序列包括10 个观测值，如下表所示。试用自适应滤波法，以两个权数来求第11 期的预测值。"
   ]
  },
  {
   "cell_type": "markdown",
   "metadata": {
    "id": "C39ABF30BCA944E98C55FA3F0AFB550B",
    "jupyter": {},
    "mdEditEnable": false,
    "slideshow": {
     "slide_type": "slide"
    },
    "tags": []
   },
   "source": [
    "| 时期   \t| 1   \t| 2   \t| 3   \t| 4   \t| 5   \t| 6   \t| 7   \t| 8   \t| 9   \t| 10 \t|\n",
    "|--------\t|-----\t|-----\t|-----\t|-----\t|-----\t|-----\t|-----\t|-----\t|-----\t|----\t|\n",
    "| 观测值 \t| 0.1 \t| 0.2 \t| 0.3 \t| 0.4 \t| 0.5 \t| 0.6 \t| 0.7 \t| 0.8 \t| 0.9 \t| 1  \t|"
   ]
  },
  {
   "cell_type": "markdown",
   "metadata": {
    "id": "B07B707D0B4C477782F1F87A43814235",
    "jupyter": {},
    "mdEditEnable": false,
    "slideshow": {
     "slide_type": "slide"
    },
    "tags": []
   },
   "source": [
    "本例中$N = 2$。取初始权数 $w_1 = 0.5$， $w_2 = 0.5$ ，并设$k = 0.9$。$t$的取值由$N = 2$开始，当$t=2$时："
   ]
  },
  {
   "cell_type": "markdown",
   "metadata": {
    "id": "F7EAACCA156745C29616C5C53B91663B",
    "jupyter": {},
    "mdEditEnable": false,
    "slideshow": {
     "slide_type": "slide"
    },
    "tags": []
   },
   "source": [
    "1. 按预测公式,求第$t +1= 3$期的预测值。\n",
    "\n",
    "$$\n",
    "\\hat{y}_{t+1}=\\hat{y}_{3}=w_{1} y_{2}+w_{2} y_{1}=0.15\n",
    "$$\n",
    "\n",
    "2. 计算预测误差。\n",
    "\n",
    "$$\n",
    "e_{t+1}=e_{3}=y_{3}-\\hat{y}_{3}=0.3-0.15=0.15\n",
    "$$\n",
    "\n",
    "3. 更新权重\n",
    "\n",
    "$$\n",
    "w_{i}^{\\prime}=w_{i}+2 k \\cdot e_{i+1} y_{t-i+1}\n",
    "$$\n",
    "展开就是，\n",
    "\n",
    "$$\n",
    "\\begin{aligned}\n",
    "&w_{1}^{\\prime}=w_{1}+2 k e_{3} y_{2}=0.554\\\\\n",
    "&w_{2}^{\\prime}=w_{2}+2 k e_{3} y_{1}=0.527\n",
    "\\end{aligned}\n",
    "$$"
   ]
  },
  {
   "cell_type": "markdown",
   "metadata": {
    "id": "849C04C6310C498DB185469C83B5ED14",
    "jupyter": {},
    "mdEditEnable": false,
    "slideshow": {
     "slide_type": "slide"
    },
    "tags": []
   },
   "source": [
    "依次类推，我们可以按照同样的规律从4-10继续调整权重，这时，第一轮调整就此结束。\n",
    "\n",
    "把现有的新权数作为初始权数，重新开始$t = 2$的过程。这样反复进行下去，到预测误差（指新一轮的预测总误差）没有明显改进时，就认为获得了一组“最佳”权数，能实际用来预测第11 期的数值。本例在调整过程中，可使得误差降为零，而权数达到稳定不变，最后得到的“最佳”权数为\n",
    "\n",
    "$$\n",
    "w_{1}^{\\prime}=2.0, \\quad w_{2}^{\\prime}=-1.0\n",
    "$$\n",
    "\n",
    "用“最佳”权数预测第 11 期的取值\n",
    "\n",
    "$$\n",
    "\\hat{y}_{11}=w_{1}^{\\prime} y_{10}+w_{2}^{\\prime} y_{9}=1.1\n",
    "$$\n",
    "\n",
    "\n",
    "在实际应用中，权数调整计算工作量可能很大，必须借助于计算机才能实现。"
   ]
  },
  {
   "cell_type": "code",
   "execution_count": 18,
   "metadata": {
    "id": "7FA6E796900840E384B8200941899ED0",
    "jupyter": {},
    "slideshow": {
     "slide_type": "slide"
    },
    "tags": []
   },
   "outputs": [],
   "source": [
    "yt=[0.1 * i for i in range(1,11)]\n",
    "m=len(yt)\n",
    "k=0.9\n",
    "N=2\n",
    "Terr=10000\n",
    "w=np.ones(N)/N\n",
    "while abs(Terr)>0.00001:\n",
    "    Terr=[]\n",
    "    for j in range(N+1,m):\n",
    "        yhat = np.dot(w,yt[j-N:j])\n",
    "        err = yt[j] - yhat\n",
    "        Terr.append(err)\n",
    "        w = w + 2*k*err*np.array(yt[j-N:j])\n",
    "    Terr = max(Terr)"
   ]
  },
  {
   "cell_type": "markdown",
   "metadata": {
    "id": "B5F1917B12204DB9BF1DFCAE9698B16C",
    "jupyter": {},
    "mdEditEnable": false,
    "slideshow": {
     "slide_type": "slide"
    },
    "tags": []
   },
   "source": [
    "**$N$, $k$值和初始权数的确定**\n",
    "\n",
    "在开始调整权数时，首先要确定权数个数$N$和学习常数$k$ 。一般说来，当时间序列的观测值呈季节变动时， $N$ 应取季节性长度值。如序列以一年为周期进行季节变动时，若数据是月度的，则取$N = 12$，若季节是季度的，则取$N = 4$。如果时间序列无明显的周期变动，则可用自相关系数法来确定，即取$N$为最高自相关系数的滞后时期。\n",
    "\n",
    "$k$的取值一般可定为$1/N$ ，也可以用不同的$k$值来进行计算，以确定一个能使$S$最小的$k$值。\n",
    "\n",
    "\n",
    "初始权数的确定也很重要，如无其它依据，也可用$1/ N$ 作为初始权系数用，即\n",
    "\n",
    "$$\n",
    "w_{i}=\\frac{1}{N}(i=1,2, \\cdots, N)\n",
    "$$\n",
    "\n",
    "自适应滤波法有两个明显的优点：\n",
    "- 一是技术比较简单，可根据预测意图来选择权数的个数和学习常数，以控制预测。也可以由计算机自动选定。\n",
    "- 二是它使用了全部历史数据来寻求最佳权系数，并随数据轨迹的变化而不断更新权数，从而不断改进预测。由于自适应滤波法的预测模型简单，又可以在计算机上对数据进行处理，所以这种预测方法应用较为广泛。"
   ]
  },
  {
   "cell_type": "markdown",
   "metadata": {
    "id": "E6CA2716077D4C239E0DD171B2079A95",
    "jupyter": {},
    "mdEditEnable": false,
    "slideshow": {
     "slide_type": "slide"
    },
    "tags": []
   },
   "source": [
    "## 预测方法总结\n",
    "\n",
    "\n",
    "**回归分析法：** 适合中、小样本预测\n",
    "**时间序列方法：** 适合中、大样本的随机因素或周期特征的未来趋势未来预测"
   ]
  },
  {
   "cell_type": "markdown",
   "metadata": {
    "id": "6807386C92834564AC21FDB8AD30593E",
    "jupyter": {},
    "mdEditEnable": false,
    "slideshow": {
     "slide_type": "slide"
    },
    "tags": []
   },
   "source": [
    "## 练习\n",
    "\n",
    "\n",
    "``` {admonition} 练习1\n",
    "给出下面的`interest rate`，`unemployment rate`和`stock index price`的数据，请你通过多元线性回归的方法，通过`interest rate`，`unemployment rate`来预测`stock index price`。给出你所得到的计算公式。你可以调用 `sklearn.linear_model`中的 `LinearRegression` 函数，关于该函数的使用方法，可以参考官方文档。\n",
    "\n",
    "![Image Name](https://cdn.kesci.com/upload/image/qgbqq4833c.png?imageView2/0/w/960/h/960)\n",
    "```"
   ]
  }
 ],
 "metadata": {
  "jupytext": {
   "text_representation": {
    "extension": ".md",
    "format_name": "myst",
    "format_version": 0.12,
    "jupytext_version": "1.6.0"
   }
  },
  "kernelspec": {
   "display_name": "Python 3",
   "language": "python",
   "name": "python3"
  },
  "language_info": {
   "codemirror_mode": {
    "name": "ipython",
    "version": 3
   },
   "file_extension": ".py",
   "mimetype": "text/x-python",
   "name": "python",
   "nbconvert_exporter": "python",
   "pygments_lexer": "ipython3",
   "version": "3.7.9"
  },
  "source_map": [
   14,
   20,
   43,
   77,
   130,
   134,
   159,
   163,
   177,
   190,
   204,
   208,
   220,
   224,
   228,
   240,
   244,
   262,
   276,
   280,
   338,
   342,
   359,
   368,
   372,
   386,
   400,
   412,
   437,
   441,
   499,
   506,
   510,
   514,
   518,
   528,
   559,
   563,
   569,
   583,
   622,
   649,
   653,
   669,
   700,
   704,
   708,
   779,
   783,
   802,
   833,
   837,
   841,
   864,
   870,
   874,
   902,
   921,
   945,
   964,
   972
  ]
 },
 "nbformat": 4,
 "nbformat_minor": 4
}