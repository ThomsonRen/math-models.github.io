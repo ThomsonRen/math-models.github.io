{
 "cells": [
  {
   "cell_type": "code",
   "execution_count": 1,
   "metadata": {
    "id": "AC834A7FCB934CB2863FC00E1156B65B",
    "jupyter": {},
    "slideshow": {
     "slide_type": "slide"
    },
    "tags": []
   },
   "outputs": [],
   "source": [
    "import numpy as np \n",
    "from scipy import optimize as op "
   ]
  },
  {
   "cell_type": "code",
   "execution_count": 2,
   "metadata": {
    "id": "49AEA4C7645A403F94260F61581CDE24",
    "jupyter": {},
    "slideshow": {
     "slide_type": "slide"
    },
    "tags": []
   },
   "outputs": [],
   "source": [
    "# 给出变量取值范围\n",
    "x1=(0,7)  \n",
    "x2=(0,7)\n",
    "x3=(0,7)"
   ]
  },
  {
   "cell_type": "code",
   "execution_count": 3,
   "metadata": {
    "id": "0248413212414B389428198F6387C65E",
    "jupyter": {},
    "slideshow": {
     "slide_type": "slide"
    },
    "tags": []
   },
   "outputs": [],
   "source": [
    "c=np.array([-2,-3,5])   # 目标函数系数,3x1列向量\n",
    "A=np.array([[-2,5,-1],[1,3,1]]) # 不等式约束系数A，2x3维矩阵\n",
    "b=np.array([-10,12])  # 等式约束系数b, 2x1维列向量\n",
    "A_eq=np.array([[1,1,1]])  # 等式约束系数Aeq，3x1维列向量\n",
    "b_eq=np.array([7])   # 等式约束系数beq，1x1数值"
   ]
  },
  {
   "cell_type": "code",
   "execution_count": 4,
   "metadata": {
    "id": "AAB2CDA7DE6F4DCCA94896CFB8201976",
    "jupyter": {
     "source_hidden": false
    },
    "slideshow": {
     "slide_type": "slide"
    },
    "tags": []
   },
   "outputs": [
    {
     "data": {
      "text/plain": [
       "     con: array([1.19830323e-08])\n",
       "     fun: -14.571428542312137\n",
       " message: 'Optimization terminated successfully.'\n",
       "     nit: 5\n",
       "   slack: array([-3.70230904e-08,  3.85714287e+00])\n",
       "  status: 0\n",
       " success: True\n",
       "       x: array([6.42857141e+00, 5.71428573e-01, 9.82192085e-10])"
      ]
     },
     "execution_count": 4,
     "metadata": {},
     "output_type": "execute_result"
    }
   ],
   "source": [
    "res=op.linprog(c,A,b,A_eq,b_eq,bounds=(x1,x2,x3)) #调用函数进行求解\n",
    "res"
   ]
  },
  {
   "cell_type": "code",
   "execution_count": 5,
   "metadata": {
    "id": "12B9743A1CF84381B90198E9CC14DF2E",
    "jupyter": {},
    "slideshow": {
     "slide_type": "slide"
    },
    "tags": []
   },
   "outputs": [
    {
     "data": {
      "text/plain": [
       "     con: array([], dtype=float64)\n",
       "     fun: 8.000000000000306\n",
       " message: 'Optimization terminated successfully.'\n",
       "     nit: 4\n",
       "   slack: array([ 8.81072992e-13, -2.70006240e-13])\n",
       "  status: 0\n",
       " success: True\n",
       "       x: array([0.91155217, 1.63267174, 1.27888043])"
      ]
     },
     "execution_count": 5,
     "metadata": {},
     "output_type": "execute_result"
    }
   ],
   "source": [
    "#导入相关库\n",
    "import numpy as np\n",
    "from scipy import optimize as op\n",
    "\n",
    "#定义决策变量范围\n",
    "x1=(0,None)\n",
    "x2=(0,None)\n",
    "x3=(0,None)\n",
    "\n",
    "#定义目标函数系数\n",
    "c=np.array([2,3,1]) \n",
    "\n",
    "#定义约束条件系数\n",
    "A_ub=np.array([[-1,-4,-2],[-3,-2,0]])\n",
    "B_ub=np.array([-10,-6])\n",
    "\n",
    "#求解\n",
    "res=op.linprog(c,A_ub,B_ub,bounds=(x1,x2,x3))\n",
    "res"
   ]
  },
  {
   "cell_type": "code",
   "execution_count": 6,
   "metadata": {
    "id": "711F665BAF8141A396B9EE6D33C60D30",
    "jupyter": {},
    "slideshow": {
     "slide_type": "slide"
    },
    "tags": []
   },
   "outputs": [],
   "source": [
    "import numpy as np\n",
    "from scipy.optimize import minimize"
   ]
  },
  {
   "cell_type": "code",
   "execution_count": 7,
   "metadata": {
    "id": "239F91102CCD465E8571256AFBC1FD04",
    "jupyter": {},
    "slideshow": {
     "slide_type": "slide"
    },
    "tags": []
   },
   "outputs": [],
   "source": [
    "# 定义目标函数\n",
    "def objective(x):\n",
    "    return x[0] ** 2 + x[1]**2 + x[2]**2 +8\n",
    "\n",
    "# 定义约束条件\n",
    "def constraint1(x):\n",
    "    return x[0] ** 2 - x[1] + x[2]**2  # 不等约束\n",
    "\n",
    "def constraint2(x):\n",
    "    return -(x[0] + x[1]**2 + x[2]**2-20)  # 不等约束\n",
    "\n",
    "def constraint3(x):\n",
    "    return -x[0] - x[1]**2 + 2        # 等式约束\n",
    "\n",
    "def constraint4(x):\n",
    "    return x[1] + 2*x[2]**2 -3           # 等式约束"
   ]
  },
  {
   "cell_type": "code",
   "execution_count": 8,
   "metadata": {
    "id": "D236B180952749E8A583A5D5D8B39418",
    "jupyter": {},
    "slideshow": {
     "slide_type": "slide"
    },
    "tags": []
   },
   "outputs": [],
   "source": [
    "con1 = {'type': 'ineq', 'fun': constraint1}\n",
    "con2 = {'type': 'ineq', 'fun': constraint2}\n",
    "con3 = {'type': 'eq', 'fun': constraint3}\n",
    "con4 = {'type': 'eq', 'fun': constraint4}\n",
    "\n",
    "# 4个约束条件\n",
    "cons = ([con1, con2, con3,con4])  \n",
    "\n",
    "# 决策变量的符号约束\n",
    "b = (0.0, None) #即决策变量的取值范围为大于等于0\n",
    "bnds = (b, b ,b) "
   ]
  },
  {
   "cell_type": "code",
   "execution_count": 9,
   "metadata": {
    "id": "E3D280AC40974961A06B71AF29C282FE",
    "jupyter": {},
    "slideshow": {
     "slide_type": "slide"
    },
    "tags": []
   },
   "outputs": [],
   "source": [
    "x0=np.array([0, 0, 0]) #定义初始值\n",
    "solution = minimize(objective, x0, method='SLSQP', \\\n",
    "                    bounds=bnds, constraints=cons)"
   ]
  },
  {
   "cell_type": "code",
   "execution_count": 10,
   "metadata": {
    "id": "ECAA7EC9613349AF95FCEEAE09A36DF4",
    "jupyter": {},
    "slideshow": {
     "slide_type": "slide"
    },
    "tags": []
   },
   "outputs": [
    {
     "name": "stdout",
     "output_type": "stream",
     "text": [
      "目标值: 10.651091840572583\n",
      "最优解为\n",
      "x1 = 0.55\n",
      "x2 = 1.2\n",
      "x3 = 0.95\n"
     ]
    },
    {
     "data": {
      "text/plain": [
       "     fun: 10.651091840572583\n",
       "     jac: array([1.10433471, 2.40651834, 1.89564812])\n",
       " message: 'Optimization terminated successfully'\n",
       "    nfev: 71\n",
       "     nit: 15\n",
       "    njev: 15\n",
       "  status: 0\n",
       " success: True\n",
       "       x: array([0.55216734, 1.20325918, 0.94782404])"
      ]
     },
     "execution_count": 10,
     "metadata": {},
     "output_type": "execute_result"
    }
   ],
   "source": [
    "x = solution.x\n",
    "\n",
    "print('目标值: ' + str(objective(x)))\n",
    "print('最优解为')\n",
    "print('x1 = ' + str(round(x[0],2)))\n",
    "print('x2 = ' + str(round(x[1],2)))\n",
    "print('x3 = ' + str(round(x[2],2)))\n",
    "solution"
   ]
  },
  {
   "cell_type": "code",
   "execution_count": 11,
   "metadata": {
    "id": "60356B473B514FAE81AF11ADE377BD68",
    "jupyter": {},
    "slideshow": {
     "slide_type": "slide"
    },
    "tags": []
   },
   "outputs": [
    {
     "data": {
      "text/plain": [
       "Text(0, 0.5, 'Profit')"
      ]
     },
     "execution_count": 11,
     "metadata": {},
     "output_type": "execute_result"
    },
    {
     "data": {
      "image/png": "[encoded data removed]",
      "text/plain": [
       "<Figure size 720x504 with 1 Axes>"
      ]
     },
     "metadata": {
      "needs_background": "light"
     },
     "output_type": "display_data"
    }
   ],
   "source": [
    "#导入相关库\n",
    "import numpy as np\n",
    "import matplotlib.pyplot as plt\n",
    "%matplotlib inline\n",
    "import scipy.optimize as op\n",
    "\n",
    "#定义a的取值\n",
    "a = 0\n",
    "profit_list = [] #记录最大收益\n",
    "a_list = [] #记录a的取值\n",
    "\n",
    "\n",
    "while a<0.05:\n",
    "    #定义决策变量取值范围\n",
    "    x1=(0,None)\n",
    "\n",
    "    #定义目标函数系数\n",
    "    c=np.array([-0.05,-0.27,-0.19,-0.185,-0.185]) \n",
    "    #定义不等式约束条件左边系数\n",
    "    A = np.hstack((np.zeros((4,1)),np.diag([0.025,0.015,0.055,0.026])))\n",
    "    #定义不等式约束条件右边系数\n",
    "    b=a*np.ones((4,1));\n",
    "    #定义等式约束条件左边系数\n",
    "    Aeq=np.array([[1,1.01,1.02,1.045,1.065]])\n",
    "    #定义等式约束条件右边系数\n",
    "    beq=np.array([1]);\n",
    "    #求解\n",
    "    res=op.linprog(c,A,b,Aeq,beq,bounds=(x1,x1,x1,x1,x1))\n",
    "    profit = -res.fun\n",
    "    profit_list.append(profit)\n",
    "    a_list.append(a)\n",
    "    a = a+0.001\n",
    "\n",
    "#绘制风险偏好a与最大收益的曲线图    \n",
    "plt.figure(figsize=(10,7))\n",
    "plt.plot(a_list,profit_list)\n",
    "plt.xlabel('a');plt.ylabel('Profit')"
   ]
  }
 ],
 "metadata": {
  "jupytext": {
   "text_representation": {
    "extension": ".md",
    "format_name": "myst",
    "format_version": 0.12,
    "jupytext_version": "1.6.0"
   }
  },
  "kernelspec": {
   "display_name": "Python 3",
   "language": "python",
   "name": "python3"
  },
  "language_info": {
   "codemirror_mode": {
    "name": "ipython",
    "version": 3
   },
   "file_extension": ".py",
   "mimetype": "text/x-python",
   "name": "python",
   "nbconvert_exporter": "python",
   "pygments_lexer": "ipython3",
   "version": "3.7.9"
  },
  "source_map": [
   12,
   65,
   94,
   112,
   154,
   274,
   279,
   321,
   354,
   366,
   370,
   384,
   388,
   402,
   412,
   427,
   431,
   444,
   448,
   463,
   492,
   496,
   500,
   506,
   523,
   527,
   539,
   543,
   569,
   573,
   577,
   598,
   602,
   606,
   619,
   623,
   627,
   645,
   649,
   661,
   671,
   681,
   685,
   691,
   705,
   717,
   721,
   725,
   729,
   738,
   760,
   841,
   888,
   897,
   917,
   932,
   951,
   955
  ]
 },
 "nbformat": 4,
 "nbformat_minor": 4
}