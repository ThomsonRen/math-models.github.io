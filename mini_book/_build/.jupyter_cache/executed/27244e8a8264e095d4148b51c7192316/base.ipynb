{
 "cells": [
  {
   "cell_type": "code",
   "execution_count": 1,
   "metadata": {
    "id": "702678C4D8554AB7858E721BB50AFEE0",
    "jupyter": {},
    "slideshow": {
     "slide_type": "slide"
    },
    "tags": []
   },
   "outputs": [
    {
     "name": "stderr",
     "output_type": "stream",
     "text": [
      "No handles with labels found to put in legend.\n"
     ]
    },
    {
     "data": {
      "text/plain": [
       "<matplotlib.legend.Legend at 0x112f5a4d0>"
      ]
     },
     "execution_count": 1,
     "metadata": {},
     "output_type": "execute_result"
    },
    {
     "data": {
      "image/png": "[encoded data removed]",
      "text/plain": [
       "<Figure size 432x288 with 1 Axes>"
      ]
     },
     "metadata": {
      "needs_background": "light"
     },
     "output_type": "display_data"
    }
   ],
   "source": [
    "import numpy as np\n",
    "import matplotlib.pyplot as plt\n",
    "plt.style.use('ggplot')\n",
    "%matplotlib inline\n",
    "x = [0.01*i for i in range(0,1000)]\n",
    "y = [2 *i * np.sin( i) + np.cos(i) for i in x]\n",
    "plt.plot(x,y)\n",
    "plt.legend()"
   ]
  },
  {
   "cell_type": "code",
   "execution_count": 2,
   "metadata": {
    "id": "BB80B7B6D6B24C609456B5FC18A19174",
    "jupyter": {},
    "slideshow": {
     "slide_type": "slide"
    },
    "tags": []
   },
   "outputs": [],
   "source": [
    "# -*-coding:utf-8 -*-\n",
    "#目标求解2*x*sin(x)+cos(x)最大值\n",
    "import random\n",
    "import math\n",
    "import matplotlib.pyplot as plt\n",
    "#初始化生成chromosome_length大小的population_size个个体的二进制基因型种群\n",
    "def species_origin(population_size,chromosome_length):\n",
    "    population=[[]]\n",
    "    #二维列表，包含染色体和基因\n",
    "    for i in range(population_size):\n",
    "        temporary=[]\n",
    "        #染色体暂存器\n",
    "        for j in range(chromosome_length):\n",
    "            temporary.append(random.randint(0,1))\n",
    "            #随机产生一个染色体,由二进制数组成\n",
    "        population.append(temporary)\n",
    "            #将染色体添加到种群中\n",
    "    return population[1:]\n",
    "            # 将种群返回，种群是个二维数组，个体和染色体两维"
   ]
  },
  {
   "cell_type": "code",
   "execution_count": 3,
   "metadata": {
    "id": "166137C0314245FC8C1629C8032D9BBC",
    "jupyter": {},
    "slideshow": {
     "slide_type": "slide"
    },
    "tags": []
   },
   "outputs": [],
   "source": [
    "#从二进制到十进制\n",
    " #input:种群,染色体长度\n",
    "def translation(population,chromosome_length):\n",
    "    temporary=[]\n",
    "    for i in range(len(population)):\n",
    "        total=0\n",
    "        for j in range(chromosome_length):\n",
    "            total+=population[i][j]*(math.pow(2,j))\n",
    "            #从第一个基因开始，每位对2求幂，再求和\n",
    "            # 如：0101 转成十进制为：1 * 2^0 + 0 * 2^1 + 1 * 2^2 + 0 * 2^3 = 1 + 0 + 4 + 0 = 5\n",
    "        temporary.append(total)\n",
    "        #一个染色体编码完成，由一个二进制数编码为一个十进制数\n",
    "    return temporary\n",
    "   # 返回种群中所有个体编码完成后的十进制数"
   ]
  },
  {
   "cell_type": "code",
   "execution_count": 4,
   "metadata": {
    "id": "85C57889BDE148FDB310276CA50DC611",
    "jupyter": {},
    "slideshow": {
     "slide_type": "slide"
    },
    "tags": []
   },
   "outputs": [],
   "source": [
    "# 目标函数相当于环境 对染色体进行筛选，这里是2*sin(x)+cos(x)\n",
    "def function(population,chromosome_length,max_value):\n",
    "    temporary=[]\n",
    "    function1=[]\n",
    "    temporary=translation(population,chromosome_length)\n",
    "    # 暂存种群中的所有的染色体(十进制)\n",
    "    for i in range(len(temporary)):\n",
    "        x=temporary[i]*max_value/(math.pow(2,chromosome_length)-1)\n",
    "        #一个基因代表一个决策变量，其算法是先转化成十进制，然后再除以2的基因个数次方减1(固定值)。\n",
    "        #function1.append(2*math.sin(x)+math.cos(x))\n",
    "        function1.append(2*x*math.sin( x)+math.cos(x))\n",
    "        #这里将2*sin(x)+cos(x)作为目标函数，也是适应度函数\n",
    "    return function1"
   ]
  },
  {
   "cell_type": "code",
   "execution_count": 5,
   "metadata": {
    "id": "E86752FB4ADB4C0988FF83DED396EC93",
    "jupyter": {},
    "slideshow": {
     "slide_type": "slide"
    },
    "tags": []
   },
   "outputs": [],
   "source": [
    "def fitness(function1):\n",
    "    fitness1=[]\n",
    "    min_fitness=mf=0\n",
    "    for i in range(len(function1)):\n",
    "        if(function1[i]+mf>0):\n",
    "            temporary=mf+function1[i]\n",
    "        else:\n",
    "            temporary=0.0\n",
    "        # 如果适应度小于0,则定为0\n",
    "        fitness1.append(temporary)\n",
    "        #将适应度添加到列表中\n",
    "    return fitness1"
   ]
  },
  {
   "cell_type": "code",
   "execution_count": 6,
   "metadata": {
    "id": "A917643F84B44604A327B989B435E099",
    "jupyter": {},
    "slideshow": {
     "slide_type": "slide"
    },
    "tags": []
   },
   "outputs": [],
   "source": [
    "#计算适应度和\n",
    "def sum(fitness1):\n",
    "    total=0\n",
    "    for i in range(len(fitness1)):\n",
    "        total+=fitness1[i]\n",
    "    return total\n",
    " \n",
    "#计算适应度斐波纳挈列表，这里是为了求出累积的适应度\n",
    "def cumsum(fitness1):\n",
    "    for i in range(len(fitness1)-2,-1,-1):\n",
    "        # range(start,stop,[step])\n",
    "        # 倒计数\n",
    "        total=0\n",
    "        j=0\n",
    "        while(j<=i):\n",
    "            total+=fitness1[j]\n",
    "            j+=1\n",
    "        #这里是为了将适应度划分成区间\n",
    "        fitness1[i]=total\n",
    "        fitness1[len(fitness1)-1]=1"
   ]
  },
  {
   "cell_type": "code",
   "execution_count": 7,
   "metadata": {
    "id": "438ECF7F7A9F4771A5EBFE846BC2C5A0",
    "jupyter": {},
    "slideshow": {
     "slide_type": "slide"
    },
    "tags": []
   },
   "outputs": [],
   "source": [
    "#3.选择种群中个体适应度最大的个体\n",
    "def selection(population,fitness1):\n",
    "    new_fitness=[]\n",
    "    #单个公式暂存器\n",
    "    total_fitness=sum(fitness1)\n",
    "    #将所有的适应度求和\n",
    "    for i in range(len(fitness1)):\n",
    "        new_fitness.append(fitness1[i]/total_fitness)\n",
    "    #将所有个体的适应度概率化,类似于softmax\n",
    "    cumsum(new_fitness)\n",
    "    #将所有个体的适应度划分成区间\n",
    "    ms=[]\n",
    "    #存活的种群\n",
    "    population_length=pop_len=len(population)\n",
    "    #求出种群长度\n",
    "    #根据随机数确定哪几个能存活\n",
    " \n",
    "    for i in range(pop_len):\n",
    "        ms.append(random.random())\n",
    "    # 产生种群个数的随机值\n",
    "    ms.sort()\n",
    "    # 存活的种群排序\n",
    "    fitin=0\n",
    "    newin=0\n",
    "    new_population=new_pop=population\n",
    " \n",
    "    #轮盘赌方式\n",
    "    while newin<pop_len:\n",
    "        if(ms[newin]<new_fitness[fitin]):\n",
    "            new_pop[newin]=pop[fitin]\n",
    "            newin+=1\n",
    "        else:\n",
    "            fitin+=1\n",
    "    population=new_pop"
   ]
  },
  {
   "cell_type": "code",
   "execution_count": 8,
   "metadata": {
    "id": "94F11468BC284B6C85A43D1910652969",
    "jupyter": {},
    "slideshow": {
     "slide_type": "slide"
    },
    "tags": []
   },
   "outputs": [],
   "source": [
    "def crossover(population,pc):\n",
    "#pc是概率阈值，选择单点交叉还是多点交叉，生成新的交叉个体，这里没用\n",
    "    pop_len=len(population)\n",
    " \n",
    "    for i in range(pop_len-1):\n",
    "        cpoint=random.randint(0,len(population[0]))\n",
    "        #在种群个数内随机生成单点交叉点\n",
    "        temporary1=[]\n",
    "        temporary2=[]\n",
    " \n",
    "        temporary1.extend(pop[i][0:cpoint])\n",
    "        temporary1.extend(pop[i+1][cpoint:len(population[i])])\n",
    "        #将tmporary1作为暂存器，暂时存放第i个染色体中的前0到cpoint个基因，\n",
    "        #然后再把第i+1个染色体中的后cpoint到第i个染色体中的基因个数，补充到temporary2后面\n",
    " \n",
    "        temporary2.extend(pop[i+1][0:cpoint])\n",
    "        temporary2.extend(pop[i][cpoint:len(pop[i])])\n",
    "        # 将tmporary2作为暂存器，暂时存放第i+1个染色体中的前0到cpoint个基因，\n",
    "        # 然后再把第i个染色体中的后cpoint到第i个染色体中的基因个数，补充到temporary2后面\n",
    "        pop[i]=temporary1\n",
    "        pop[i+1]=temporary2\n",
    "        # 第i个染色体和第i+1个染色体基因重组/交叉完成"
   ]
  },
  {
   "cell_type": "code",
   "execution_count": 9,
   "metadata": {
    "id": "BF014AD9ABA040FE837C03E4F7E5F19C",
    "jupyter": {},
    "slideshow": {
     "slide_type": "slide"
    },
    "tags": []
   },
   "outputs": [],
   "source": [
    "#step4：突变\n",
    "def mutation(population,pm):\n",
    "    # pm是概率阈值\n",
    "    px=len(population)\n",
    "    # 求出种群中所有种群/个体的个数\n",
    "    py=len(population[0])\n",
    "    # 染色体/个体中基因的个数\n",
    "    for i in range(px):\n",
    "        if(random.random()<pm):\n",
    "        #如果小于阈值就变异\n",
    "            mpoint=random.randint(0,py-1)\n",
    "            # 生成0到py-1的随机数\n",
    "            if(population[i][mpoint]==1):\n",
    "            #将mpoint个基因进行单点随机变异，变为0或者1\n",
    "                population[i][mpoint]=0\n",
    "            else:\n",
    "                population[i][mpoint]=1"
   ]
  },
  {
   "cell_type": "code",
   "execution_count": 10,
   "metadata": {
    "id": "E8129B36838C460489B38401BCDEF3DE",
    "jupyter": {},
    "slideshow": {
     "slide_type": "slide"
    },
    "tags": []
   },
   "outputs": [],
   "source": [
    "# 将每一个染色体都转化成十进制 max_value为基因最大值，为了后面画图用\n",
    "def b2d(b,max_value,chromosome_length):\n",
    "    total=0\n",
    "    for i in range(len(b)):\n",
    "        total=total+b[i]*math.pow(2,i)\n",
    "    #从第一位开始，每一位对2求幂，然后求和，得到十进制数？\n",
    "    total=total*max_value/(math.pow(2,chromosome_length)-1)\n",
    "    return total\n",
    " \n",
    "#寻找最好的适应度和个体\n",
    "def best(population,fitness1):\n",
    " \n",
    "    px=len(population)\n",
    "    bestindividual=[]\n",
    "    bestfitness=fitness1[0]\n",
    " \n",
    "    for i in range(1,px):\n",
    "   # 循环找出最大的适应度，适应度最大的也就是最好的个体\n",
    "        if(fitness1[i]>bestfitness):\n",
    " \n",
    "            bestfitness=fitness1[i]\n",
    "            bestindividual=population[i]\n",
    " \n",
    "    return [bestindividual,bestfitness]"
   ]
  },
  {
   "cell_type": "code",
   "execution_count": 11,
   "metadata": {
    "id": "016F81A5CCA3460D91D8A6281BC0579E",
    "jupyter": {},
    "slideshow": {
     "slide_type": "slide"
    },
    "tags": []
   },
   "outputs": [
    {
     "data": {
      "image/png": "[encoded data removed]",
      "text/plain": [
       "<Figure size 432x288 with 1 Axes>"
      ]
     },
     "metadata": {
      "needs_background": "light"
     },
     "output_type": "display_data"
    }
   ],
   "source": [
    "population_size=500\n",
    "max_value=10\n",
    "# 基因中允许出现的最大值\n",
    "chromosome_length=10\n",
    "pc=0.6\n",
    "pm=0.01\n",
    " \n",
    "results=[[]]\n",
    "fitness1=[]\n",
    "fitmean=[]\n",
    " \n",
    "population=pop=species_origin(population_size,chromosome_length)\n",
    "#生成一个初始的种群\n",
    " \n",
    "for i in range(population_size):#注意这里是迭代500次\n",
    "    function1=function(population,chromosome_length,max_value)\n",
    "    fitness1=fitness(function1)\n",
    "    best_individual,best_fitness=best(population,fitness1)\n",
    "    results.append([best_fitness,b2d(best_individual,max_value,chromosome_length)])\n",
    "     #将最好的个体和最好的适应度保存，并将最好的个体转成十进制\n",
    "    selection(population,fitness1)#选择\n",
    "    crossover(population,pc)#交配\n",
    "    mutation(population,pm)#变异\n",
    " \n",
    "results=results[1:]\n",
    "results.sort()\n",
    "X=[]\n",
    "Y=[]\n",
    "for i in range(500):#500轮的结果\n",
    "    X.append(i)\n",
    "    Y.append(results[i][0])\n",
    "plt.plot(X,Y)\n",
    "plt.show()"
   ]
  }
 ],
 "metadata": {
  "jupytext": {
   "text_representation": {
    "extension": ".md",
    "format_name": "myst",
    "format_version": 0.12,
    "jupytext_version": "1.6.0"
   }
  },
  "kernelspec": {
   "display_name": "Python 3",
   "language": "python",
   "name": "python3"
  },
  "language_info": {
   "codemirror_mode": {
    "name": "ipython",
    "version": 3
   },
   "file_extension": ".py",
   "mimetype": "text/x-python",
   "name": "python",
   "nbconvert_exporter": "python",
   "pygments_lexer": "ipython3",
   "version": "3.7.9"
  },
  "source_map": [
   12,
   335,
   379,
   395,
   407,
   434,
   442,
   464,
   472,
   493,
   501,
   521,
   527,
   555,
   561,
   603,
   609,
   639,
   645,
   672,
   676,
   710,
   714,
   755,
   768
  ]
 },
 "nbformat": 4,
 "nbformat_minor": 4
}