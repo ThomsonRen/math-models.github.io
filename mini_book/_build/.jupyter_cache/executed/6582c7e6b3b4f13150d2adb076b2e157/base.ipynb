{
 "cells": [
  {
   "cell_type": "code",
   "execution_count": 1,
   "metadata": {
    "jupyter": {},
    "slideshow": {
     "slide_type": "slide"
    },
    "tags": []
   },
   "outputs": [
    {
     "name": "stdout",
     "output_type": "stream",
     "text": [
      "[['宝贝当家', 23.43], ['美人鱼', 18.55], ['澳门风云3', 32.14], ['功夫熊猫3', 21.47], ['谍影重重', 43.87], ['叶问3', 52.01], ['伦敦陷落', 43.42], ['我的特工爷爷', 17.49], ['奔爱', 47.69], ['夜孔雀', 39.66], ['代理情人', 40.57], ['新步步惊心', 34.44]]\n",
      "[['我的特工爷爷', 17.49], ['美人鱼', 18.55], ['功夫熊猫3', 21.47], ['宝贝当家', 23.43], ['澳门风云3', 32.14]]\n",
      "[('喜剧片', 4), ('动作片', 1), ('爱情片', 0)]\n",
      "喜剧片\n"
     ]
    }
   ],
   "source": [
    "import math\n",
    "movie_data = {\"宝贝当家\": [45, 2, 9, \"喜剧片\"],\n",
    "              \"美人鱼\": [21, 17, 5, \"喜剧片\"],\n",
    "              \"澳门风云3\": [54, 9, 11, \"喜剧片\"],\n",
    "              \"功夫熊猫3\": [39, 0, 31, \"喜剧片\"],\n",
    "              \"谍影重重\": [5, 2, 57, \"动作片\"],\n",
    "              \"叶问3\": [3, 2, 65, \"动作片\"],\n",
    "              \"伦敦陷落\": [2, 3, 55, \"动作片\"],\n",
    "              \"我的特工爷爷\": [6, 4, 21, \"动作片\"],\n",
    "              \"奔爱\": [7, 46, 4, \"爱情片\"],\n",
    "              \"夜孔雀\": [9, 39, 8, \"爱情片\"],\n",
    "              \"代理情人\": [9, 38, 2, \"爱情片\"],\n",
    "              \"新步步惊心\": [8, 34, 17, \"爱情片\"]}\n",
    "\n",
    "# 测试样本  唐人街探案\": [23, 3, 17, \"？片\"]\n",
    "#下面为求与数据集中所有数据的距离代码：\n",
    "x = [23, 3, 17]\n",
    "KNN = []\n",
    "for key, v in movie_data.items():\n",
    "    d = math.sqrt((x[0] - v[0]) ** 2 + (x[1] - v[1]) ** 2 + (x[2] - v[2]) ** 2)\n",
    "    KNN.append([key, round(d, 2)])\n",
    "\n",
    "# 输出所用电影到 唐人街探案的距离\n",
    "print(KNN)\n",
    "\n",
    "#按照距离大小进行递增排序\n",
    "KNN.sort(key=lambda dis: dis[1])\n",
    "\n",
    "#选取距离最小的k个样本，这里取k=5；\n",
    "KNN=KNN[:5]\n",
    "print(KNN)\n",
    "\n",
    "#确定前k个样本所在类别出现的频率，并输出出现频率最高的类别\n",
    "labels = {\"喜剧片\":0,\"动作片\":0,\"爱情片\":0}\n",
    "for s in KNN:\n",
    "    label = movie_data[s[0]]\n",
    "    labels[label[3]] += 1\n",
    "labels =sorted(labels.items(),key=lambda l: l[1],reverse=True)\n",
    "print(labels,labels[0][0],sep='\\n')"
   ]
  },
  {
   "cell_type": "code",
   "execution_count": 2,
   "metadata": {
    "id": "6A0B6400432E495689500EFDCF4CE3BA",
    "jupyter": {},
    "slideshow": {
     "slide_type": "slide"
    },
    "tags": []
   },
   "outputs": [
    {
     "data": {
      "text/plain": [
       "<matplotlib.collections.PathCollection at 0x12873b490>"
      ]
     },
     "execution_count": 2,
     "metadata": {},
     "output_type": "execute_result"
    },
    {
     "data": {
      "image/png": "[encoded data removed]",
      "text/plain": [
       "<Figure size 432x288 with 1 Axes>"
      ]
     },
     "metadata": {
      "needs_background": "light"
     },
     "output_type": "display_data"
    }
   ],
   "source": [
    "from sklearn import datasets\n",
    "import matplotlib.pyplot as plt\n",
    " \n",
    "#加载数据集，是一个字典类似Java中的map\n",
    "lris_df = datasets.load_iris()\n",
    " \n",
    "\n",
    "#挑选出前两个维度作为x轴和y轴，你也可以选择其他维度\n",
    "x_axis = lris_df.data[:,0]\n",
    "y_axis = lris_df.data[:,2]\n",
    " \n",
    "#绘制散点图\n",
    "plt.scatter(x_axis, y_axis)"
   ]
  },
  {
   "cell_type": "code",
   "execution_count": 3,
   "metadata": {
    "id": "CC10805455D34726899AEB9D639EABFF",
    "jupyter": {},
    "slideshow": {
     "slide_type": "slide"
    },
    "tags": []
   },
   "outputs": [],
   "source": [
    "import numpy as np  \n",
    "from matplotlib import pyplot as plt  \n",
    "from scipy.cluster.hierarchy import dendrogram, linkage "
   ]
  },
  {
   "cell_type": "code",
   "execution_count": 4,
   "metadata": {
    "id": "35AF6AC56ACF407F9A8825C1BD30DC79",
    "jupyter": {},
    "slideshow": {
     "slide_type": "slide"
    },
    "tags": []
   },
   "outputs": [],
   "source": [
    "state = np.random.RandomState(99) #设置随机状态  \n",
    "a = state.multivariate_normal([10, 10], [[1, 3], [3, 11]], size=7)  #生成多元正态变量  \n",
    "b = state.multivariate_normal([-10, -10], [[1, 3], [3, 11]], size=8)  \n",
    "data = np.concatenate((a, b)) #把数据进行拼接 "
   ]
  },
  {
   "cell_type": "code",
   "execution_count": 5,
   "metadata": {
    "id": "84BF6BCAF071481293A7C66EB2D940CA",
    "jupyter": {},
    "slideshow": {
     "slide_type": "slide"
    },
    "tags": []
   },
   "outputs": [
    {
     "data": {
      "image/png": "[encoded data removed]",
      "text/plain": [
       "<Figure size 576x576 with 1 Axes>"
      ]
     },
     "metadata": {
      "needs_background": "light"
     },
     "output_type": "display_data"
    }
   ],
   "source": [
    "import numpy as np  \n",
    "from matplotlib import pyplot as plt  \n",
    "from scipy.cluster.hierarchy import dendrogram, linkage\n",
    "\n",
    "state = np.random.RandomState(99) #设置随机状态  \n",
    "a = state.multivariate_normal([10, 10], [[1, 3], [3, 11]], size=7)  #生成多元正态变量  \n",
    "b = state.multivariate_normal([-10, -10], [[1, 3], [3, 11]], size=8)  \n",
    "data = np.concatenate((a, b)) #把数据进行拼接 \n",
    "#此处以下为绘制数据点分布代码\n",
    "ig, ax = plt.subplots(figsize=(8,8)) #设置图片大小  \n",
    "ax.set_aspect('equal') #把两坐标轴的比例设为相等  \n",
    "plt.scatter(data[:,0], data[:,1])  \n",
    "plt.ylim([-30,30]) #设置Y轴数值范围  \n",
    "plt.xlim([-30,30])  \n",
    "plt.show() "
   ]
  },
  {
   "cell_type": "code",
   "execution_count": 6,
   "metadata": {
    "id": "F84E65F5B26548A28CA0258843597F1F",
    "jupyter": {},
    "slideshow": {
     "slide_type": "slide"
    },
    "tags": []
   },
   "outputs": [],
   "source": [
    "z = linkage(data, \"average\") #用average算法，即类平均法 "
   ]
  },
  {
   "cell_type": "code",
   "execution_count": 7,
   "metadata": {
    "id": "3D4ECD34C4F3447B905E432E6802E22E",
    "jupyter": {},
    "slideshow": {
     "slide_type": "slide"
    },
    "tags": []
   },
   "outputs": [
    {
     "data": {
      "image/png": "[encoded data removed]",
      "text/plain": [
       "<Figure size 576x576 with 1 Axes>"
      ]
     },
     "metadata": {
      "needs_background": "light"
     },
     "output_type": "display_data"
    }
   ],
   "source": [
    "fig, ax = plt.subplots(figsize=(8,8))  \n",
    "dendrogram(z, leaf_font_size=14) #画图 \n",
    "plt.title(\"Hierachial Clustering Dendrogram\")  \n",
    "plt.xlabel(\"Cluster label\")  \n",
    "plt.ylabel(\"Distance\")  \n",
    "plt.axhline(y=10) #画一条分类线  \n",
    "plt.show()"
   ]
  },
  {
   "cell_type": "code",
   "execution_count": 8,
   "metadata": {
    "id": "8A01044BEBED432C82D21B12BAB9ED2E",
    "jupyter": {},
    "slideshow": {
     "slide_type": "slide"
    },
    "tags": []
   },
   "outputs": [
    {
     "data": {
      "image/png": "[encoded data removed]",
      "text/plain": [
       "<Figure size 576x576 with 1 Axes>"
      ]
     },
     "metadata": {
      "needs_background": "light"
     },
     "output_type": "display_data"
    },
    {
     "data": {
      "image/png": "[encoded data removed]",
      "text/plain": [
       "<Figure size 576x576 with 1 Axes>"
      ]
     },
     "metadata": {
      "needs_background": "light"
     },
     "output_type": "display_data"
    }
   ],
   "source": [
    "import numpy as np  \n",
    "from matplotlib import pyplot as plt  \n",
    "from scipy.cluster.hierarchy import dendrogram, linkage\n",
    "\n",
    "a = state.multivariate_normal([10, 10], [[1, 3], [3, 11]], size=7)  #生成多元正态变量  \n",
    "b = state.multivariate_normal([-10, -10], [[1, 3], [3, 11]], size=8)  \n",
    "data = np.concatenate((a, b)) #把数据进行拼接 \n",
    "\n",
    "fig, ax = plt.subplots(figsize=(8,8)) #设置图片大小  \n",
    "ax.set_aspect('equal') #把两坐标轴的比例设为相等  \n",
    "plt.scatter(data[:,0], data[:,1])  \n",
    "plt.ylim([-30,30]) #设置Y轴数值范围  \n",
    "plt.xlim([-30,30])  \n",
    "plt.show()\n",
    "\n",
    "z = linkage(data, \"average\") #用average算法，即类平均法\n",
    "\n",
    "fig, ax = plt.subplots(figsize=(8,8))  \n",
    "dendrogram(z, leaf_font_size=14) #画图 \n",
    "plt.title(\"Hierachial Clustering Dendrogram\")  \n",
    "plt.xlabel(\"Cluster label\")  \n",
    "plt.ylabel(\"Distance\")  \n",
    "plt.axhline(y=10) #画一条分类线  \n",
    "plt.show() "
   ]
  },
  {
   "cell_type": "code",
   "execution_count": 9,
   "metadata": {
    "id": "33386879A20F4AA38B97F4D92D9338D8",
    "jupyter": {},
    "slide_type": "slide",
    "slideshow": null,
    "tags": []
   },
   "outputs": [
    {
     "name": "stdout",
     "output_type": "stream",
     "text": [
      "(150, 2)\n"
     ]
    },
    {
     "data": {
      "image/png": "[encoded data removed]",
      "text/plain": [
       "<Figure size 432x288 with 1 Axes>"
      ]
     },
     "metadata": {
      "needs_background": "light"
     },
     "output_type": "display_data"
    }
   ],
   "source": [
    "import matplotlib.pyplot as plt \n",
    "from sklearn.cluster import KMeans\n",
    "from sklearn import datasets \n",
    "iris = datasets.load_iris() \n",
    "X = iris.data[:, :2] # #表示我们取特征空间中的2个维度\n",
    "print(X.shape)\n",
    "# 绘制数据分布图\n",
    "plt.scatter(X[:, 0], X[:, 1], c=\"red\", marker='o', label='see') \n",
    "plt.xlabel('sepal length') \n",
    "plt.ylabel('sepal width') \n",
    "plt.legend(loc=2) \n",
    "plt.show() "
   ]
  },
  {
   "cell_type": "code",
   "execution_count": 10,
   "metadata": {
    "id": "D38A0E893D3746A09CCF2EBC169FB908",
    "jupyter": {},
    "slideshow": {
     "slide_type": "slide"
    },
    "tags": []
   },
   "outputs": [],
   "source": [
    "import numpy as np \n",
    "data=np.array([[  9.31556164 , 10.69767437],\n",
    " [  9.21300425 ,  9.20698909],\n",
    " [ 10.16931836 , 10.50496561],\n",
    " [  8.97948118 ,  7.58733691],\n",
    " [ 11.04203644 , 10.11493029],\n",
    " [  9.881797   , 10.62895995],\n",
    " [  9.79766011 ,  9.97217018],\n",
    " [ -9.67975098 ,-11.05412528],\n",
    " [-10.58070834 ,-12.99003422],\n",
    " [ -9.7736453  , -8.27254942],\n",
    " [ -9.43198433 , -7.54610439],\n",
    " [ -9.13994785 , -7.18378278],\n",
    " [ -9.47403457 , -8.81266627],\n",
    " [ -9.23248318 , -7.29852363],\n",
    " [-10.47829261 ,-10.30055412],\n",
    " [ 10.50596899 , -8.09211343],\n",
    " [  7.81810663 ,-17.27380884],\n",
    " [  9.38509479 ,-11.5525437 ],\n",
    " [ 11.66143844 , -4.37736872],\n",
    " [ 11.62327952 , -2.8127609 ],\n",
    " [  8.64840945 ,-15.69415165],\n",
    " [  8.82528612 ,-15.96868896],\n",
    " [ 10.87536071 , -5.98830375],\n",
    " [ 10.94598118 , -7.34968697]])"
   ]
  }
 ],
 "metadata": {
  "jupytext": {
   "text_representation": {
    "extension": ".md",
    "format_name": "myst",
    "format_version": 0.12,
    "jupytext_version": "1.6.0"
   }
  },
  "kernelspec": {
   "display_name": "Python 3",
   "language": "python",
   "name": "python3"
  },
  "language_info": {
   "codemirror_mode": {
    "name": "ipython",
    "version": 3
   },
   "file_extension": ".py",
   "mimetype": "text/x-python",
   "name": "python",
   "nbconvert_exporter": "python",
   "pygments_lexer": "ipython3",
   "version": "3.7.9"
  },
  "source_map": [
   12,
   111,
   158,
   228,
   250,
   385,
   389,
   393,
   398,
   404,
   409,
   413,
   417,
   421,
   434,
   440,
   454,
   458,
   462,
   487,
   493,
   497,
   508,
   512,
   517,
   529,
   533,
   550,
   554,
   588,
   596,
   616,
   619
  ]
 },
 "nbformat": 4,
 "nbformat_minor": 4
}