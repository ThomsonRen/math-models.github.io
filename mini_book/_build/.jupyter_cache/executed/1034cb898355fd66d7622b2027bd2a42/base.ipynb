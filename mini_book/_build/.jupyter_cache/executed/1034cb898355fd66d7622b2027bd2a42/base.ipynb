{
 "cells": [
  {
   "cell_type": "code",
   "execution_count": 1,
   "metadata": {},
   "outputs": [
    {
     "data": {
      "text/plain": [
       "     con: array([], dtype=float64)\n",
       "     fun: -25.99999991344822\n",
       " message: 'Optimization terminated successfully.'\n",
       "     nit: 4\n",
       "   slack: array([4.63374761e-08, 2.01071497e-08])\n",
       "  status: 0\n",
       " success: True\n",
       "       x: array([1.99999997, 6.00000001])"
      ]
     },
     "execution_count": 1,
     "metadata": {},
     "output_type": "execute_result"
    }
   ],
   "source": [
    "#导入相关库\n",
    "import numpy as np\n",
    "from scipy import optimize as op\n",
    "\n",
    "#定义决策变量范围\n",
    "x1=(0,None)\n",
    "x2=(0,None)\n",
    "\n",
    "#定义目标函数系数(请注意这里是求最大值，而linprog默认求最小值，因此我们需要加一个符号)\n",
    "c=np.array([-4,-3]) \n",
    "\n",
    "#定义约束条件系数\n",
    "A_ub=np.array([[2,1],[1,1]])\n",
    "B_ub=np.array([10,8])\n",
    "\n",
    "#求解\n",
    "res=op.linprog(c,A_ub,B_ub,bounds=(x1,x2))\n",
    "res"
   ]
  },
  {
   "cell_type": "code",
   "execution_count": 2,
   "metadata": {},
   "outputs": [
    {
     "name": "stdout",
     "output_type": "stream",
     "text": [
      "目标值: 26.99999999999998\n",
      "最优解为\n",
      "x1 = 3.0\n",
      "x2 = 3.0\n",
      "x3 = 3.0\n"
     ]
    },
    {
     "data": {
      "text/plain": [
       "     fun: 26.99999999999998\n",
       "     jac: array([6., 6., 6.])\n",
       " message: 'Optimization terminated successfully'\n",
       "    nfev: 13\n",
       "     nit: 3\n",
       "    njev: 3\n",
       "  status: 0\n",
       " success: True\n",
       "       x: array([3., 3., 3.])"
      ]
     },
     "execution_count": 2,
     "metadata": {},
     "output_type": "execute_result"
    }
   ],
   "source": [
    "import numpy as np\n",
    "from scipy.optimize import minimize\n",
    "\n",
    "# 定义目标函数\n",
    "def objective(x):\n",
    "    return (x[0] ** 2 + x[1]**2 + x[2]**2)\n",
    "\n",
    "# 定义约束条件\n",
    "def constraint1(x):\n",
    "    return (x[0]  + x[1] + x[2]  - 9)  # 不等约束1\n",
    "\n",
    "# 汇总约束条件\n",
    "con1 = {'type': 'ineq', 'fun': constraint1}\n",
    "cons = ([con1])  \n",
    "\n",
    "# 决策变量的符号约束\n",
    "b = (0.0, None) #即决策变量的取值范围为大于等于0\n",
    "bnds = (b, b ,b) \n",
    "\n",
    "#定义初始值\n",
    "x0=np.array([0, 0, 0]) \n",
    "\n",
    "# 求解\n",
    "solution = minimize(objective, x0, method='SLSQP', \\\n",
    "                    bounds=bnds, constraints=cons)\n",
    "                    \n",
    "x = solution.x\n",
    "\n",
    "# 打印结果\n",
    "print('目标值: ' + str(objective(x)))\n",
    "print('最优解为')\n",
    "print('x1 = ' + str(round(x[0],2)))\n",
    "print('x2 = ' + str(round(x[1],2)))\n",
    "print('x3 = ' + str(round(x[2],2)))\n",
    "solution"
   ]
  },
  {
   "cell_type": "code",
   "execution_count": 3,
   "metadata": {},
   "outputs": [
    {
     "data": {
      "text/plain": [
       "     con: array([1.00512096e-08, 3.07749133e-08, 2.04131823e-08])\n",
       "     fun: -6830.499999040153\n",
       " message: 'Optimization terminated successfully.'\n",
       "     nit: 9\n",
       "   slack: array([5.10625000e+03, 2.34581904e-07, 3.21025993e-07])\n",
       "  status: 0\n",
       " success: True\n",
       "       x: array([5.87500046e+01, 1.62499956e+01, 2.49999998e+01, 2.99999995e+02,\n",
       "       5.06481640e-06, 2.58879580e-07, 2.00000000e+02, 4.09623144e-08,\n",
       "       2.90191689e-08])"
      ]
     },
     "execution_count": 3,
     "metadata": {},
     "output_type": "execute_result"
    }
   ],
   "source": [
    "#导入相关库\n",
    "import numpy as np\n",
    "from scipy import optimize as op\n",
    "\n",
    "#定义决策变量范围\n",
    "x11=(0,None)\n",
    "x12=(0,None)\n",
    "x13=(0,None)\n",
    "\n",
    "x21=(0,None)\n",
    "x22=(0,None)\n",
    "x23=(0,None)\n",
    "\n",
    "x31=(0,None)\n",
    "x32=(0,None)\n",
    "x33=(0,None)\n",
    "bounds=(x11,x12,x13,x21,x22,x23,x31,x32,x33)\n",
    "\n",
    "#定义目标函数系数(请注意这里是求最大值，而linprog默认求最小值，因此我们需要加一个负号)\n",
    "c=np.array([-11*1.2,-8*1.5,-14*0.8,-9.5*1.2,-6.9*1.5,-12*0.8,-9*1.2,-6*1.5,-10*0.8]) \n",
    "\n",
    "#定义不等式约束条件系数\n",
    "A = - np.array([[11,0,0,9.5,0,0,9,0,0],[0,8,0,0,6.9,0,0,6,0],[0,0,14,0,0,12,0,0,10]])\n",
    "b = - np.array([190,130,350])\n",
    "\n",
    "#定义等式约束条件系数\n",
    "A_eq = np.array([[1,1,1,0,0,0,0,0,0],[0,0,0,1,1,1,0,0,0],[0,0,0,0,0,0,1,1,1]])\n",
    "b_eq = np.array([100,300,200])\n",
    "\n",
    "\n",
    "#求解\n",
    "res=op.linprog(c,A,b,A_eq,b_eq,bounds=bounds)\n",
    "res"
   ]
  }
 ],
 "metadata": {
  "jupytext": {
   "text_representation": {
    "extension": ".md",
    "format_name": "myst",
    "format_version": 0.12,
    "jupytext_version": "1.6.0"
   }
  },
  "kernelspec": {
   "display_name": "Python 3",
   "language": "python",
   "name": "python3"
  },
  "language_info": {
   "codemirror_mode": {
    "name": "ipython",
    "version": 3
   },
   "file_extension": ".py",
   "mimetype": "text/x-python",
   "name": "python",
   "nbconvert_exporter": "python",
   "pygments_lexer": "ipython3",
   "version": "3.7.9"
  },
  "source_map": [
   12,
   37,
   56,
   74,
   110,
   175,
   209
  ]
 },
 "nbformat": 4,
 "nbformat_minor": 4
}