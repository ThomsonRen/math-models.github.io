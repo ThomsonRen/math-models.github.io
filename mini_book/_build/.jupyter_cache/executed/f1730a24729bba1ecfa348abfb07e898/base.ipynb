{
 "cells": [
  {
   "cell_type": "code",
   "execution_count": 1,
   "metadata": {
    "id": "64E2A731671C41E1801B64DA43D2C4EB",
    "jupyter": {},
    "slideshow": {
     "slide_type": "slide"
    },
    "tags": []
   },
   "outputs": [
    {
     "data": {
      "text/plain": [
       "[[1, 2, 9], [0.5, 1, 0.5], [0.1111111111111111, 2, 1]]"
      ]
     },
     "execution_count": 1,
     "metadata": {},
     "output_type": "execute_result"
    }
   ],
   "source": [
    "A = [[1,2,9],[1/2,1,1/2],[1/9,2,1]]\n",
    "A"
   ]
  },
  {
   "cell_type": "code",
   "execution_count": 2,
   "metadata": {
    "id": "951D5B72403641A5B2A8895C107F5791",
    "jupyter": {},
    "slideshow": {
     "slide_type": "slide"
    },
    "tags": []
   },
   "outputs": [
    {
     "name": "stdout",
     "output_type": "stream",
     "text": [
      "[ 3.56083368+0.j         -0.28041684+1.38506384j -0.28041684-1.38506384j]\n"
     ]
    }
   ],
   "source": [
    "# 调用 np.linalg.eig方法计算矩阵的特征值和特征向量，其中lamb是特征值，v是特征向量\n",
    "import numpy as np\n",
    "lamb,v = np.linalg.eig(A)      \n",
    "print(lamb)"
   ]
  },
  {
   "cell_type": "code",
   "execution_count": 3,
   "metadata": {
    "id": "B0488A42B9FE4386A660CA1F49A095F2",
    "jupyter": {},
    "slideshow": {
     "slide_type": "slide"
    },
    "tags": []
   },
   "outputs": [],
   "source": [
    "lambda_max = max(abs(lamb))                    # 提取最大的特征值\n",
    "loc = np.where(lamb == lambda_max)             # 获取最大特征值的索引"
   ]
  },
  {
   "cell_type": "code",
   "execution_count": 4,
   "metadata": {
    "id": "6EE6BF5FAD10488E8F1D2F978B8AA946",
    "jupyter": {},
    "slideshow": {
     "slide_type": "slide"
    },
    "tags": []
   },
   "outputs": [
    {
     "data": {
      "text/plain": [
       "array([0.94864674, 0.22803089, 0.21925164])"
      ]
     },
     "execution_count": 4,
     "metadata": {},
     "output_type": "execute_result"
    }
   ],
   "source": [
    "weight = abs(v[0:len(A),loc[0][0]])            # 获取最大特征值对应的特征向量\n",
    "weight"
   ]
  },
  {
   "cell_type": "code",
   "execution_count": 5,
   "metadata": {
    "id": "9E552255CA724B178B51658A06E7BF62",
    "jupyter": {},
    "slideshow": {
     "slide_type": "slide"
    },
    "tags": []
   },
   "outputs": [
    {
     "name": "stdout",
     "output_type": "stream",
     "text": [
      "最大特征值 lambda_max= 3.075599563855794\n",
      "最大特征值对应的特征向量 w= [0.90191687 0.3919986  0.18133684]\n",
      "CI= 0.037799781927897014\n",
      "RI= 0.58\n",
      "CR= 0.065172037806719\n"
     ]
    }
   ],
   "source": [
    "A = [[1,2,6],[1/2,1,2],[1/5,1/2,1]]\n",
    "# 调用 np.linalg.eig方法计算矩阵的特征值和特征向量，其中lamb是特征值，v是特征向量\n",
    "lamb,v = np.linalg.eig(A)      \n",
    "lambda_max = max(abs(lamb))                    # 提取最大的特征值\n",
    "loc = np.where(lamb == lambda_max)             # 获取最大特征值的索引\n",
    "weight = abs(v[0:len(A),loc[0][0]])            # 获取最大特征值对应的特征向量\n",
    "RI_list = [0 ,0 ,0.58,0.9,1.12,1.24,1.32,1.41,1.45]   \n",
    "RI = RI_list[len(A)-1]                        # 计算RI\n",
    "CI = (lambda_max - len(A))/(len(A)-1)         # 计算CI\n",
    "CR = CI / RI                                   # 计算CR\n",
    "print('最大特征值 lambda_max=',lambda_max)\n",
    "print('最大特征值对应的特征向量 w=',weight)\n",
    "print('CI=',CI)\n",
    "print('RI=',RI)\n",
    "print('CR=',CR)"
   ]
  },
  {
   "cell_type": "code",
   "execution_count": 6,
   "metadata": {
    "id": "55371E8661FD469B88EE88B33FA8C100",
    "jupyter": {},
    "slideshow": {
     "slide_type": "slide"
    },
    "tags": []
   },
   "outputs": [],
   "source": [
    "# 层次分析法函数\n",
    "import numpy as np\n",
    "def AHP(A):\n",
    "    lamb,v = np.linalg.eig(A)                      # 调用 np.linalg.eig方法计算矩阵的特征值和特征向量，其中lamb是特征值，v是特征向量\n",
    "    lambda_max = max(abs(lamb))                    # 提取最大的特征值\n",
    "    loc = np.where(lamb == lambda_max)             # 获取最大特征值的索引\n",
    "    weight = abs(v[0:len(A),loc[0][0]])            # 获取最大特征值对应的特征向量\n",
    "    RI_list = [0 ,0 ,0.58,0.9,1.12,1.24,1.32,1.41,1.45]   \n",
    "    RI = RI_list[len(A)-1]                        # 计算RI\n",
    "    CI = (lambda_max - len(A))/(len(A)-1)         # 计算CI\n",
    "    CR = CI / RI                                   # 计算CR\n",
    "    print('最大特征值 lambda_max=',lambda_max)\n",
    "    print('最大特征值对应的特征向量 w=',weight)\n",
    "    print('CI=',CI)\n",
    "    print('RI=',RI)\n",
    "    print('CR=',CR)\n",
    "    return weight,CI,RI,CR"
   ]
  },
  {
   "cell_type": "code",
   "execution_count": 7,
   "metadata": {
    "id": "4909AF969BA842DBA64349A1BD8A9ACD",
    "jupyter": {},
    "slideshow": {
     "slide_type": "slide"
    },
    "tags": []
   },
   "outputs": [
    {
     "name": "stdout",
     "output_type": "stream",
     "text": [
      "最大特征值 lambda_max= 5.072084408570216\n",
      "最大特征值对应的特征向量 w= [0.46582183 0.84086331 0.09509743 0.17329948 0.19204866]\n",
      "CI= 0.018021102142554035\n",
      "RI= 1.12\n",
      "CR= 0.01609026977013753\n"
     ]
    }
   ],
   "source": [
    "A = np.array([[1, 1/2, 4,3,3],\n",
    "             [2,  1,    7,5,5],\n",
    "             [1/4, 1/7,   1,1/2,1/3],\n",
    "             [1/3,1/5,2,1,1],\n",
    "             [1/3,1/5,3,1,1]])\n",
    "# A = np.array([[1, 1/5, 1/3],\n",
    "#              [5,  1,    3],\n",
    "#              [3, 1/3,   1]])            # 输入判断矩阵\n",
    "weight,CI,RI,CR = AHP(A)"
   ]
  },
  {
   "cell_type": "code",
   "execution_count": 8,
   "metadata": {
    "id": "60A6F03D5B714D59A6A5B32130BBD720",
    "jupyter": {},
    "slideshow": {
     "slide_type": "slide"
    },
    "tags": []
   },
   "outputs": [
    {
     "name": "stdout",
     "output_type": "stream",
     "text": [
      "最大特征值 lambda_max= 4.788701831199925\n",
      "最大特征值对应的特征向量 w= [0.82658145 0.46109858 0.14590859 0.27045896 0.09855884]\n",
      "CI= -0.05282454220001864\n",
      "RI= 1.12\n",
      "CR= -0.04716476982144521\n"
     ]
    }
   ],
   "source": [
    "B1 = np.array([[1, 2, 3, 4, 7],\n",
    "             [1/3, 1, 3, 2, 5],\n",
    "             [1/5, 1/3, 1, 1/2, 1],\n",
    "             [1/4, 1/2, 2, 1, 3],\n",
    "             [1/7, 1/5, 1/2, 1/3, 1]])     # 输入判断矩阵\n",
    "weight,CI,RI,CR = AHP(B1)"
   ]
  },
  {
   "cell_type": "code",
   "execution_count": 9,
   "metadata": {
    "id": "95DB3AB087874CA99621B93567F7EA1C",
    "jupyter": {},
    "slideshow": {
     "slide_type": "slide"
    },
    "tags": []
   },
   "outputs": [
    {
     "name": "stdout",
     "output_type": "stream",
     "text": [
      "最大特征值 lambda_max= 4.204930164418752\n",
      "最大特征值对应的特征向量 w= [0.08512486 0.8766546  0.17994402 0.43800756]\n",
      "CI= 0.06831005480625052\n",
      "RI= 0.9\n",
      "CR= 0.07590006089583391\n"
     ]
    }
   ],
   "source": [
    "B2 = np.array([[1, 1/7, 1/3, 1/5],\n",
    "              [7,  1, 5 , 3],\n",
    "              [3, 1/5, 1, 1/3],\n",
    "              [5, 1/2, 3 , 1]])             # 输入判断矩阵\n",
    "weight,CI,RI,CR = AHP(B2)"
   ]
  },
  {
   "cell_type": "code",
   "execution_count": 10,
   "metadata": {
    "id": "D73DD91A65EA45098F1E10C3EAFE9A77",
    "jupyter": {},
    "slideshow": {
     "slide_type": "slide"
    },
    "tags": []
   },
   "outputs": [
    {
     "name": "stdout",
     "output_type": "stream",
     "text": [
      "最大特征值 lambda_max= 3.9999999999999996\n",
      "最大特征值对应的特征向量 w= [0.67082039 0.67082039 0.2236068  0.2236068 ]\n",
      "CI= -1.4802973661668753e-16\n",
      "RI= 0.9\n",
      "CR= -1.644774851296528e-16\n"
     ]
    }
   ],
   "source": [
    "B3 = np.array([[1,1,3,3],\n",
    "             [1,1,3,3],\n",
    "             [1/3, 1/3, 1, 1],\n",
    "              [1/3,1/3,1,1]])     # 输入判断矩阵\n",
    "weight,CI,RI,CR = AHP(B3)"
   ]
  }
 ],
 "metadata": {
  "jupytext": {
   "text_representation": {
    "extension": ".md",
    "format_name": "myst",
    "format_version": 0.12,
    "jupytext_version": "1.6.0"
   }
  },
  "kernelspec": {
   "display_name": "Python 3",
   "language": "python",
   "name": "python3"
  },
  "language_info": {
   "codemirror_mode": {
    "name": "ipython",
    "version": 3
   },
   "file_extension": ".py",
   "mimetype": "text/x-python",
   "name": "python",
   "nbconvert_exporter": "python",
   "pygments_lexer": "ipython3",
   "version": "3.7.9"
  },
  "source_map": [
   14,
   34,
   64,
   85,
   89,
   100,
   106,
   138,
   142,
   178,
   198,
   213,
   235,
   239,
   264,
   288,
   332,
   345,
   351,
   364,
   371,
   384,
   388,
   393,
   409,
   416,
   422,
   439,
   452,
   459,
   467,
   475,
   483,
   513,
   517,
   543,
   596,
   618,
   626,
   633,
   637,
   642,
   646,
   659,
   671,
   685,
   697,
   709,
   714,
   734,
   746,
   750,
   767,
   771,
   796,
   804,
   818,
   845,
   864,
   880,
   895,
   910,
   915,
   919
  ]
 },
 "nbformat": 4,
 "nbformat_minor": 4
}