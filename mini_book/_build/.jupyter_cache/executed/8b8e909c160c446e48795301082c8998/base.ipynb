{
 "cells": [
  {
   "cell_type": "code",
   "execution_count": 1,
   "metadata": {},
   "outputs": [
    {
     "data": {
      "text/plain": [
       "     con: array([], dtype=float64)\n",
       "     fun: -25.99999991344822\n",
       " message: 'Optimization terminated successfully.'\n",
       "     nit: 4\n",
       "   slack: array([4.63374761e-08, 2.01071497e-08])\n",
       "  status: 0\n",
       " success: True\n",
       "       x: array([1.99999997, 6.00000001])"
      ]
     },
     "execution_count": 1,
     "metadata": {},
     "output_type": "execute_result"
    }
   ],
   "source": [
    "#导入相关库\n",
    "import numpy as np\n",
    "from scipy import optimize as op\n",
    "\n",
    "#定义决策变量范围\n",
    "x1=(0,None)\n",
    "x2=(0,None)\n",
    "\n",
    "#定义目标函数系数(请注意这里是求最大值，而linprog默认求最小值，因此我们需要加一个符号)\n",
    "c=np.array([-4,-3]) \n",
    "\n",
    "#定义约束条件系数\n",
    "A_ub=np.array([[2,1],[1,1]])\n",
    "B_ub=np.array([10,8])\n",
    "\n",
    "#求解\n",
    "res=op.linprog(c,A_ub,B_ub,bounds=(x1,x2))\n",
    "res"
   ]
  },
  {
   "cell_type": "code",
   "execution_count": 2,
   "metadata": {},
   "outputs": [
    {
     "name": "stdout",
     "output_type": "stream",
     "text": [
      "目标值: 26.99999999999998\n",
      "最优解为\n",
      "x1 = 3.0\n",
      "x2 = 3.0\n",
      "x3 = 3.0\n"
     ]
    },
    {
     "data": {
      "text/plain": [
       "     fun: 26.99999999999998\n",
       "     jac: array([6., 6., 6.])\n",
       " message: 'Optimization terminated successfully'\n",
       "    nfev: 13\n",
       "     nit: 3\n",
       "    njev: 3\n",
       "  status: 0\n",
       " success: True\n",
       "       x: array([3., 3., 3.])"
      ]
     },
     "execution_count": 2,
     "metadata": {},
     "output_type": "execute_result"
    }
   ],
   "source": [
    "import numpy as np\n",
    "from scipy.optimize import minimize\n",
    "\n",
    "# 定义目标函数\n",
    "def objective(x):\n",
    "    return (x[0] ** 2 + x[1]**2 + x[2]**2)\n",
    "\n",
    "# 定义约束条件\n",
    "def constraint1(x):\n",
    "    return (x[0]  + x[1] + x[2]  - 9)  # 不等约束1\n",
    "\n",
    "# 汇总约束条件\n",
    "con1 = {'type': 'ineq', 'fun': constraint1}\n",
    "cons = ([con1])  \n",
    "\n",
    "# 决策变量的符号约束\n",
    "b = (0.0, None) #即决策变量的取值范围为大于等于0\n",
    "bnds = (b, b ,b) \n",
    "\n",
    "#定义初始值\n",
    "x0=np.array([0, 0, 0]) \n",
    "\n",
    "# 求解\n",
    "solution = minimize(objective, x0, method='SLSQP', \\\n",
    "                    bounds=bnds, constraints=cons)\n",
    "                    \n",
    "x = solution.x\n",
    "\n",
    "# 打印结果\n",
    "print('目标值: ' + str(objective(x)))\n",
    "print('最优解为')\n",
    "print('x1 = ' + str(round(x[0],2)))\n",
    "print('x2 = ' + str(round(x[1],2)))\n",
    "print('x3 = ' + str(round(x[2],2)))\n",
    "solution"
   ]
  },
  {
   "cell_type": "code",
   "execution_count": 3,
   "metadata": {},
   "outputs": [
    {
     "data": {
      "text/plain": [
       "     con: array([1.00512096e-08, 3.07749133e-08, 2.04131823e-08])\n",
       "     fun: -6830.499999040153\n",
       " message: 'Optimization terminated successfully.'\n",
       "     nit: 9\n",
       "   slack: array([5.10625000e+03, 2.34581904e-07, 3.21025993e-07])\n",
       "  status: 0\n",
       " success: True\n",
       "       x: array([5.87500046e+01, 1.62499956e+01, 2.49999998e+01, 2.99999995e+02,\n",
       "       5.06481640e-06, 2.58879580e-07, 2.00000000e+02, 4.09623144e-08,\n",
       "       2.90191689e-08])"
      ]
     },
     "execution_count": 3,
     "metadata": {},
     "output_type": "execute_result"
    }
   ],
   "source": [
    "#导入相关库\n",
    "import numpy as np\n",
    "from scipy import optimize as op\n",
    "\n",
    "#定义决策变量范围\n",
    "x11=(0,None)\n",
    "x12=(0,None)\n",
    "x13=(0,None)\n",
    "\n",
    "x21=(0,None)\n",
    "x22=(0,None)\n",
    "x23=(0,None)\n",
    "\n",
    "x31=(0,None)\n",
    "x32=(0,None)\n",
    "x33=(0,None)\n",
    "bounds=(x11,x12,x13,x21,x22,x23,x31,x32,x33)\n",
    "\n",
    "#定义目标函数系数(请注意这里是求最大值，而linprog默认求最小值，因此我们需要加一个负号)\n",
    "c=np.array([-11*1.2,-8*1.5,-14*0.8,-9.5*1.2,-6.9*1.5,-12*0.8,-9*1.2,-6*1.5,-10*0.8]) \n",
    "\n",
    "#定义不等式约束条件系数\n",
    "A = - np.array([[11,0,0,9.5,0,0,9,0,0],[0,8,0,0,6.9,0,0,6,0],[0,0,14,0,0,12,0,0,10]])\n",
    "b = - np.array([190,130,350])\n",
    "\n",
    "#定义等式约束条件系数\n",
    "A_eq = np.array([[1,1,1,0,0,0,0,0,0],[0,0,0,1,1,1,0,0,0],[0,0,0,0,0,0,1,1,1]])\n",
    "b_eq = np.array([100,300,200])\n",
    "\n",
    "\n",
    "#求解\n",
    "res=op.linprog(c,A,b,A_eq,b_eq,bounds=bounds)\n",
    "res"
   ]
  },
  {
   "cell_type": "code",
   "execution_count": 4,
   "metadata": {
    "id": "BD47351FE79E4878BC2EC6CDAAB0D273",
    "jupyter": {},
    "slideshow": {
     "slide_type": "slide"
    },
    "tags": []
   },
   "outputs": [
    {
     "data": {
      "text/plain": [
       "<matplotlib.collections.PathCollection at 0x126151910>"
      ]
     },
     "execution_count": 4,
     "metadata": {},
     "output_type": "execute_result"
    },
    {
     "data": {
      "image/png": "[encoded data removed]",
      "text/plain": [
       "<Figure size 432x288 with 1 Axes>"
      ]
     },
     "metadata": {
      "needs_background": "light"
     },
     "output_type": "display_data"
    }
   ],
   "source": [
    "import numpy as np\n",
    "import matplotlib.pyplot as plt\n",
    "%matplotlib inline\n",
    "x = [0.1 * i for i in range(100)]\n",
    "y = [np.sin(t) + np.random.random() for t in x]\n",
    "plt.scatter(x,y)"
   ]
  },
  {
   "cell_type": "code",
   "execution_count": 5,
   "metadata": {
    "id": "B66CAE98F0F44D098345E0CAE2F26FC6",
    "jupyter": {},
    "slideshow": {
     "slide_type": "slide"
    },
    "tags": []
   },
   "outputs": [
    {
     "data": {
      "text/plain": [
       "[<matplotlib.lines.Line2D at 0x1262c94d0>]"
      ]
     },
     "execution_count": 5,
     "metadata": {},
     "output_type": "execute_result"
    },
    {
     "data": {
      "image/png": "[encoded data removed]",
      "text/plain": [
       "<Figure size 432x288 with 1 Axes>"
      ]
     },
     "metadata": {
      "needs_background": "light"
     },
     "output_type": "display_data"
    }
   ],
   "source": [
    "from scipy.optimize import curve_fit  # 导入非线性拟合函数curve_fit\n",
    "\n",
    "# 定义需要拟合的函数形式，这里使用二次函数的一般式 y = ax^2 + bx + c\n",
    "def f2(x, a, b, c):\n",
    "    return a * x**2 + b*x + c\n",
    "\n",
    "\n",
    "plt.scatter(x, y)  # 绘制散点图\n",
    "popt, pcov = curve_fit(f2, x, y)    # 执行非线性拟合\n",
    "# popt数组中，三个值分别是待求参数a,b,c\n",
    "y1 = [f2(i, popt[0], popt[1], popt[2]) for i in x]   # 计算得到拟合曲线上的一系列点\n",
    "plt.plot(x, y1, 'r')   # 绘制拟合曲线"
   ]
  },
  {
   "cell_type": "code",
   "execution_count": 6,
   "metadata": {
    "id": "A98241D68FE6470D99E48822138AD44A",
    "jupyter": {},
    "slideshow": {
     "slide_type": "slide"
    },
    "tags": []
   },
   "outputs": [
    {
     "data": {
      "text/plain": [
       "[<matplotlib.lines.Line2D at 0x1263ff850>]"
      ]
     },
     "execution_count": 6,
     "metadata": {},
     "output_type": "execute_result"
    },
    {
     "data": {
      "image/png": "[encoded data removed]",
      "text/plain": [
       "<Figure size 432x288 with 1 Axes>"
      ]
     },
     "metadata": {
      "needs_background": "light"
     },
     "output_type": "display_data"
    }
   ],
   "source": [
    "from scipy.optimize import curve_fit  # 导入非线性拟合函数curve_fit\n",
    "\n",
    "# 定义需要拟合的函数形式，这里使用二次函数的一般式 y = ax^2 + bx + c\n",
    "def f2(x, a, b, c,d):\n",
    "    return a * x**3 + b*x**2 + c*x +d\n",
    "\n",
    "\n",
    "plt.scatter(x, y)  # 绘制散点图\n",
    "popt, pcov = curve_fit(f2, x, y)    # 执行非线性拟合\n",
    "# popt数组中，三个值分别是待求参数a,b,c\n",
    "y1 = [f2(i, popt[0], popt[1], popt[2], popt[3]) for i in x]   # 计算得到拟合曲线上的一系列点\n",
    "plt.plot(x, y1, 'r')   # 绘制拟合曲线"
   ]
  },
  {
   "cell_type": "code",
   "execution_count": 7,
   "metadata": {
    "id": "92A7A389DAD74874BC11D7221431FCAD",
    "jupyter": {},
    "slideshow": {
     "slide_type": "slide"
    },
    "tags": []
   },
   "outputs": [
    {
     "data": {
      "text/plain": [
       "[<matplotlib.lines.Line2D at 0x1264ee650>]"
      ]
     },
     "execution_count": 7,
     "metadata": {},
     "output_type": "execute_result"
    },
    {
     "data": {
      "image/png": "[encoded data removed]",
      "text/plain": [
       "<Figure size 432x288 with 1 Axes>"
      ]
     },
     "metadata": {
      "needs_background": "light"
     },
     "output_type": "display_data"
    }
   ],
   "source": [
    "from scipy.optimize import curve_fit  # 导入非线性拟合函数curve_fit\n",
    "\n",
    "# 定义需要拟合的函数形式，这里使用二次函数的一般式 y = ax^2 + bx + c\n",
    "def f2(x, a, b, c,d,e):\n",
    "    return a * x**4 + b*x**3 + c*x**2 +d*x +e\n",
    "\n",
    "\n",
    "plt.scatter(x, y)  # 绘制散点图\n",
    "popt, pcov = curve_fit(f2, x, y)    # 执行非线性拟合\n",
    "# popt数组中，三个值分别是待求参数a,b,c\n",
    "y1 = [f2(i, popt[0], popt[1], popt[2], popt[3],popt[4]) for i in x]   # 计算得到拟合曲线上的一系列点\n",
    "plt.plot(x, y1, 'r')   # 绘制拟合曲线"
   ]
  },
  {
   "cell_type": "code",
   "execution_count": null,
   "metadata": {
    "id": "2BC31C0E744C41158999EC0DDABF4EC5",
    "jupyter": {},
    "slideshow": {
     "slide_type": "slide"
    },
    "tags": []
   },
   "outputs": [],
   "source": []
  },
  {
   "cell_type": "code",
   "execution_count": 8,
   "metadata": {
    "id": "0DE7368BBA4B4F79B55495770D00DCE4",
    "jupyter": {},
    "slideshow": {
     "slide_type": "slide"
    },
    "tags": []
   },
   "outputs": [],
   "source": [
    "## 输入数据\n",
    "interest_rate = [2.75,2.5,2.5,2.5,2.5,2.5,\n",
    "                2.5,2.25,2.25,2.25,2,2,2,1.75,1.75,\n",
    "                1.75,1.75,1.75,1.75,1.75,1.75,1.75,1.75,1.75,]\n",
    "                \n",
    "unemployment_rate = [5.3,5.3,5.3,5.3,5.4,5.6,5.5,5.5,5.5,5.6,\n",
    "                    5.7,5.9,6,5.9,5.8,6.1,6.2,6.1,6.1,\n",
    "                    6.1,5.9,6.2,6.2,6.1]\n",
    "                    \n",
    "stock_index_price = [1464,1394,1357,1293,1256,1254,1234,1195,1159,\n",
    "                    1167,1130,1075,1047,965,943,958,971,949,884,\n",
    "                    866,876,822,704,719]\n",
    "\n",
    "X = [interest_rate,unemployment_rate]\n",
    "X = np.array(X).T\n",
    "Y = stock_index_price"
   ]
  },
  {
   "cell_type": "code",
   "execution_count": 9,
   "metadata": {
    "id": "DC821CCED5D243008F94066F9B5C007E",
    "jupyter": {},
    "slideshow": {
     "slide_type": "slide"
    },
    "tags": []
   },
   "outputs": [
    {
     "data": {
      "text/plain": [
       "LinearRegression()"
      ]
     },
     "execution_count": 9,
     "metadata": {},
     "output_type": "execute_result"
    }
   ],
   "source": [
    "from sklearn.linear_model import LinearRegression  # 导入线性回归函数LinearRegression\n",
    "lrModel = LinearRegression()     # 初始化回归模型\n",
    "lrModel.fit(np.array(X),Y)  # 输入需要回归的数据"
   ]
  },
  {
   "cell_type": "code",
   "execution_count": 10,
   "metadata": {
    "id": "746647D27B334E59A75F95B6EC4029C9",
    "jupyter": {},
    "slideshow": {
     "slide_type": "slide"
    },
    "tags": []
   },
   "outputs": [
    {
     "name": "stdout",
     "output_type": "stream",
     "text": [
      "截距为： 1798.4039776258546\n",
      "系数为： [ 345.54008701 -250.14657137]\n",
      "R2为： 0.8976335894170215\n"
     ]
    }
   ],
   "source": [
    "print('截距为：', lrModel.intercept_)  # 输出截距\n",
    "print('系数为：', lrModel.coef_)    # 输出系数\n",
    "score = lrModel.score(X,Y)\n",
    "print('R2为：', score)    # 输出相关系数R2"
   ]
  },
  {
   "cell_type": "code",
   "execution_count": 11,
   "metadata": {
    "id": "2FA4CCBF837545FFA9977317E49BCC68",
    "jupyter": {},
    "slideshow": {
     "slide_type": "slide"
    },
    "tags": []
   },
   "outputs": [
    {
     "data": {
      "text/plain": [
       "<matplotlib.legend.Legend at 0x127beadd0>"
      ]
     },
     "execution_count": 11,
     "metadata": {},
     "output_type": "execute_result"
    },
    {
     "data": {
      "image/png": "[encoded data removed]",
      "text/plain": [
       "<Figure size 432x288 with 1 Axes>"
      ]
     },
     "metadata": {
      "needs_background": "light"
     },
     "output_type": "display_data"
    }
   ],
   "source": [
    "## 预测值\n",
    "import matplotlib.pyplot as plt\n",
    "Predicted_value = 345.54 * np.array(interest_rate) - 250 * np.array(unemployment_rate) + 1789\n",
    "plt.plot(Predicted_value,label = 'Predicted_value')\n",
    "plt.plot(Y,label = 'Observation')\n",
    "plt.legend()"
   ]
  },
  {
   "cell_type": "code",
   "execution_count": 12,
   "metadata": {
    "id": "AC041090ABFA480F85BA89AC6DAD436A",
    "jupyter": {},
    "slideshow": {
     "slide_type": "slide"
    },
    "tags": []
   },
   "outputs": [
    {
     "data": {
      "text/plain": [
       "-0.002639815337123893"
      ]
     },
     "execution_count": 12,
     "metadata": {},
     "output_type": "execute_result"
    }
   ],
   "source": [
    "np.mean((Predicted_value - Y)/Y)"
   ]
  },
  {
   "cell_type": "code",
   "execution_count": null,
   "metadata": {
    "id": "4765B4D9C7484D2382DA687CA990F2DC",
    "jupyter": {},
    "slideshow": {
     "slide_type": "slide"
    },
    "tags": []
   },
   "outputs": [],
   "source": []
  },
  {
   "cell_type": "code",
   "execution_count": 13,
   "metadata": {
    "id": "3BFC432CBD71413F890FC34C7FCFE07B",
    "jupyter": {},
    "slideshow": {
     "slide_type": "slide"
    },
    "tags": []
   },
   "outputs": [
    {
     "data": {
      "text/plain": [
       "0.025"
      ]
     },
     "execution_count": 13,
     "metadata": {},
     "output_type": "execute_result"
    }
   ],
   "source": [
    "## 单队伍\n",
    "import numpy as np\n",
    "Lambda = 2\n",
    "mu = 10\n",
    "W_q = Lambda/(mu*(mu-Lambda))\n",
    "W_q"
   ]
  },
  {
   "cell_type": "code",
   "execution_count": 14,
   "metadata": {
    "id": "FB3EF8BF90E845FFA8CB24EEA57AD2DA",
    "jupyter": {},
    "slideshow": {
     "slide_type": "slide"
    },
    "tags": []
   },
   "outputs": [
    {
     "data": {
      "text/plain": [
       "0.004166666666666667"
      ]
     },
     "execution_count": 14,
     "metadata": {},
     "output_type": "execute_result"
    }
   ],
   "source": [
    "## 多队伍\n",
    "import numpy as np\n",
    "Lambda = 4\n",
    "c = 2\n",
    "mu = 10\n",
    "rho = Lambda/(c*mu)\n",
    "S = 0\n",
    "for k in range(c):\n",
    "    S = S + 1/np.math.factorial(k)*(Lambda/mu)**k\n",
    "P_0 = (S + 1/np.math.factorial(c)/(1-rho)*(Lambda/mu)**c)**(-1)\n",
    "W_q = (c*rho)**c * rho/(Lambda *np.math.factorial(c)*(1-rho)**2 ) * P_0\n",
    "W_q"
   ]
  },
  {
   "cell_type": "code",
   "execution_count": 15,
   "metadata": {
    "id": "5B714203E9034C28887497E7E0F671EE",
    "jupyter": {},
    "slideshow": {
     "slide_type": "slide"
    },
    "tags": []
   },
   "outputs": [
    {
     "data": {
      "text/plain": [
       "[<matplotlib.lines.Line2D at 0x127d750d0>]"
      ]
     },
     "execution_count": 15,
     "metadata": {},
     "output_type": "execute_result"
    },
    {
     "data": {
      "image/png": "[encoded data removed]",
      "text/plain": [
       "<Figure size 1440x360 with 1 Axes>"
      ]
     },
     "metadata": {
      "needs_background": "light"
     },
     "output_type": "display_data"
    }
   ],
   "source": [
    "import matplotlib.pyplot as plt\n",
    "%matplotlib inline\n",
    "\n",
    "r1 = 0.2\n",
    "r2 = 0.3\n",
    "N1 = 100\n",
    "N2 = 70\n",
    "sigma1 = 1.2\n",
    "sigma2 = 0.5\n",
    "x1_0 = 30\n",
    "x2_0 = 40\n",
    "\n",
    "deltaT = 0.01\n",
    "TotTime = 40\n",
    "\n",
    "timeStep = TotTime/deltaT\n",
    "\n",
    "x1_list = []\n",
    "x2_list = []\n",
    "x1_list.append(x1_0)\n",
    "x2_list.append(x2_0)\n",
    "\n",
    "TimeList = [i*deltaT for i in range(int(timeStep))]\n",
    "\n",
    "for time in TimeList:\n",
    "    x1_list.append(x1_list[-1] +deltaT * (r1 *x1_list[-1])*(1 - x1_list[-1]/N1 - sigma1 * x2_list[-1]/N2))\n",
    "    x2_list.append(x2_list[-1] +deltaT * (r2 *x2_list[-1])*(1 - sigma2* x1_list[-1]/N1 -  x2_list[-1]/N2))\n",
    "plt.figure(figsize = (20,5))\n",
    "plt.plot(TimeList,x1_list[:-1])\n",
    "plt.plot(TimeList,x2_list[:-1])"
   ]
  },
  {
   "cell_type": "code",
   "execution_count": 16,
   "metadata": {
    "id": "BD09198842D745CD8F539AFE5856B334",
    "jupyter": {},
    "slideshow": {
     "slide_type": "slide"
    },
    "tags": []
   },
   "outputs": [
    {
     "name": "stdout",
     "output_type": "stream",
     "text": [
      "[0.55 0.32 0.13]\n",
      "[0.525 0.336 0.139]\n",
      "[0.5255 0.3328 0.1417]\n",
      "[0.52405 0.33344 0.14251]\n",
      "[0.523935 0.333312 0.142753]\n",
      "[0.5238365 0.3333376 0.1428259]\n",
      "[0.52381975 0.33333248 0.14284777]\n",
      "[0.52381217 0.3333335  0.14285433]\n",
      "[0.5238104 0.3333333 0.1428563]\n",
      "[0.52380977 0.33333334 0.14285689]\n"
     ]
    }
   ],
   "source": [
    "## 转移概率矩阵\n",
    "P = np.array([[0.5,0.4,0.1],[0.7,0.2,0.1],[0.2,0.4,0.4]])\n",
    "## 初始状态\n",
    "P_0 = [0.5,0.4,0.1]\n",
    "##\n",
    "for i in range(10):\n",
    "    P_0 = np.dot(P_0,P)\n",
    "    print(P_0)"
   ]
  },
  {
   "cell_type": "code",
   "execution_count": 17,
   "metadata": {
    "id": "EEFF3DEEC98F415A84C07EB750B946EB",
    "jupyter": {},
    "slideshow": {
     "slide_type": "slide"
    },
    "tags": []
   },
   "outputs": [
    {
     "name": "stdout",
     "output_type": "stream",
     "text": [
      "[0.57 0.22 0.21]\n",
      "[0.487 0.202 0.311]\n",
      "[0.4217 0.1782 0.4001]\n",
      "[0.36647 0.15562 0.47791]\n",
      "[0.318777 0.135542 0.545681]\n",
      "[0.2773607 0.1179722 0.6046671]\n",
      "[0.24134137 0.10266102 0.65599761]\n",
      "[0.21000337 0.08933268 0.70066395]\n",
      "[0.18273543 0.07773375 0.73953082]\n",
      "[0.1590083  0.06764058 0.77335112]\n",
      "[0.13836204 0.05885789 0.80278006]\n",
      "[0.12039659 0.05121557 0.82838785]\n",
      "[0.10476384 0.04456554 0.85067062]\n",
      "[0.0911609  0.03877899 0.87006011]\n",
      "[0.07932423 0.03374377 0.886932  ]\n",
      "[0.06902447 0.02936236 0.90161318]\n",
      "[0.06006207 0.02554984 0.91438809]\n",
      "[0.05226338 0.02223235 0.92550427]\n",
      "[0.04547731 0.01934562 0.93517708]\n",
      "[0.03957236 0.01683371 0.94359393]\n",
      "[0.03443414 0.01464796 0.95091791]\n",
      "E需要 22 代\n"
     ]
    }
   ],
   "source": [
    "## 状态转移矩阵\n",
    "P = np.array([[0.7,0.2,0.1],[0.4,0.4,0.2],[0,0,1]])\n",
    "P_0 = [0.7,0.2,0.1]\n",
    "k = 1\n",
    "while P_0[2] < 0.95:\n",
    "    P_0 = np.dot(P_0,P)\n",
    "    print(P_0)\n",
    "    k = k +1\n",
    "print('E需要',k,'代')"
   ]
  },
  {
   "cell_type": "code",
   "execution_count": 18,
   "metadata": {
    "id": "5C04D93ECEF94A33837DF00D8DEFFFBC",
    "jupyter": {},
    "slideshow": {
     "slide_type": "slide"
    },
    "tags": []
   },
   "outputs": [
    {
     "name": "stdout",
     "output_type": "stream",
     "text": [
      "[0.44 0.24 0.32]\n",
      "[0.404 0.184 0.412]\n",
      "[0.3564 0.1544 0.4892]\n",
      "[0.31124 0.13304 0.55572]\n",
      "[0.271084 0.115464 0.613452]\n",
      "[0.2359444 0.1004024 0.6636532]\n",
      "[0.20532204 0.08734984 0.70732812]\n",
      "[0.17866536 0.07600434 0.74533029]\n",
      "[0.15546749 0.06613481 0.7783977 ]\n",
      "[0.13528117 0.05754742 0.80717141]\n",
      "[0.11771579 0.0500752  0.83220901]\n",
      "[0.10243113 0.04357324 0.85399563]\n",
      "[0.08913109 0.03791552 0.87295339]\n",
      "[0.07755797 0.03299243 0.8894496 ]\n",
      "[0.06748755 0.02870856 0.90380389]\n",
      "[0.05872471 0.02498094 0.91629435]\n",
      "[0.05109967 0.02173732 0.92716301]\n",
      "[0.0444647  0.01891486 0.93662044]\n",
      "[0.03869123 0.01645888 0.94484988]\n",
      "[0.03366742 0.0143218  0.95201078]\n",
      "S需要 21 代\n"
     ]
    }
   ],
   "source": [
    "## 状态转移矩阵\n",
    "P = np.array([[0.7,0.2,0.1],[0.4,0.4,0.2],[0,0,1]])\n",
    "P_0 = [0.4,0.4,0.2]\n",
    "k = 1\n",
    "while P_0[2] < 0.95:\n",
    "    P_0 = np.dot(P_0,P)\n",
    "    print(P_0)\n",
    "    k = k +1\n",
    "print('S需要',k,'代')"
   ]
  },
  {
   "cell_type": "code",
   "execution_count": 19,
   "metadata": {
    "id": "4B75F96D89CA4F848A97E644A810FF31",
    "jupyter": {},
    "slideshow": {
     "slide_type": "slide"
    },
    "tags": []
   },
   "outputs": [
    {
     "name": "stdout",
     "output_type": "stream",
     "text": [
      "C需要 1 代\n"
     ]
    }
   ],
   "source": [
    "## 状态转移矩阵\n",
    "P = np.array([[0.7,0.2,0.1],[0.4,0.4,0.2],[0,0,1]])\n",
    "P_0 = [0,0,1]\n",
    "k = 1\n",
    "while P_0[2] < 0.95:\n",
    "    P_0 = np.dot(P_0,P)\n",
    "    print(P_0)\n",
    "    k = k +1\n",
    "print('C需要',k,'代')"
   ]
  },
  {
   "cell_type": "code",
   "execution_count": null,
   "metadata": {
    "id": "3719FED22DB840D28FE7EE09040AF932",
    "jupyter": {},
    "slideshow": {
     "slide_type": "slide"
    },
    "tags": []
   },
   "outputs": [],
   "source": [
    "\n",
    "\n",
    "\n",
    "\n"
   ]
  }
 ],
 "metadata": {
  "jupytext": {
   "text_representation": {
    "extension": ".md",
    "format_name": "myst",
    "format_version": 0.12,
    "jupytext_version": "1.6.0"
   }
  },
  "kernelspec": {
   "display_name": "Python 3",
   "language": "python",
   "name": "python3"
  },
  "language_info": {
   "codemirror_mode": {
    "name": "ipython",
    "version": 3
   },
   "file_extension": ".py",
   "mimetype": "text/x-python",
   "name": "python",
   "nbconvert_exporter": "python",
   "pygments_lexer": "ipython3",
   "version": "3.7.9"
  },
  "source_map": [
   12,
   96,
   115,
   133,
   169,
   234,
   268,
   280,
   296,
   300,
   322,
   326,
   348,
   352,
   374,
   378,
   389,
   394,
   420,
   433,
   447,
   453,
   457,
   473,
   477,
   488,
   492,
   501,
   520,
   561,
   565,
   575,
   587,
   591,
   604,
   608,
   624,
   644,
   660,
   698,
   741,
   745,
   757,
   767,
   782,
   790,
   794,
   812,
   816,
   820,
   828,
   841,
   845,
   864,
   883,
   902
  ]
 },
 "nbformat": 4,
 "nbformat_minor": 4
}