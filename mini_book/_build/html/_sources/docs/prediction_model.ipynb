{
 "cells": [
  {
   "cell_type": "markdown",
   "metadata": {
    "id": "885C8DEF8CC341618A13295098F8FF24",
    "jupyter": {},
    "mdEditEnable": false,
    "slideshow": {
     "slide_type": "slide"
    },
    "tags": []
   },
   "source": [
    "# 预测模型\n",
    "\n",
    "## 预测模型介绍"
   ]
  },
  {
   "cell_type": "markdown",
   "metadata": {
    "id": "078EB20655B548BBA5058A73B142EFF0",
    "jupyter": {},
    "mdEditEnable": false,
    "slideshow": {
     "slide_type": "slide"
    },
    "tags": []
   },
   "source": [
    "**预测**(Prediction)是根据事物的历史资料及现状，运用一定的理论和方法，探求事物演变规律，对其未来发展状况作出的一种科学推测。生活中使用预测模型的场景比如：\n",
    "- 天气预报\n",
    "- 飞机晚点预测\n",
    "- 房价预测\n",
    "- 股市\n",
    "\n",
    "\n",
    "随着科学技术的发展和各种预测实践经验的积累，预测作为一门综合性科学已发展成为一门比较完善的学科，现在预测方法已近二百种（最常用的有十几种），但每种方法都有一定的使用范围，它们往往是相互补充的，实际预测时也常常是几种方法一起用。\n",
    "\n",
    "预测方法虽然很多，但到目前为止，还没有一个统一的、普遍适用的分类体系，若根据预测的性质，大体可将预测分为**定性预测**和**定量预测**两类。"
   ]
  },
  {
   "cell_type": "markdown",
   "metadata": {
    "id": "9012D20967DD4370A722A89C4C85F140",
    "jupyter": {},
    "mdEditEnable": false,
    "slideshow": {
     "slide_type": "slide"
    },
    "tags": []
   },
   "source": [
    "```{figure} https://cdn.kesci.com/upload/image/q32dm25jw8.png?imageView2/0\n",
    "---\n",
    "height: 450px\n",
    "name: 预测模型框架图\n",
    "---\n",
    "\n",
    "```\n",
    "\n",
    "\n",
    "定量预测的特点是偏重于利用统计资料，借助于数学方法建立数学模型进行预测，是以数学模型为主的预测方法。又可分为**因果预测**和**时间序列预测**。\n",
    "- **因果预测**是以相关原理来分析预测对象与有关因素的相互关系，并以此关系构造模型进行预测。例如，要预测人的血压与年龄的关系、贫血与缺铁的关系等都可以用此预测方法。常用的因果预测模型有**回归分析、数量经济模型、灰色系统模型、生命周期分析**等。\n",
    "- **时间序列预测**是根据预测对象时间序列的变化特征，来研究事物自身的发展规律和探讨未来发展趋势的。时间序列与因果预测的最重要区别就在于其研究的是“自身”的变化规律而不是因素之间的关系。"
   ]
  },
  {
   "cell_type": "markdown",
   "metadata": {
    "id": "0EF018C73DEE40D78FA483D91B808AF6",
    "jupyter": {},
    "mdEditEnable": false,
    "slideshow": {
     "slide_type": "slide"
    },
    "tags": []
   },
   "source": [
    "## 线性回归\n",
    "\n",
    "**确定性关系和相关关系：**\n",
    "\n",
    "- **参数之间的确定性关系是指某参数可以完全由其他参数所决定**，例如正方形的面积与边长的关系，总价格与单价和数量的关系等。\n",
    "- **相关关系是指一个或多个变量之间有一定的联系，但是这个联系不是完全决定性的**。例如，人的身高与体重有一定的关系，一般来讲身高高的人体重相对大一些。但是它们之间不能用一个确定的表达式表示出来。这次变量之间的关系。我们称之为相关关系。又如环境因素与农作物的产量也有相关关系，因为在相同环境条件下农作物的产量也有区别，这也就是说农作物的产量是一个随机变量。\n",
    "\n",
    "\n",
    "**回归分析：**回归分析就是研究相关关系的一种数学方法，是寻找不完全确定的变量间的数学关系式并进行统计推断的一种方法。它能帮助我们从一个变量取得的值去估计另一个变量的值。\n",
    "\n",
    "**线性回归：**回归分析中最简单的是线性回归。\n",
    "\n",
    "\n",
    "### 一元线性回归模型"
   ]
  },
  {
   "cell_type": "markdown",
   "metadata": {
    "id": "89329F3B98614F5BA5A1FBF8FF06DDB0",
    "jupyter": {},
    "mdEditEnable": false,
    "slideshow": {
     "slide_type": "slide"
    },
    "tags": []
   },
   "source": [
    "单变量线性回归，又称简单线性回归（simple linear regression,SLR），是最简单但用途很广的回归模型。其回归式为：\n",
    "\n",
    "$$\n",
    "y=\\alpha+\\beta x\n",
    "$$\n",
    "\n",
    "为了从一组样本$\\{\\left(x_{i}, y_{i}\\right)|i = 1,2,\\cdots,n\\}$之中估计最合适的参数$\\alpha$和$\\beta$，通常采用**最小二乘法**，其计算目标为**最小化残差平方和**：\n",
    "\n",
    "$$\n",
    "\\min \\sum_{i=1}^{n} \\varepsilon_{i}^{2}=\\min \\sum_{i=1}^{n}\\left(y_{i}-\\alpha-\\beta x_{i}\\right)^{2}\n",
    "$$"
   ]
  },
  {
   "cell_type": "markdown",
   "metadata": {
    "id": "9DFB497E26EC47558F13E66F55AD355B",
    "jupyter": {},
    "mdEditEnable": false,
    "slideshow": {
     "slide_type": "slide"
    },
    "tags": []
   },
   "source": [
    "**本课程我们暂不关心最小二乘法的推导过程，只需了解其原理及应用即可。** 这里直接给出最小二乘估计的结果\n",
    "\n",
    "$$\n",
    "\\begin{aligned}\n",
    "\\hat{\\alpha}&=\\bar{y}-\\bar{x} \\hat{\\beta}\\\\\n",
    "\\hat{\\beta}&=S_{x y} / S_{x x}\n",
    "\\end{aligned}\n",
    "$$\n",
    "\n",
    "其中，\n",
    "\n",
    "$$\n",
    "\\bar{y}=\\frac{1}{n} \\sum_{i} y_{i}\n",
    "$$\n",
    "\n",
    "$$\n",
    "\\bar{x}=\\frac{1}{n} \\sum_{i} x_{i}\n",
    "$$\n",
    "\n",
    "$$\n",
    "S_{x x}=\\sum_{i}\\left(x_{i}-\\bar{x}\\right)^{2}\n",
    "$$\n",
    "\n",
    "$$\n",
    "S_{y y}=\\sum_{i}\\left(y_{i}-\\bar{y}\\right)^{2}\n",
    "$$\n",
    "\n",
    "$$\n",
    "S_{x y}=\\sum_{i}\\left(x_{i}-\\bar{x}\\right)\\left(y_{i}-\\bar{y}\\right)\n",
    "$$"
   ]
  },
  {
   "cell_type": "markdown",
   "metadata": {
    "id": "1024F7F7C71E4DF5892FF3F2A858B28B",
    "jupyter": {},
    "mdEditEnable": false,
    "slideshow": {
     "slide_type": "slide"
    },
    "tags": []
   },
   "source": [
    "现在有一组高中生的身高和腿长的数据，用一元线性回归研究他们之间的关系，然后对新的同学进行预测。先来看看数据的**散点图**"
   ]
  },
  {
   "cell_type": "code",
   "execution_count": 1,
   "metadata": {
    "id": "1A54E5C63F654170969A2C31B002E924",
    "jupyter": {},
    "slideshow": {
     "slide_type": "slide"
    },
    "tags": []
   },
   "outputs": [
    {
     "data": {
      "text/plain": [
       "Text(0, 0.5, '$L$')"
      ]
     },
     "execution_count": 1,
     "metadata": {},
     "output_type": "execute_result"
    },
    {
     "data": {
      "image/png": "[encoded data removed]",
      "text/plain": [
       "<Figure size 432x288 with 1 Axes>"
      ]
     },
     "metadata": {
      "filenames": {
       "image/png": "/Users/rentongxin/Documents/GitHub/math-models.github.io/mini_book/_build/jupyter_execute/docs/prediction_model_7_1.png"
      }
     },
     "output_type": "display_data"
    }
   ],
   "source": [
    "import numpy as np    # 导入 numpy库，用于科学计算\n",
    "import pandas as pd    # 导入 pandas库 ，用于数据分析\n",
    "import matplotlib.pyplot as plt   # 导入 pandas库 ，用于数据可视化\n",
    "\n",
    "%matplotlib inline \n",
    "plt.style.use(\"ggplot\")  # 使用ggplot绘图风格\n",
    "from sklearn.linear_model import LinearRegression  # 导入线性回归工具函数 LinearRegression\n",
    "x = np.array([143, 145, 146, 147, 149, 150, 153, 154, 155,\n",
    "              156, 157, 158, 159, 160, 162, 164])  # 输入x数据\n",
    "x = x.reshape(16, 1)    # 修改数据的格式，从行向量转换为列向量\n",
    "y = np.array([88, 85, 88, 91, 92, 93, 93, 95, 96,\n",
    "              98, 97, 96, 98, 99, 100, 102])  # 输入y数据\n",
    "plt.scatter(x, y)    # 绘制散点图\n",
    "plt.xlabel(r'$H$')  # 添加xlabel\n",
    "plt.ylabel(r'$L$')  # 绘制ylabel"
   ]
  },
  {
   "cell_type": "markdown",
   "metadata": {
    "id": "832A1749CB804FB48A8191E8158DD1E2",
    "jupyter": {},
    "mdEditEnable": false,
    "slideshow": {
     "slide_type": "slide"
    },
    "tags": []
   },
   "source": [
    "很明显，升身高和体重明显**符合线性关系**。下面我们使用`sklearn.linear_model`中的`LinearRegression`方法进行线性回归"
   ]
  },
  {
   "cell_type": "code",
   "execution_count": 2,
   "metadata": {
    "id": "D785529126F1483486FE48BBB9CBF8E4",
    "jupyter": {},
    "slideshow": {
     "slide_type": "slide"
    },
    "tags": []
   },
   "outputs": [
    {
     "data": {
      "text/plain": [
       "LinearRegression()"
      ]
     },
     "execution_count": 2,
     "metadata": {},
     "output_type": "execute_result"
    }
   ],
   "source": [
    "# 1. 初始化线性回归函数，命名为lrModel\n",
    "lrModel = LinearRegression()\n",
    "# 2. 使用lrModel对数据x,y进行拟合\n",
    "lrModel.fit(x,y)"
   ]
  },
  {
   "cell_type": "code",
   "execution_count": 3,
   "metadata": {
    "id": "0D52F473AD2B4AF2A69762157B1285CD",
    "jupyter": {},
    "slideshow": {
     "slide_type": "slide"
    },
    "tags": []
   },
   "outputs": [
    {
     "name": "stdout",
     "output_type": "stream",
     "text": [
      "-16.07298072980727\n",
      "[0.71935219]\n"
     ]
    }
   ],
   "source": [
    "# 3. 输出截距和斜率\n",
    "print(lrModel.intercept_)\n",
    "print(lrModel.coef_)"
   ]
  },
  {
   "cell_type": "code",
   "execution_count": 4,
   "metadata": {
    "id": "82A53E702224472B957591A43EDA3ACC",
    "jupyter": {},
    "slideshow": {
     "slide_type": "slide"
    },
    "tags": []
   },
   "outputs": [
    {
     "data": {
      "text/plain": [
       "<matplotlib.collections.PathCollection at 0x12a5f0e10>"
      ]
     },
     "execution_count": 4,
     "metadata": {},
     "output_type": "execute_result"
    },
    {
     "data": {
      "image/png": "[encoded data removed]",
      "text/plain": [
       "<Figure size 432x288 with 1 Axes>"
      ]
     },
     "metadata": {
      "filenames": {
       "image/png": "/Users/rentongxin/Documents/GitHub/math-models.github.io/mini_book/_build/jupyter_execute/docs/prediction_model_11_1.png"
      }
     },
     "output_type": "display_data"
    }
   ],
   "source": [
    "# 4. 根据回归得到的系数，在散点图上绘制回归直线\n",
    "LR_data = [lrModel.intercept_ + lrModel.coef_ * i for i in range(145,165)]  # 求解回归直线上的一系列点\n",
    "plt.plot(range(145, 165), LR_data)  # 绘制回归直线\n",
    "plt.scatter(x, y)   # 绘制散点图"
   ]
  },
  {
   "cell_type": "markdown",
   "metadata": {
    "id": "9906516A0D614A848EC7BE5657572186",
    "jupyter": {},
    "mdEditEnable": false,
    "slideshow": {
     "slide_type": "slide"
    },
    "tags": []
   },
   "source": [
    "我们常常用相关系数$R^2$描述线性拟合的效果，使用方法如下"
   ]
  },
  {
   "cell_type": "code",
   "execution_count": 5,
   "metadata": {
    "id": "7929F9E8F6104142B17959BA406FF8CB",
    "jupyter": {},
    "slideshow": {
     "slide_type": "slide"
    },
    "tags": []
   },
   "outputs": [
    {
     "data": {
      "text/plain": [
       "0.928187845952738"
      ]
     },
     "execution_count": 5,
     "metadata": {},
     "output_type": "execute_result"
    }
   ],
   "source": [
    "# 5. 计算R2\n",
    "lrModel.score(x,y)"
   ]
  },
  {
   "cell_type": "markdown",
   "metadata": {
    "id": "62B1FA885768417E93BA12ACB358B60C",
    "jupyter": {},
    "mdEditEnable": false,
    "slideshow": {
     "slide_type": "slide"
    },
    "tags": []
   },
   "source": [
    "执行代码可以看到，模型的评分为`0.928`,是非常不错的一个评分，我们就可以使用这个模型进行未知数据的预测了。（评分等于相关系数$R^2$用于表示拟合得到的模型能解释因变量变化的百分比，$R^2$越接近于1，表示回归模型拟合效果越好，通常认为$R^2 > 0.8$ 就是比较满意的回归结果了）"
   ]
  },
  {
   "cell_type": "markdown",
   "metadata": {
    "id": "AA47CE3A5BD041D280E588E7592CC0AC",
    "jupyter": {},
    "mdEditEnable": false,
    "slideshow": {
     "slide_type": "slide"
    },
    "tags": []
   },
   "source": [
    "假定两位新同学的身高分别是170cm和163cm，下面使用本文的模型预测他们的身高。"
   ]
  },
  {
   "cell_type": "code",
   "execution_count": 6,
   "metadata": {
    "id": "3DA6841E426F4C448A3EA7D09D1C22AB",
    "jupyter": {},
    "slideshow": {
     "slide_type": "slide"
    },
    "tags": []
   },
   "outputs": [
    {
     "data": {
      "text/plain": [
       "array([106.21689217, 101.18142681])"
      ]
     },
     "execution_count": 6,
     "metadata": {},
     "output_type": "execute_result"
    }
   ],
   "source": [
    "# 6. 对新的数据进行预测\n",
    "lrModel.predict([[170],[163]])"
   ]
  },
  {
   "cell_type": "markdown",
   "metadata": {
    "id": "811913FB47D446B4818E6A91CDF20299",
    "jupyter": {},
    "mdEditEnable": false,
    "slideshow": {
     "slide_type": "slide"
    },
    "tags": []
   },
   "source": [
    "### 多元线性回归模型"
   ]
  },
  {
   "cell_type": "markdown",
   "metadata": {
    "id": "606CA4A113874B14BF2A36243B797AA6",
    "jupyter": {},
    "mdEditEnable": false,
    "slideshow": {
     "slide_type": "slide"
    },
    "tags": []
   },
   "source": [
    "在回归分析中，如果有两个或两个以上的自变量，就称为多元回归。事实上，一种现象常常是与多个因素相联系的，由多个自变量的最优组合共同来预测或估计因变量，比只用一个自变量进行预测或估计更有效，更符合实际。\n",
    "\n",
    "在实际经济问题中，一个变量往往受到多个变量的影响。例如，家庭消费支出，除了受家庭可支配收入的影响外，还受诸如家庭所有的财富、物价水平、金融机构存款利息等多种因素的影响，表现在线性回归模型中的解释变量有多个。这样的模型被称为**多元线性回归模型（multivariable linear regression model）**\n",
    "\n",
    "$$\n",
    "y=\\beta_{0}+\\beta_{1} x_{1}+\\beta_{2} x_{2}+\\cdots \\beta_{m} x_{m}\n",
    "$$\n",
    "\n",
    "多元性回归模型的参数估计，同一元线性回归方程一样，也是在要求误差平方和最小的前提下，用最小二乘法求解参数。\n",
    "\n",
    "$$\n",
    "\\min \\sum_{i=1}^{n} \\varepsilon_{i}^{2}=\\min \\sum_{i=1}^{n}\\left(y_{i}-\\left(\\beta_{0}+\\beta_{1} x_{1i}+\\beta_{2} x_{2i}+\\cdots \\beta_{m} x_{mi}\\right)\\right)^{2}\n",
    "$$\n",
    "\n",
    "同样地，这里我们暂时不关心回归系数的具体的推导过程，只需要知道如何用Python操作即可。我们通过一个SO2浓度预测的案例进行介绍。"
   ]
  },
  {
   "cell_type": "code",
   "execution_count": 7,
   "metadata": {
    "id": "44009CB34A53435A88B23250AFD7DBA4",
    "jupyter": {},
    "mdEditEnable": false,
    "slideshow": {
     "slide_type": "slide"
    },
    "tags": []
   },
   "outputs": [
    {
     "name": "stdout",
     "output_type": "stream",
     "text": [
      "    SO2(ppm)    R    G    B    S    H\n",
      "0          0  153  148  157  138   14\n",
      "1          0  153  147  157  138   16\n",
      "2          0  153  146  158  137   20\n",
      "3          0  153  146  158  137   20\n",
      "4          0  154  145  157  141   19\n",
      "5         20  144  115  170  135   82\n",
      "6         20  144  115  169  136   81\n",
      "7         20  145  115  172  135   83\n",
      "8         30  145  114  174  135   87\n",
      "9         30  145  114  176  135   89\n",
      "10        30  145  114  175  135   89\n",
      "11        30  146  114  175  135   88\n",
      "12        50  142   99  175  137  110\n",
      "13        50  141   99  174  137  109\n",
      "14        50  142   99  176  136  110\n",
      "15        80  141   96  181  135  119\n",
      "16        80  141   96  182  135  119\n",
      "17        80  140   96  182  135  120\n",
      "18       100  139   96  175  136  115\n",
      "19       100  139   96  174  136  114\n",
      "20       100  139   96  176  136  116\n",
      "21       150  139   86  178  136  131\n",
      "22       150  139   87  177  137  129\n",
      "23       150  138   86  177  137  130\n",
      "24       150  139   86  178  137  131\n"
     ]
    }
   ],
   "source": [
    "import pandas as pd # 导入 pandas库 ，用于数据分析\n",
    "data = pd.read_csv('../_static/lecture_specific/prediction_model/so2.csv') # 读入数据\n",
    "print(data) # 显示数据"
   ]
  },
  {
   "cell_type": "markdown",
   "metadata": {
    "id": "D859409E51B54C018E8EFFCECEAB4779",
    "jupyter": {},
    "mdEditEnable": false,
    "slideshow": {
     "slide_type": "slide"
    },
    "tags": []
   },
   "source": [
    "可以看到，这是一个**五个变量**的多元线性回归，我们先通过散点图来看一下**各个变量单独与因变量的关系**。"
   ]
  },
  {
   "cell_type": "code",
   "execution_count": 8,
   "metadata": {
    "id": "1C87A0D275CC468195D8F0C74C4A3EA3",
    "jupyter": {},
    "slideshow": {
     "slide_type": "slide"
    },
    "tags": []
   },
   "outputs": [
    {
     "data": {
      "image/png": "[encoded data removed]",
      "text/plain": [
       "<Figure size 1440x936 with 5 Axes>"
      ]
     },
     "metadata": {
      "filenames": {
       "image/png": "/Users/rentongxin/Documents/GitHub/math-models.github.io/mini_book/_build/jupyter_execute/docs/prediction_model_21_0.png"
      }
     },
     "output_type": "display_data"
    }
   ],
   "source": [
    "import seaborn as sns  # 导入 seaborn库 ，用于数据可视化\n",
    "colors = ['r', 'g', 'b', 'm', 'black']  # 指定每个绘图的颜色\n",
    "xlist = ['R', 'G', 'B', 'S', 'H']  # 指定每个绘图的变量名\n",
    "plt.figure(figsize=(20, 13))  # 指定图片大小\n",
    "for i in range(5):\n",
    "    plt.subplot(2, 3, i+1)  # 绘制子图\n",
    "    title = 'r = ' + str(round(np.corrcoef(data[xlist[i]],data['SO2(ppm)'])[1][0], 3))  # 定义子图标题\n",
    "    sns.regplot(x=xlist[i], y=\"SO2(ppm)\", data=data, color=colors[i])  # 绘制带有回归线和置信区间的线性回归图\n",
    "    plt.title(title)  # 添加子图标题"
   ]
  },
  {
   "cell_type": "markdown",
   "metadata": {
    "id": "582F816773B84C3EB2577C1101AE652D",
    "jupyter": {},
    "mdEditEnable": false,
    "slideshow": {
     "slide_type": "slide"
    },
    "tags": []
   },
   "source": [
    "可以看到，除了第四个变量$S$以外，每一个变量基本上都和因变量有线性关系，因此我们可以删去$S$，进行多元线性回归。"
   ]
  },
  {
   "cell_type": "code",
   "execution_count": 9,
   "metadata": {
    "id": "1A9CE839B5794F3F8E3467AFE7E480E8",
    "jupyter": {},
    "slideshow": {
     "slide_type": "slide"
    },
    "tags": []
   },
   "outputs": [
    {
     "name": "stdout",
     "output_type": "stream",
     "text": [
      "截距为： 2044.021593204974\n",
      "系数为： [ -1.38977229 -17.5022507    5.68341432  -9.34216398]\n",
      "R2为： 0.8961318172850157\n"
     ]
    }
   ],
   "source": [
    "from sklearn.linear_model import LinearRegression  # 导入线性回归函数LinearRegression\n",
    "lrModel = LinearRegression()     # 初始化回归模型\n",
    "lrModel.fit(np.array(data[['R', 'G', 'B', 'H']]),\n",
    "            data['SO2(ppm)'])  # 输入需要回归的数据\n",
    "print('截距为：', lrModel.intercept_)  # 输出截距\n",
    "print('系数为：', lrModel.coef_)    # 输出系数\n",
    "score = lrModel.score(np.array(data[['R', 'G', 'B', 'H']]), data['SO2(ppm)'])\n",
    "print('R2为：', score)    # 输出相关系数R2"
   ]
  },
  {
   "cell_type": "markdown",
   "metadata": {
    "id": "9D08EA04E9A140E78B1F3983F096DD64",
    "jupyter": {},
    "mdEditEnable": false,
    "slideshow": {
     "slide_type": "slide"
    },
    "tags": []
   },
   "source": [
    "## 非线性拟合\n",
    "### 一元非线性多项式拟合\n",
    "尽管上述的线性模型已经能够求解许多实际问题，然而生活中的很多系统的增长趋势往往是非线性的，这时候我们就需要用到非线性拟合。\n",
    "\n",
    "\n",
    "对于非线性回归问题而言，最简单也是最常见的方法就是**多项式回归**。多项式（Polynomial）是代数学中的基础概念，是由称为未知数的变量和称为系数的常量通过有限次加法、加减法、乘法以及自然数幂次的乘方运算得到的代数表达式。多项式是整式的一种。未知数只有一个的多项式称为一元多项式；例如$x^{2}-3 x+4$就是一个一元多项式。未知数不止一个的多项式称为多元多项式，例如$x^{3}-2 x y z^{2}+2 y z+1$就是一个三元多项式。"
   ]
  },
  {
   "cell_type": "markdown",
   "metadata": {
    "id": "325F1770BF42437D9ED0011BE3EC57EE",
    "jupyter": {},
    "mdEditEnable": false,
    "slideshow": {
     "slide_type": "slide"
    },
    "tags": []
   },
   "source": [
    "首先，我们通过一组示例数据来认识多项式回归，示例数据一共有 10 组，分别对应着横坐标和纵坐标。接下来，通过 Matplotlib 绘制数据，查看其变化趋势。"
   ]
  },
  {
   "cell_type": "code",
   "execution_count": 10,
   "metadata": {
    "id": "327F1B75D5974EBA89B8F6BB43E2D523",
    "jupyter": {},
    "slideshow": {
     "slide_type": "slide"
    },
    "tags": []
   },
   "outputs": [
    {
     "data": {
      "text/plain": [
       "<matplotlib.collections.PathCollection at 0x12b592b50>"
      ]
     },
     "execution_count": 10,
     "metadata": {},
     "output_type": "execute_result"
    },
    {
     "data": {
      "image/png": "[encoded data removed]",
      "text/plain": [
       "<Figure size 432x288 with 1 Axes>"
      ]
     },
     "metadata": {
      "filenames": {
       "image/png": "/Users/rentongxin/Documents/GitHub/math-models.github.io/mini_book/_build/jupyter_execute/docs/prediction_model_26_1.png"
      }
     },
     "output_type": "display_data"
    }
   ],
   "source": [
    "# 加载示例数据\n",
    "x = [4, 8, 12, 25, 32, 43, 58, 63, 69, 79] # 输入x\n",
    "y = [20, 33, 50, 56, 42, 31, 33, 46, 65, 75]  # 输入y \n",
    "plt.scatter(x, y)  # 绘制散点图"
   ]
  },
  {
   "cell_type": "markdown",
   "metadata": {
    "id": "B5A05D65E2B34818AB685DB62CAE573D",
    "jupyter": {},
    "mdEditEnable": false,
    "slideshow": {
     "slide_type": "slide"
    },
    "tags": []
   },
   "source": [
    "接下来，通过多项式来拟合上面的散点数据。一个标准的一元高阶多项式函数如下所示：\n",
    "\n",
    "$$\n",
    "y(x, w)=w_{0}+w_{1} x+w_{2} x^{2}+\\ldots+w_{m} x^{m}=\\sum_{j=0}^{m} w_{j} x^{j}\n",
    "$$\n",
    "\n",
    "其中，$m$表示多项式的阶数，$x^j$表示$x$的$j$次幂，$w$则代表该多项式的系数。当我们使用上面的多项式去拟合散点时，需要确定两个要素，分别是：\n",
    "- 多项式系数$w$\n",
    "- 多项式阶数$m$\n",
    "\n",
    "这也是多项式的两个基本要素。"
   ]
  },
  {
   "cell_type": "markdown",
   "metadata": {
    "id": "9D054AD1E94C49D58C24163AD9E0FBC9",
    "jupyter": {},
    "mdEditEnable": false,
    "slideshow": {
     "slide_type": "slide"
    },
    "tags": []
   },
   "source": [
    "如果通过手动指定多项式阶数$m$的大小，那么就只需要确定多项式系数$w$的值是多少。例如，这里首先指定$m=2$,多项式就变成了：\n",
    "$$\n",
    "y(x, w)=w_{0}+w_{1} x+w_{2} x^{2}=\\sum_{j=0}^{2} w_{j} x^{j}\n",
    "$$\n",
    "\n",
    "当我们确定$w$的值的大小时，就回到了前面线性回归中学习到的内容，具体来说，就是最小化残差平方和（最小二乘法）。\n",
    "\n",
    "我们先尝试使用二次多项式拟合。"
   ]
  },
  {
   "cell_type": "code",
   "execution_count": 11,
   "metadata": {
    "id": "EC23D2BCD72A4F6781F72F03E40DF96A",
    "jupyter": {},
    "slideshow": {
     "slide_type": "slide"
    },
    "tags": []
   },
   "outputs": [
    {
     "data": {
      "text/plain": [
       "[<matplotlib.lines.Line2D at 0x12dd7b9d0>]"
      ]
     },
     "execution_count": 11,
     "metadata": {},
     "output_type": "execute_result"
    },
    {
     "data": {
      "image/png": "[encoded data removed]",
      "text/plain": [
       "<Figure size 432x288 with 1 Axes>"
      ]
     },
     "metadata": {
      "filenames": {
       "image/png": "/Users/rentongxin/Documents/GitHub/math-models.github.io/mini_book/_build/jupyter_execute/docs/prediction_model_29_1.png"
      }
     },
     "output_type": "display_data"
    }
   ],
   "source": [
    "# 加载示例数据\n",
    "x = [4, 8, 12, 25, 32, 43, 58, 63, 69, 79]\n",
    "y = [20, 33, 50, 56, 42, 31, 33, 46, 65, 75]\n",
    "from scipy.optimize import curve_fit  # 导入非线性拟合函数curve_fit\n",
    "\n",
    "# 定义需要拟合的函数形式，这里使用二次函数的一般式 y = ax^2 + bx + c\n",
    "def f2(x, a, b, c):\n",
    "    return a * x**2 + b*x + c\n",
    "\n",
    "\n",
    "plt.scatter(x, y)  # 绘制散点图\n",
    "popt, pcov = curve_fit(f2, x, y)    # 执行非线性拟合\n",
    "# popt数组中，三个值分别是待求参数a,b,c\n",
    "y1 = [f2(i, popt[0], popt[1], popt[2]) for i in x]   # 计算得到拟合曲线上的一系列点\n",
    "plt.plot(x, y1, 'r')   # 绘制拟合曲线"
   ]
  },
  {
   "cell_type": "markdown",
   "metadata": {
    "id": "A814D22B655F4B4E8D48CB71BE5D2ABE",
    "jupyter": {},
    "mdEditEnable": false,
    "slideshow": {
     "slide_type": "slide"
    },
    "tags": []
   },
   "source": [
    "可以看到，其效果并不好，增大次数试一下？"
   ]
  },
  {
   "cell_type": "code",
   "execution_count": 12,
   "metadata": {
    "id": "2250586370CB4E34894417D27D25A0C0",
    "jupyter": {},
    "slideshow": {
     "slide_type": "slide"
    },
    "tags": []
   },
   "outputs": [
    {
     "data": {
      "text/plain": [
       "Text(0.5, 1.0, '38.052046270695655')"
      ]
     },
     "execution_count": 12,
     "metadata": {},
     "output_type": "execute_result"
    },
    {
     "data": {
      "image/png": "[encoded data removed]",
      "text/plain": [
       "<Figure size 720x720 with 4 Axes>"
      ]
     },
     "metadata": {
      "filenames": {
       "image/png": "/Users/rentongxin/Documents/GitHub/math-models.github.io/mini_book/_build/jupyter_execute/docs/prediction_model_31_1.png"
      }
     },
     "output_type": "display_data"
    }
   ],
   "source": [
    "# f3为三次多项式\n",
    "def f3(x, a, b, c,d):  \n",
    "    return a * x**3 + b*x**2 +c *x +d\n",
    "# f4为四次多项式\n",
    "def f4(x, a, b, c,d,e):  \n",
    "    return a * x**4 + b*x**3 +c *x**2 +d*x + e\n",
    "# f5为五次多项式\n",
    "def f5(x, a, b, c,d,e,f):  \n",
    "    return a * x**5 + b*x**4 +c *x**3 +d*x**2 + e*x +f\n",
    "\n",
    "# 定义方差计算函数\n",
    "def error(y1,y2):\n",
    "    a = np.array(y1)\n",
    "    b = np.array(y2)\n",
    "    return np.dot(a-b,a-b)\n",
    "    \n",
    "\n",
    "plt.figure(figsize = (10,10)) # 定义图片大小\n",
    "plt.subplot(2,2,1) # 开始绘制第1张子图\n",
    "plt.scatter(x, y)  # 绘制（x,y）的散点图\n",
    "popt, pcov = curve_fit(f2, x, y)    # 执行2次多项式拟合\n",
    "#popt数组中，三个值分别是待求参数a,b,c  \n",
    "y1 = [f2(i, popt[0],popt[1],popt[2]) for i in x]  # 得到拟合曲线上的一系列点\n",
    "plt.plot(x,y1,'r--')   # 绘制拟合曲线\n",
    "plt.title(str(error(y,y1))) # 计算方差，并作为图片的标题\n",
    "\n",
    "plt.subplot(2,2,2) # 开始绘制第2张子图\n",
    "plt.scatter(x, y) # 绘制（x,y）的散点图\n",
    "popt, pcov = curve_fit(f3, x, y)   # 执行3次多项式拟合\n",
    "#popt数组中，三个值分别是待求参数a,b,c,d  \n",
    "y1 = [f3(i, popt[0],popt[1],popt[2],popt[3]) for i in x]    # 得到拟合曲线上的一系列点\n",
    "plt.plot(x,y1,'r--')   # 绘制拟合曲线\n",
    "plt.title(str(error(y,y1))) # 计算方差，并作为图片的标题\n",
    "\n",
    "\n",
    "plt.subplot(2,2,3) # 开始绘制第3张子图\n",
    "plt.scatter(x, y)\n",
    "popt, pcov = curve_fit(f4, x, y)  \n",
    "y1 = [f4(i, popt[0],popt[1],popt[2],popt[3],popt[4]) for i in x]  \n",
    "plt.plot(x,y1,'r--')  \n",
    "plt.title(str(error(y,y1)))\n",
    "\n",
    "plt.subplot(2,2,4) # 开始绘制第4张子图\n",
    "plt.scatter(x, y)\n",
    "popt, pcov = curve_fit(f5, x, y)  \n",
    "y1 = [f5(i, popt[0],popt[1],popt[2],popt[3],popt[4],popt[5]) for i in x]  \n",
    "plt.plot(x,y1,'r--')  \n",
    "plt.title(str(error(y,y1)))"
   ]
  },
  {
   "cell_type": "markdown",
   "metadata": {
    "id": "1E70BAB04D8A48698EC253CA226F0A4B",
    "jupyter": {},
    "mdEditEnable": false,
    "slideshow": {
     "slide_type": "slide"
    },
    "tags": []
   },
   "source": [
    "**思考：**一定是越高的阶次越好吗？\n",
    "\n",
    "\n",
    "![Image Name](https://cdn.kesci.com/upload/image/q33loqharh.png?imageView2/0/w/960/h/960)"
   ]
  },
  {
   "cell_type": "markdown",
   "metadata": {
    "id": "FBE109ECD09142EA8B2C16FAF0717136",
    "jupyter": {},
    "mdEditEnable": false,
    "slideshow": {
     "slide_type": "slide"
    },
    "tags": []
   },
   "source": [
    "注意：兼顾拟合误差和预测误差。防止**过拟合（overfit）**和**欠拟合（underfit）**。"
   ]
  },
  {
   "cell_type": "markdown",
   "metadata": {
    "id": "A08C12BC7E0B45CD8BA6D575DE0D8501",
    "jupyter": {},
    "mdEditEnable": false,
    "slideshow": {
     "slide_type": "slide"
    },
    "tags": []
   },
   "source": [
    "### 一元其他非线性函数拟合"
   ]
  },
  {
   "cell_type": "markdown",
   "metadata": {
    "id": "4D7D5CE0D3554651839EF324CA9D2DC1",
    "jupyter": {},
    "mdEditEnable": false,
    "slideshow": {
     "slide_type": "slide"
    },
    "tags": []
   },
   "source": [
    "这里我们举一个指数拟合的例子与二次函数拟合进行对比。实际上，使用本课程讲到的方法，可以进行任意形式的函数拟合。"
   ]
  },
  {
   "cell_type": "markdown",
   "metadata": {
    "id": "59D95B5EA5F44731A07C020A7CBAF488",
    "jupyter": {},
    "mdEditEnable": false,
    "slideshow": {
     "slide_type": "slide"
    },
    "tags": []
   },
   "source": [
    "$$\n",
    "f_1(x) = x^a + b\n",
    "$$\n",
    "\n",
    "$$\n",
    "f_2(x) = ax^2 + b\n",
    "$$"
   ]
  },
  {
   "cell_type": "code",
   "execution_count": 13,
   "metadata": {
    "id": "12B24EF37EE146439CA8F252A2CDE102",
    "jupyter": {},
    "slideshow": {
     "slide_type": "slide"
    },
    "tags": []
   },
   "outputs": [
    {
     "data": {
      "text/plain": [
       "<matplotlib.legend.Legend at 0x12e2fc610>"
      ]
     },
     "execution_count": 13,
     "metadata": {},
     "output_type": "execute_result"
    },
    {
     "data": {
      "image/png": "[encoded data removed]",
      "text/plain": [
       "<Figure size 432x288 with 1 Axes>"
      ]
     },
     "metadata": {
      "filenames": {
       "image/png": "/Users/rentongxin/Documents/GitHub/math-models.github.io/mini_book/_build/jupyter_execute/docs/prediction_model_37_1.png"
      }
     },
     "output_type": "display_data"
    }
   ],
   "source": [
    "# 定义f1\n",
    "def f1(x, a, b):  \n",
    "    return x**a + b  \n",
    "# 定义f2\n",
    "def f2(x,a,b):\n",
    "    return a*x**2 + b\n",
    "# 随机生成数据并绘制折线图\n",
    "xdata = np.linspace(0, 4, 50)  \n",
    "y = f1(xdata, 2.5, 1.3)  \n",
    "ydata = y + 4 * np.random.normal(size=len(xdata))  \n",
    "plt.plot(xdata,ydata,'b-') \n",
    "\n",
    "# 开始拟合\n",
    "popt1, pcov1 = curve_fit(f1, xdata, ydata)   # 使用f1进行拟合\n",
    "popt2, pcov2 = curve_fit(f2, xdata, ydata)    # 使用f2进行拟合\n",
    "\n",
    "y1 = [f1(i, popt1[0],popt1[1]) for i in xdata]\n",
    "y2 = [f2(i, popt2[0],popt2[1]) for i in xdata]\n",
    "plt.plot(xdata,y1,'--',label = 'exp')  \n",
    "plt.plot(xdata,y2,'--',label = 'para') \n",
    "plt.legend()"
   ]
  },
  {
   "cell_type": "markdown",
   "metadata": {
    "id": "9F371968C8514D48A74864CAF093D81C",
    "jupyter": {},
    "mdEditEnable": false,
    "slideshow": {
     "slide_type": "slide"
    },
    "tags": []
   },
   "source": [
    "## 时间序列方法"
   ]
  },
  {
   "cell_type": "markdown",
   "metadata": {
    "id": "77C52AF7B0674E8B87EE5FE1D7CE0FFF",
    "jupyter": {},
    "mdEditEnable": false,
    "slideshow": {
     "slide_type": "slide"
    },
    "tags": []
   },
   "source": [
    "### 移动平均法\n",
    "\n",
    "移动平均法是根据时间序列资料逐渐推移，依次计算包含一定项数的时序平均数，以反映长期趋势的方法。当时间序列的数值由于受周期变动和不规则变动的影响，起伏较大，不易显示出发展趋势时，可用移动平均法，消除这些因素的影响，分析、预测序列的长期趋势。移动平均法有**简单移动平均法，加权移动平均法，趋势移动平均法**等。"
   ]
  },
  {
   "cell_type": "markdown",
   "metadata": {
    "id": "7219D64334D247FE8912D04E5E9EBBC1",
    "jupyter": {},
    "mdEditEnable": false,
    "slideshow": {
     "slide_type": "slide"
    },
    "tags": []
   },
   "source": [
    "#### 简单移动平均法\n",
    "\n",
    "当预测目标的基本趋势是在某一水平上下波动时，可用一次简单移动平均方法建立预测模型。设观测序列为$y_{1}, \\cdots, y_{T}$,取移动平均的项数 $N < T$,\n",
    "\n",
    "$$\n",
    "\\hat{y}_{t+1}=\\frac{1}{N}\\left(\\hat{y}_{t}+\\cdots+\\hat{y}_{t-N+1}\\right), t=N, N+1, \\cdots,\n",
    "$$\n",
    "\n",
    "即：最近$N$期序列值的平均值作为未来各期的预测结果。\n",
    "\n",
    "一般$N$取值范围：$5 \\leq N \\leq 200$。当历史序列的基本趋势变化不大且序列中随机变动成分较多时，$N$ 的取值应较大一些。否则$N$的取值应小一些。在有确定的季节变动周期的资料中，移动平均的项数应取周期长度。选择最佳$N$值的一个有效方法是，比较若干模型的预测误差。预测标准误差最小者为好。"
   ]
  },
  {
   "cell_type": "markdown",
   "metadata": {
    "id": "D13AFCBD987C4187AC09BFE5BCF48D60",
    "jupyter": {},
    "mdEditEnable": false,
    "slideshow": {
     "slide_type": "slide"
    },
    "tags": []
   },
   "source": [
    "**例：**某企业1-11月份的销售收入时间序列如下表所示。试用一次简单移动平均预测其12月份的销售收入。"
   ]
  },
  {
   "cell_type": "markdown",
   "metadata": {
    "id": "28032893C7814E878A7CA732221182C1",
    "jupyter": {},
    "mdEditEnable": false,
    "slideshow": {
     "slide_type": "slide"
    },
    "tags": []
   },
   "source": [
    "| 月份     \t| 1     \t| 2     \t| 3     \t| 4      \t| 5      \t| 6     \t|\n",
    "|----------\t|-------\t|-------\t|-------\t|--------\t|--------\t|-------\t|\n",
    "| 销售收入 \t| 533.8 \t| 574.6 \t| 606.9 \t| 649.8  \t| 705.1  \t| 772.0 \t|\n",
    "| 月份     \t| 7     \t| 8     \t| 9     \t| 10     \t| 11     \t|       \t|\n",
    "| 销售收入 \t| 816.4 \t| 892.7 \t| 963.9 \t| 1015.1 \t| 1102.7 \t|       \t|"
   ]
  },
  {
   "cell_type": "markdown",
   "metadata": {
    "id": "7579145DBED542C985895F81FC810BF4",
    "jupyter": {},
    "mdEditEnable": false,
    "slideshow": {
     "slide_type": "slide"
    },
    "tags": []
   },
   "source": [
    "**解：** 分别取$N=4,N=5$的预测公式\n",
    "\n",
    "$$\n",
    "\\begin{aligned}\n",
    "&\\hat{y}_{t+1}^{(1)}=\\frac{y_{t}+y_{t-1}+y_{t-2}+y_{t-3}}{4}, \\quad t=4,5, \\cdots, 11\\\\\n",
    "&\\hat{y}_{t+1}^{(1)}=\\frac{y_{t}+y_{t-1}+y_{t-2}+y_{t-3}+y_{t-4}}{5}, \\quad t=5, \\cdots, 11\n",
    "\\end{aligned}\n",
    "$$\n",
    "\n",
    "当$N=4$时，预测值$\\hat{y}_{12}^{(1)}=993.6$预测的标准误差为\n",
    "$$\n",
    "S_{1}=\\sqrt{\\frac{\\sum_{i=5}^{11}\\left(\\hat{y}_{t}^{(1)}-y_{t}\\right)^{2}}{11-4}}=150.5\n",
    "$$\n",
    "\n",
    "当$N=5$时，预测值$\\hat{y}_{12}^{(1)}=958.2$预测的标准误差为\n",
    "$$\n",
    "S_{2}=\\sqrt{\\frac{\\sum_{t=6}^{11}\\left(\\hat{y}_{t}^{(1)}-y_{t}\\right)^{2}}{11-5}}=182.4\n",
    "$$\n",
    "\n",
    "计算结果表明，$N = 4$时，预测的标准误差较小，所以选取$N = 4$。预测第 12 月份的销售收入为993.6。"
   ]
  },
  {
   "cell_type": "code",
   "execution_count": 14,
   "metadata": {
    "id": "414B2343F1B74FF38A96E596D211E047",
    "jupyter": {},
    "slideshow": {
     "slide_type": "slide"
    },
    "tags": []
   },
   "outputs": [
    {
     "data": {
      "text/plain": [
       "<matplotlib.collections.PathCollection at 0x12e34c4d0>"
      ]
     },
     "execution_count": 14,
     "metadata": {},
     "output_type": "execute_result"
    },
    {
     "data": {
      "image/png": "[encoded data removed]",
      "text/plain": [
       "<Figure size 432x288 with 1 Axes>"
      ]
     },
     "metadata": {
      "filenames": {
       "image/png": "/Users/rentongxin/Documents/GitHub/math-models.github.io/mini_book/_build/jupyter_execute/docs/prediction_model_44_1.png"
      }
     },
     "output_type": "display_data"
    }
   ],
   "source": [
    "x = [1, 2, 3, 4, 5, 6, 7, 8, 9, 10, 11]  # 输入x值\n",
    "y = [\n",
    "    533.8,\n",
    "    574.6,\n",
    "    606.9,\n",
    "    649.8,\n",
    "    705.1,\n",
    "    772.0,\n",
    "    816.4,\n",
    "    892.7,\n",
    "    963.9,\n",
    "    1015.1,\n",
    "    1102.7]  # 输入y值\n",
    "plt.scatter(x, y)  # 绘制散点图\n",
    "N = 4  # 选择N=4\n",
    "y12 = np.mean(y[-4:])  # 进行移动平均预测\n",
    "plt.scatter(12, y12)  # 绘制移动平均结果"
   ]
  },
  {
   "cell_type": "markdown",
   "metadata": {
    "id": "F55E5C36DFEC4FFCAB9A0CF6A842F001",
    "jupyter": {},
    "mdEditEnable": false,
    "slideshow": {
     "slide_type": "slide"
    },
    "tags": []
   },
   "source": [
    "简单移动平均法**只适合做近期预测**，而且是预测目标的**发展趋势变化不大**的情况。如果目标的发展趋势存在其它的变化，采用简单移动平均法就会产生较大的预测偏差和滞后。"
   ]
  },
  {
   "cell_type": "markdown",
   "metadata": {
    "id": "5D686A1C954C48C684065C9066A729A5",
    "jupyter": {},
    "mdEditEnable": false,
    "slideshow": {
     "slide_type": "slide"
    },
    "tags": []
   },
   "source": [
    "#### 加权移动平均法\n",
    "\n",
    "在简单移动平均公式中，每期数据在求平均时的作用是等同的。但是，每期数据所包含的信息量不一样，近期数据包含着更多关于未来情况的信心。因此，把各期数据等同看待是不尽合理的，应考虑各期数据的重要性，对近期数据给予较大的权重，这就是加权移动平均法的基本思想。\n",
    "\n",
    "\n",
    "设观测序列为$y_{1}, \\cdots, y_{T}$,加权移动平均值计算公式为：\n",
    "$$\n",
    "\\hat{y}_{t+1}=\\frac{w_{1} y_{t}+w_{2} y_{t-1}+\\cdots+w_{N} y_{t-N+1}}{w_{1}+w_{2}+\\cdots+w_{N}}, t \\geq N\n",
    "$$\n",
    "\n",
    "\n",
    "式中，$\\hat{y}_{t+1}$为$t+1$期的预测值；$w_i$为$y_{t-i+1}$的权数，它体现了相应的$y_t$在加权平均数中的重要性。"
   ]
  },
  {
   "cell_type": "code",
   "execution_count": 15,
   "metadata": {
    "id": "8067084470DD4E42844E2CA507432686",
    "jupyter": {},
    "slideshow": {
     "slide_type": "slide"
    },
    "tags": []
   },
   "outputs": [
    {
     "data": {
      "text/plain": [
       "<matplotlib.legend.Legend at 0x12e016a90>"
      ]
     },
     "execution_count": 15,
     "metadata": {},
     "output_type": "execute_result"
    },
    {
     "data": {
      "image/png": "[encoded data removed]",
      "text/plain": [
       "<Figure size 432x288 with 1 Axes>"
      ]
     },
     "metadata": {
      "filenames": {
       "image/png": "/Users/rentongxin/Documents/GitHub/math-models.github.io/mini_book/_build/jupyter_execute/docs/prediction_model_47_1.png"
      }
     },
     "output_type": "display_data"
    }
   ],
   "source": [
    "x = [1, 2, 3, 4, 5, 6, 7, 8, 9, 10, 11]  # 输入x值\n",
    "y = [\n",
    "    533.8,\n",
    "    574.6,\n",
    "    606.9,\n",
    "    649.8,\n",
    "    705.1,\n",
    "    772.0,\n",
    "    816.4,\n",
    "    892.7,\n",
    "    963.9,\n",
    "    1015.1,\n",
    "    1102.7]  # 输入y值\n",
    "plt.scatter(x, y)  # 绘制散点图\n",
    "N = 4  # 选择移动平均项数\n",
    "w = [0.1, 0.2, 0.3, 0.4]  # 指定权重\n",
    "y12 = np.mean(y[-4:])  # 简单移动平均预测12月份收入\n",
    "y12_weighted = np.dot(y[-4:], w)  # 加权移动平均预测12月份收入\n",
    "plt.scatter(12, y12, label='Simple Moving Average')  # 绘制简单移动平均结果\n",
    "plt.scatter(12, y12_weighted, label='Weighted Moving Average')  # 绘制加权移动平均结果\n",
    "plt.legend()  # 加入图例"
   ]
  },
  {
   "cell_type": "markdown",
   "metadata": {
    "id": "D3D4E934EE014E5F9BD6DCAD95E46F2F",
    "jupyter": {},
    "mdEditEnable": false,
    "slideshow": {
     "slide_type": "slide"
    },
    "tags": []
   },
   "source": [
    "在加权移动平均法中， $w_t$的选择，同样具有一定的经验性。一般的原则是：近期数据的权数大，远期数据的权数小。至于大到什么程度和小到什么程度，则需要按照预测者对序列的了解和分析来确定。"
   ]
  },
  {
   "cell_type": "markdown",
   "metadata": {
    "id": "4CDA7A76083F4426A17061705B7497F4",
    "jupyter": {},
    "mdEditEnable": false,
    "slideshow": {
     "slide_type": "slide"
    },
    "tags": []
   },
   "source": [
    "#### 趋势移动平均法"
   ]
  },
  {
   "cell_type": "markdown",
   "metadata": {
    "id": "7E99CA96A1A14F459F2E7AD29E74A68C",
    "jupyter": {},
    "mdEditEnable": false,
    "slideshow": {
     "slide_type": "slide"
    },
    "tags": []
   },
   "source": [
    "下面讨论如何利用移动平均的滞后偏差建立直线趋势预测模型。设时间序列$\\left\\{y_{t}\\right\\}$从某时期开始具有直线趋势，且认为未来时期也按此直线趋势变化，则可设此直线趋势预测模型为\n",
    "$$\n",
    "\\hat{y}_{t+T}=a_{t}+b_{t} T, \\quad T=1,2, \\cdots \n",
    "\\tag{1}\n",
    "$$\n",
    "\n",
    "\n",
    "其中 $t$ 为当前时期数；$T$ 为由$t$至预测期的时期数； $a_t$ 为截距； $b_t$ 为斜率。两者又称为平滑系数。\n",
    "\n",
    "\n",
    "现在，我们根据移动平均值来确定平滑系数。由模型(1)可知\n",
    "$$\n",
    "\\begin{aligned}\n",
    "&a_{t}=y_{t}\\\\\n",
    "&y_{t-1}=y_{t}-b_{t}\\\\\n",
    "&y_{t-2}=y_{t}-2 b_{t}\\\\\n",
    "&y_{t-N+1}=y_{t}-(N-1) b_{t}\n",
    "\\end{aligned}\n",
    "$$\n",
    "\n",
    "所以\n",
    "$$\n",
    "\\begin{aligned}\n",
    "M_{t}^{(1)} &=\\frac{y_{t}+y_{t-1}+\\cdots+y_{t-N+1}}{N}=\\frac{y_{t}+\\left(y_{t}-b_{t}\\right)+\\cdots+\\left[y_{t}-(N-1) b_{t}\\right]}{N} \\\\\n",
    "&=\\frac{N y_{t}-[1+2+\\cdots+(N-1)] b_{t}}{N}=y_{t}-\\frac{N-1}{2} b_{t}\n",
    "\\end{aligned}\n",
    "$$\n",
    "\n",
    "因此\n",
    "$$\n",
    "y_{t}-M_{t}^{(1)}=\\frac{N-1}{2} b_{t}\n",
    "\\tag{2}\n",
    "$$\n",
    "\n",
    "类似以上的推导，我们还可以得到\n",
    "$$\n",
    "y_{t-1}-M_{t-1}^{(1)}=\\frac{N-1}{2} b_{t}\n",
    "$$\n",
    "\n",
    "所以\n",
    "\n",
    "$$\n",
    "y_{t}-y_{t-1}=M_{t}^{(1)}-M_{t-1}^{(1)}=b_{t}\n",
    "$$\n",
    "\n",
    "类似式（2）的推导，可得\n",
    "\n",
    "$$\n",
    "M_{t}^{(1)}-M_{t}^{(2)}=\\frac{N-1}{2} b_{t}\n",
    "\\tag{3}\n",
    "$$\n",
    "\n",
    "于是，由式（2）和式（3）可得平滑系数的计算公式为\n",
    "$$\n",
    "\\left\\{\\begin{array}{l}\n",
    "{a_{t}=2 M_{t}^{(1)}-M_{t}^{(2)}} \\\\\n",
    "{b_{t}=\\dfrac{2}{N-1}\\left(M_{t}^{(1)}-M_{t}^{(2)}\\right)}\n",
    "\\end{array}\\right.\n",
    "$$"
   ]
  },
  {
   "cell_type": "markdown",
   "metadata": {
    "id": "54347845FF364202879666ADDE795E7E",
    "jupyter": {},
    "mdEditEnable": false,
    "slideshow": {
     "slide_type": "slide"
    },
    "tags": []
   },
   "source": [
    "继续沿用上面的例子，进行趋势移动平均的计算"
   ]
  },
  {
   "cell_type": "code",
   "execution_count": 16,
   "metadata": {
    "id": "6E8DFF85E62445DCB3EB8713FCD464A8",
    "jupyter": {},
    "slideshow": {
     "slide_type": "slide"
    },
    "tags": []
   },
   "outputs": [],
   "source": [
    "# 趋势移动平均代码\n",
    "def moveingAverage(data,N):\n",
    "    temp = data.copy()\n",
    "    for i in range(len(temp)):\n",
    "        if i >=  N :\n",
    "            temp[i] = np.mean(data[i-N:i])\n",
    "        else:\n",
    "            temp[i] = 0\n",
    "    return temp"
   ]
  },
  {
   "cell_type": "code",
   "execution_count": 17,
   "metadata": {
    "id": "6963807546EB44C8866C094753B8C64D",
    "jupyter": {},
    "slideshow": {
     "slide_type": "slide"
    },
    "tags": []
   },
   "outputs": [
    {
     "data": {
      "text/plain": [
       "<matplotlib.legend.Legend at 0x12de64bd0>"
      ]
     },
     "execution_count": 17,
     "metadata": {},
     "output_type": "execute_result"
    },
    {
     "data": {
      "image/png": "[encoded data removed]",
      "text/plain": [
       "<Figure size 432x288 with 1 Axes>"
      ]
     },
     "metadata": {
      "filenames": {
       "image/png": "/Users/rentongxin/Documents/GitHub/math-models.github.io/mini_book/_build/jupyter_execute/docs/prediction_model_53_1.png"
      }
     },
     "output_type": "display_data"
    }
   ],
   "source": [
    "x = [1,2,3,4,5,6,7,8,9,10,11]\n",
    "y =  [533.8,574.6,606.9,649.8,705.1,772.0 ,816.4, 892.7,963.9,1015.1,1102.7]\n",
    "plt.scatter(x,y)\n",
    "N = 4\n",
    "w = [0.1,0.2,0.3,0.4]\n",
    "y12 = np.mean(y[-4:])\n",
    "y12_weighted = np.dot(y[-4:],w)\n",
    "\n",
    "# 趋势移动平均代码\n",
    "N = 4\n",
    "MA1 = moveingAverage(y,N)\n",
    "MA2 = moveingAverage(MA1,N)\n",
    "at = 2 * MA1[-1] - MA2[-1]\n",
    "bt = 2/(N-1) * (MA1[-1] - MA2[-1])\n",
    "\n",
    "y_hat = at + bt * 1\n",
    "\n",
    "plt.scatter(12,y12,label = 'Simple Moving Average')\n",
    "plt.scatter(12,y12_weighted,label = 'Weighted Moving Average')\n",
    "plt.scatter(12,y_hat,label = 'Moving Average Concerning Trends')\n",
    "plt.legend()"
   ]
  },
  {
   "cell_type": "markdown",
   "metadata": {
    "id": "90779B55B243411F929B6218EA895E03",
    "jupyter": {},
    "mdEditEnable": false,
    "slideshow": {
     "slide_type": "slide"
    },
    "tags": []
   },
   "source": [
    "趋势移动平均法对于同时存在直线趋势与周期波动的序列，是一种既能反映趋势变化，又可以有效地分离出来周期变动的方法。"
   ]
  },
  {
   "cell_type": "markdown",
   "metadata": {
    "id": "2A1EE9459F33448287EAFAA2E4272303",
    "jupyter": {},
    "mdEditEnable": false,
    "slideshow": {
     "slide_type": "slide"
    },
    "tags": []
   },
   "source": [
    "#### 自适应滤波法"
   ]
  },
  {
   "cell_type": "markdown",
   "metadata": {
    "id": "E2836B270934478D870BF8610E71DB3C",
    "jupyter": {},
    "mdEditEnable": false,
    "slideshow": {
     "slide_type": "slide"
    },
    "tags": []
   },
   "source": [
    "自适应滤波法与移动平均法、指数平滑法一样，也是以时间序列的历史观测值进行某种加权平均来预测的，它要寻找一组“最佳”的权数，其办法是先用一组给定的权数来计算一个预测值，然后计算预测误差，再根据预测误差调整权数以减少误差。这样反复进行，直至找出一组“最佳”权数，使误差减少到最低限度。由于这种调整权数的过程与通讯工程中的传输噪声过滤过程极为接近，故称为自适应滤波法。\n",
    "\n",
    "自适应滤波法的基本预测公式为\n",
    "$$\n",
    "\\hat{y}_{t+1}=w_{1} y_{t}+w_{2} y_{t-1}+\\cdots+w_{N} y_{t-N+1}=\\sum_{i=1}^{N} w_{i} y_{t-i+1}\n",
    "$$\n",
    "\n",
    "式中,$\\hat{y}_{t+1}$为第$t +1$期的预测值,$w_i$为第$t-i+1$期的观测权数。其调整权数的公式为\n",
    "\n",
    "$$\n",
    "w_{i}^{\\prime}=w_{i}+2 k \\cdot e_{i+1} y_{t-i+1}\n",
    "$$\n",
    "\n",
    "式中,$i=1,2, \\cdots, N, t=N, N+1, \\cdots, n$,n为序列数据的个数,$w_i$ 为调整前的第$i$个权数，$w_{i}^{\\prime}$为调整后的第$i$个权数，$k$为学习常数，$e_{i+1}$为第$t +1$期的预测误差。\n",
    "\n",
    "上式表明：调整后的一组权数应等于旧的一组权数加上误差调整项，这个调整项包括预测误差、原观测值和学习常数等三个因素。学习常数$k$的大小决定权数调整的速度。\n",
    "\n",
    "\n",
    "下面举一个简单的例子来说明此法的全过程。设有一个时间序列包括10 个观测值，如下表所示。试用自适应滤波法，以两个权数来求第11 期的预测值。"
   ]
  },
  {
   "cell_type": "markdown",
   "metadata": {
    "id": "C39ABF30BCA944E98C55FA3F0AFB550B",
    "jupyter": {},
    "mdEditEnable": false,
    "slideshow": {
     "slide_type": "slide"
    },
    "tags": []
   },
   "source": [
    "| 时期   \t| 1   \t| 2   \t| 3   \t| 4   \t| 5   \t| 6   \t| 7   \t| 8   \t| 9   \t| 10 \t|\n",
    "|--------\t|-----\t|-----\t|-----\t|-----\t|-----\t|-----\t|-----\t|-----\t|-----\t|----\t|\n",
    "| 观测值 \t| 0.1 \t| 0.2 \t| 0.3 \t| 0.4 \t| 0.5 \t| 0.6 \t| 0.7 \t| 0.8 \t| 0.9 \t| 1  \t|"
   ]
  },
  {
   "cell_type": "markdown",
   "metadata": {
    "id": "B07B707D0B4C477782F1F87A43814235",
    "jupyter": {},
    "mdEditEnable": false,
    "slideshow": {
     "slide_type": "slide"
    },
    "tags": []
   },
   "source": [
    "本例中$N = 2$。取初始权数 $w_1 = 0.5$， $w_2 = 0.5$ ，并设$k = 0.9$。$t$的取值由$N = 2$开始，当$t=2$时："
   ]
  },
  {
   "cell_type": "markdown",
   "metadata": {
    "id": "F7EAACCA156745C29616C5C53B91663B",
    "jupyter": {},
    "mdEditEnable": false,
    "slideshow": {
     "slide_type": "slide"
    },
    "tags": []
   },
   "source": [
    "1. 按预测公式,求第$t +1= 3$期的预测值。\n",
    "$$\n",
    "\\hat{y}_{t+1}=\\hat{y}_{3}=w_{1} y_{2}+w_{2} y_{1}=0.15\n",
    "$$\n",
    "2. 计算预测误差。\n",
    "$$\n",
    "e_{t+1}=e_{3}=y_{3}-\\hat{y}_{3}=0.3-0.15=0.15\n",
    "$$\n",
    "3. 更新权重\n",
    "$$\n",
    "w_{i}^{\\prime}=w_{i}+2 k \\cdot e_{i+1} y_{t-i+1}\n",
    "$$\n",
    "展开就是，\n",
    "$$\n",
    "\\begin{aligned}\n",
    "&w_{1}^{\\prime}=w_{1}+2 k e_{3} y_{2}=0.554\\\\\n",
    "&w_{2}^{\\prime}=w_{2}+2 k e_{3} y_{1}=0.527\n",
    "\\end{aligned}\n",
    "$$"
   ]
  },
  {
   "cell_type": "markdown",
   "metadata": {
    "id": "849C04C6310C498DB185469C83B5ED14",
    "jupyter": {},
    "mdEditEnable": false,
    "slideshow": {
     "slide_type": "slide"
    },
    "tags": []
   },
   "source": [
    "依次类推，我们可以按照同样的规律从4-10继续调整权重，这时，第一轮调整就此结束。\n",
    "\n",
    "把现有的新权数作为初始权数，重新开始$t = 2$的过程。这样反复进行下去，到预测误差（指新一轮的预测总误差）没有明显改进时，就认为获得了一组“最佳”权数，能实际用来预测第11 期的数值。本例在调整过程中，可使得误差降为零，而权数达到稳定不变，最后得到的“最佳”权数为\n",
    "$$\n",
    "w_{1}^{\\prime}=2.0, \\quad w_{2}^{\\prime}=-1.0\n",
    "$$\n",
    "\n",
    "用“最佳”权数预测第 11 期的取值\n",
    "\n",
    "$$\n",
    "\\hat{y}_{11}=w_{1}^{\\prime} y_{10}+w_{2}^{\\prime} y_{9}=1.1\n",
    "$$\n",
    "\n",
    "\n",
    "在实际应用中，权数调整计算工作量可能很大，必须借助于计算机才能实现。"
   ]
  },
  {
   "cell_type": "code",
   "execution_count": 18,
   "metadata": {
    "id": "7FA6E796900840E384B8200941899ED0",
    "jupyter": {},
    "slideshow": {
     "slide_type": "slide"
    },
    "tags": []
   },
   "outputs": [
    {
     "name": "stdout",
     "output_type": "stream",
     "text": [
      "[0.55791872 0.59662951]\n",
      "[0.54979462 0.60536788]\n",
      "[0.54108544 0.61321874]\n",
      "[0.53241919 0.6210174 ]\n",
      "[0.52380161 0.62877213]\n",
      "[0.51523249 0.63648324]\n",
      "[0.50671157 0.644151  ]\n",
      "[0.49823855 0.65177563]\n",
      "[0.48981319 0.65935739]\n",
      "[0.48143521 0.66689651]\n",
      "[0.47310434 0.67439323]\n",
      "[0.46482032 0.6818478 ]\n",
      "[0.45658288 0.68926044]\n",
      "[0.44839177 0.6966314 ]\n",
      "[0.44024672 0.70396091]\n",
      "[0.43214748 0.71124921]\n",
      "[0.42409378 0.71849651]\n",
      "[0.41608537 0.72570306]\n",
      "[0.40812199 0.73286909]\n",
      "[0.4002034  0.73999481]\n",
      "[0.39232934 0.74708047]\n",
      "[0.38449956 0.75412628]\n",
      "[0.37671381 0.76113246]\n",
      "[0.36897184 0.76809925]\n",
      "[0.36127341 0.77502686]\n",
      "[0.35361827 0.78191551]\n",
      "[0.34600618 0.78876543]\n",
      "[0.3384369  0.79557682]\n",
      "[0.33091018 0.80234991]\n",
      "[0.32342579 0.80908491]\n",
      "[0.31598349 0.81578203]\n",
      "[0.30858304 0.8224415 ]\n",
      "[0.30122421 0.82906351]\n",
      "[0.29390676 0.83564829]\n",
      "[0.28663046 0.84219604]\n",
      "[0.27939508 0.84870696]\n",
      "[0.27220038 0.85518127]\n",
      "[0.26504615 0.86161917]\n",
      "[0.25793214 0.86802087]\n",
      "[0.25085815 0.87438657]\n",
      "[0.24382393 0.88071647]\n",
      "[0.23682927 0.88701078]\n",
      "[0.22987395 0.89326969]\n",
      "[0.22295773 0.8994934 ]\n",
      "[0.21608042 0.90568211]\n",
      "[0.20924177 0.91183602]\n",
      "[0.20244159 0.91795533]\n",
      "[0.19567964 0.92404022]\n",
      "[0.18895572 0.93009089]\n",
      "[0.18226961 0.93610754]\n",
      "[0.17562111 0.94209035]\n",
      "[0.16900999 0.94803952]\n",
      "[0.16243604 0.95395523]\n",
      "[0.15589907 0.95983768]\n",
      "[0.14939886 0.96568704]\n",
      "[0.1429352  0.97150352]\n",
      "[0.13650789 0.97728728]\n",
      "[0.13011672 0.98303852]\n",
      "[0.1237615  0.98875741]\n",
      "[0.11744201 0.99444415]\n",
      "[0.11115806 1.0000989 ]\n",
      "[0.10490945 1.00572186]\n",
      "[0.09869598 1.0113132 ]\n",
      "[0.09251745 1.01687309]\n",
      "[0.08637366 1.02240171]\n",
      "[0.08026442 1.02789925]\n",
      "[0.07418954 1.03336587]\n",
      "[0.06814882 1.03880175]\n",
      "[0.06214208 1.04420706]\n",
      "[0.05616911 1.04958197]\n",
      "[0.05022973 1.05492666]\n",
      "[0.04432375 1.06024129]\n",
      "[0.03845098 1.06552604]\n",
      "[0.03261124 1.07078107]\n",
      "[0.02680434 1.07600654]\n",
      "[0.02103009 1.08120263]\n",
      "[0.01528831 1.0863695 ]\n",
      "[0.00957883 1.09150731]\n",
      "[0.00390145 1.09661623]\n",
      "[-0.00174401  1.10169642]\n",
      "[-0.00735771  1.10674804]\n",
      "[-0.01293985  1.11177125]\n",
      "[-0.01849059  1.11676622]\n",
      "[-0.02401012  1.1217331 ]\n",
      "[-0.02949861  1.12667204]\n",
      "[-0.03495624  1.13158321]\n",
      "[-0.04038318  1.13646676]\n",
      "[-0.04577959  1.14132285]\n",
      "[-0.05114566  1.14615164]\n",
      "[-0.05648156  1.15095326]\n",
      "[-0.06178745  1.15572789]\n",
      "[-0.0670635   1.16047566]\n",
      "[-0.07230988  1.16519674]\n",
      "[-0.07752675  1.16989127]\n",
      "[-0.08271429  1.17455939]\n",
      "[-0.08787266  1.17920127]\n",
      "[-0.09300202  1.18381704]\n",
      "[-0.09810253  1.18840685]\n",
      "[-0.10317437  1.19297086]\n",
      "[-0.10821768  1.1975092 ]\n",
      "[-0.11323263  1.20202201]\n",
      "[-0.11821937  1.20650945]\n",
      "[-0.12317808  1.21097166]\n",
      "[-0.1281089   1.21540877]\n",
      "[-0.13301199  1.21982093]\n",
      "[-0.13788751  1.22420827]\n",
      "[-0.14273561  1.22857095]\n",
      "[-0.14755644  1.23290909]\n",
      "[-0.15235017  1.23722283]\n",
      "[-0.15711694  1.24151232]\n",
      "[-0.1618569   1.24577769]\n",
      "[-0.16657021  1.25001907]\n",
      "[-0.17125701  1.25423659]\n",
      "[-0.17591746  1.2584304 ]\n",
      "[-0.1805517   1.26260063]\n",
      "[-0.18515988  1.2667474 ]\n",
      "[-0.18974214  1.27087086]\n",
      "[-0.19429864  1.27497113]\n",
      "[-0.19882951  1.27904833]\n",
      "[-0.2033349   1.28310261]\n",
      "[-0.20781496  1.2871341 ]\n",
      "[-0.21226982  1.29114291]\n",
      "[-0.21669963  1.29512917]\n",
      "[-0.22110453  1.29909302]\n",
      "[-0.22548466  1.30303458]\n",
      "[-0.22984015  1.30695398]\n",
      "[-0.23417116  1.31085133]\n",
      "[-0.23847781  1.31472677]\n",
      "[-0.24276023  1.31858041]\n",
      "[-0.24701858  1.32241238]\n",
      "[-0.25125298  1.3262228 ]\n",
      "[-0.25546357  1.3300118 ]\n",
      "[-0.25965048  1.33377948]\n",
      "[-0.26381385  1.33752598]\n",
      "[-0.2679538   1.34125141]\n",
      "[-0.27207047  1.34495589]\n",
      "[-0.27616399  1.34863954]\n",
      "[-0.28023449  1.35230248]\n",
      "[-0.2842821   1.35594481]\n",
      "[-0.28830695  1.35956666]\n",
      "[-0.29230916  1.36316815]\n",
      "[-0.29628887  1.36674938]\n",
      "[-0.3002462   1.37031047]\n",
      "[-0.30418128  1.37385154]\n",
      "[-0.30809422  1.3773727 ]\n",
      "[-0.31198516  1.38087405]\n",
      "[-0.31585422  1.38435571]\n",
      "[-0.31970152  1.38781779]\n",
      "[-0.32352719  1.39126041]\n",
      "[-0.32733134  1.39468366]\n",
      "[-0.3311141   1.39808767]\n",
      "[-0.33487559  1.40147253]\n",
      "[-0.33861593  1.40483835]\n",
      "[-0.34233523  1.40818525]\n",
      "[-0.34603362  1.41151333]\n",
      "[-0.3497112   1.41482269]\n",
      "[-0.35336811  1.41811345]\n",
      "[-0.35700445  1.42138569]\n",
      "[-0.36062035  1.42463954]\n",
      "[-0.36421591  1.42787508]\n",
      "[-0.36779125  1.43109244]\n",
      "[-0.37134648  1.43429169]\n",
      "[-0.37488172  1.43747296]\n",
      "[-0.37839708  1.44063634]\n",
      "[-0.38189267  1.44378193]\n",
      "[-0.38536861  1.44690983]\n",
      "[-0.388825    1.45002014]\n",
      "[-0.39226195  1.45311296]\n",
      "[-0.39567957  1.45618838]\n",
      "[-0.39907797  1.45924651]\n",
      "[-0.40245726  1.46228745]\n",
      "[-0.40581755  1.46531128]\n",
      "[-0.40915895  1.46831811]\n",
      "[-0.41248155  1.47130803]\n",
      "[-0.41578547  1.47428113]\n",
      "[-0.4190708   1.47723752]\n",
      "[-0.42233767  1.48017728]\n",
      "[-0.42558616  1.48310051]\n",
      "[-0.42881638  1.4860073 ]\n",
      "[-0.43202844  1.48889775]\n",
      "[-0.43522243  1.49177194]\n",
      "[-0.43839847  1.49462996]\n",
      "[-0.44155664  1.49747192]\n",
      "[-0.44469705  1.50029789]\n",
      "[-0.44781981  1.50310797]\n",
      "[-0.450925    1.50590225]\n",
      "[-0.45401273  1.50868082]\n",
      "[-0.4570831   1.51144376]\n",
      "[-0.4601362   1.51419116]\n",
      "[-0.46317213  1.51692311]\n",
      "[-0.46619099  1.5196397 ]\n",
      "[-0.46919287  1.52234101]\n",
      "[-0.47217787  1.52502713]\n",
      "[-0.47514608  1.52769815]\n",
      "[-0.4780976   1.53035414]\n",
      "[-0.48103253  1.5329952 ]\n",
      "[-0.48395095  1.53562141]\n",
      "[-0.48685296  1.53823285]\n",
      "[-0.48973865  1.5408296 ]\n",
      "[-0.49260811  1.54341175]\n",
      "[-0.49546143  1.54597938]\n",
      "[-0.49829871  1.54853257]\n",
      "[-0.50112003  1.55107141]\n",
      "[-0.50392549  1.55359596]\n",
      "[-0.50671517  1.55610632]\n",
      "[-0.50948917  1.55860256]\n",
      "[-0.51224756  1.56108477]\n",
      "[-0.51499044  1.56355301]\n",
      "[-0.5177179   1.56600738]\n",
      "[-0.52043002  1.56844794]\n",
      "[-0.52312689  1.57087478]\n",
      "[-0.52580859  1.57328797]\n",
      "[-0.52847521  1.57568759]\n",
      "[-0.53112684  1.57807372]\n",
      "[-0.53376355  1.58044642]\n",
      "[-0.53638544  1.58280579]\n",
      "[-0.53899258  1.58515189]\n",
      "[-0.54158506  1.58748479]\n",
      "[-0.54416296  1.58980457]\n",
      "[-0.54672637  1.59211131]\n",
      "[-0.54927536  1.59440508]\n",
      "[-0.55181001  1.59668595]\n",
      "[-0.55433042  1.59895399]\n",
      "[-0.55683664  1.60120928]\n",
      "[-0.55932878  1.60345188]\n",
      "[-0.5618069   1.60568187]\n",
      "[-0.56427108  1.60789933]\n",
      "[-0.56672141  1.61010431]\n",
      "[-0.56915796  1.61229689]\n",
      "[-0.5715808   1.61447715]\n",
      "[-0.57399002  1.61664514]\n",
      "[-0.5763857   1.61880094]\n",
      "[-0.5787679   1.62094462]\n",
      "[-0.5811367   1.62307624]\n",
      "[-0.58349218  1.62519588]\n",
      "[-0.58583442  1.62730359]\n",
      "[-0.58816349  1.62939946]\n",
      "[-0.59047945  1.63148353]\n",
      "[-0.5927824   1.63355589]\n",
      "[-0.59507239  1.63561659]\n",
      "[-0.59734951  1.63766571]\n",
      "[-0.59961382  1.6397033 ]\n",
      "[-0.60186539  1.64172943]\n",
      "[-0.60410431  1.64374417]\n",
      "[-0.60633063  1.64574758]\n",
      "[-0.60854444  1.64773972]\n",
      "[-0.61074579  1.64972066]\n",
      "[-0.61293477  1.65169046]\n",
      "[-0.61511143  1.65364919]\n",
      "[-0.61727586  1.65559689]\n",
      "[-0.61942811  1.65753365]\n",
      "[-0.62156826  1.65945951]\n",
      "[-0.62369638  1.66137455]\n",
      "[-0.62581253  1.66327881]\n",
      "[-0.62791678  1.66517237]\n",
      "[-0.63000919  1.66705527]\n",
      "[-0.63208984  1.66892759]\n",
      "[-0.63415879  1.67078938]\n",
      "[-0.6362161  1.6726407]\n",
      "[-0.63826184  1.67448161]\n",
      "[-0.64029608  1.67631217]\n",
      "[-0.64231888  1.67813243]\n",
      "[-0.64433031  1.67994246]\n",
      "[-0.64633042  1.68174231]\n",
      "[-0.64831928  1.68353203]\n",
      "[-0.65029696  1.68531169]\n",
      "[-0.65226352  1.68708135]\n",
      "[-0.65421902  1.68884105]\n",
      "[-0.65616353  1.69059085]\n",
      "[-0.6580971   1.69233082]\n",
      "[-0.66001979  1.694061  ]\n",
      "[-0.66193168  1.69578145]\n",
      "[-0.66383281  1.69749223]\n",
      "[-0.66572325  1.69919339]\n",
      "[-0.66760306  1.70088498]\n",
      "[-0.66947229  1.70256705]\n",
      "[-0.67133102  1.70423967]\n",
      "[-0.6731793   1.70590288]\n",
      "[-0.67501718  1.70755674]\n",
      "[-0.67684472  1.7092013 ]\n",
      "[-0.67866199  1.71083661]\n",
      "[-0.68046904  1.71246273]\n",
      "[-0.68226592  1.71407969]\n",
      "[-0.68405271  1.71568757]\n",
      "[-0.68582944  1.71728641]\n",
      "[-0.68759618  1.71887625]\n",
      "[-0.68935299  1.72045715]\n",
      "[-0.69109991  1.72202916]\n",
      "[-0.69283702  1.72359234]\n",
      "[-0.69456435  1.72514672]\n",
      "[-0.69628197  1.72669236]\n",
      "[-0.69798994  1.72822931]\n",
      "[-0.69968829  1.72975761]\n",
      "[-0.7013771   1.73127733]\n",
      "[-0.70305641  1.73278849]\n",
      "[-0.70472628  1.73429116]\n",
      "[-0.70638675  1.73578538]\n",
      "[-0.70803789  1.73727119]\n",
      "[-0.70967974  1.73874865]\n",
      "[-0.71131236  1.7402178 ]\n",
      "[-0.7129358   1.74167869]\n",
      "[-0.71455011  1.74313136]\n",
      "[-0.71615534  1.74457586]\n",
      "[-0.71775154  1.74601225]\n",
      "[-0.71933877  1.74744055]\n",
      "[-0.72091707  1.74886082]\n",
      "[-0.7224865  1.7502731]\n",
      "[-0.7240471   1.75167745]\n",
      "[-0.72559893  1.75307389]\n",
      "[-0.72714202  1.75446248]\n",
      "[-0.72867644  1.75584327]\n",
      "[-0.73020224  1.75721629]\n",
      "[-0.73171945  1.75858158]\n",
      "[-0.73322813  1.7599392 ]\n",
      "[-0.73472832  1.76128919]\n",
      "[-0.73622008  1.76263158]\n",
      "[-0.73770345  1.76396642]\n",
      "[-0.73917848  1.76529376]\n",
      "[-0.74064521  1.76661364]\n",
      "[-0.74210369  1.76792609]\n",
      "[-0.74355398  1.76923116]\n",
      "[-0.74499611  1.77052889]\n",
      "[-0.74643012  1.77181932]\n",
      "[-0.74785608  1.7731025 ]\n",
      "[-0.74927401  1.77437846]\n",
      "[-0.75068397  1.77564725]\n",
      "[-0.752086   1.7769089]\n",
      "[-0.75348015  1.77816345]\n",
      "[-0.75486646  1.77941095]\n",
      "[-0.75624497  1.78065144]\n",
      "[-0.75761573  1.78188495]\n",
      "[-0.75897878  1.78311152]\n",
      "[-0.76033417  1.7843312 ]\n",
      "[-0.76168193  1.78554401]\n",
      "[-0.76302211  1.78675001]\n",
      "[-0.76435476  1.78794922]\n",
      "[-0.76567992  1.78914169]\n",
      "[-0.76699762  1.79032746]\n",
      "[-0.76830791  1.79150655]\n",
      "[-0.76961083  1.79267902]\n",
      "[-0.77090643  1.79384489]\n",
      "[-0.77219474  1.79500421]\n",
      "[-0.77347581  1.796157  ]\n",
      "[-0.77474967  1.79730332]\n",
      "[-0.77601637  1.79844318]\n",
      "[-0.77727594  1.79957664]\n",
      "[-0.77852843  1.80070372]\n",
      "[-0.77977388  1.80182447]\n",
      "[-0.78101232  1.80293891]\n",
      "[-0.7822438   1.80404709]\n",
      "[-0.78346836  1.80514903]\n",
      "[-0.78468603  1.80624478]\n",
      "[-0.78589685  1.80733436]\n",
      "[-0.78710086  1.80841782]\n",
      "[-0.7882981   1.80949519]\n",
      "[-0.78948861  1.81056649]\n",
      "[-0.79067242  1.81163177]\n",
      "[-0.79184958  1.81269106]\n",
      "[-0.79302012  1.8137444 ]\n",
      "[-0.79418407  1.81479181]\n",
      "[-0.79534148  1.81583333]\n",
      "[-0.79649238  1.81686899]\n",
      "[-0.79763681  1.81789883]\n",
      "[-0.7987748   1.81892288]\n",
      "[-0.79990639  1.81994117]\n",
      "[-0.80103162  1.82095373]\n",
      "[-0.80215052  1.8219606 ]\n",
      "[-0.80326313  1.82296181]\n",
      "[-0.80436948  1.82395739]\n",
      "[-0.80546961  1.82494736]\n",
      "[-0.80656356  1.82593177]\n",
      "[-0.80765135  1.82691065]\n",
      "[-0.80873302  1.82788402]\n",
      "[-0.80980862  1.82885192]\n",
      "[-0.81087816  1.82981437]\n",
      "[-0.81194169  1.83077141]\n",
      "[-0.81299924  1.83172307]\n",
      "[-0.81405084  1.83266938]\n",
      "[-0.81509653  1.83361036]\n",
      "[-0.81613633  1.83454606]\n",
      "[-0.81717029  1.83547649]\n",
      "[-0.81819844  1.83640169]\n",
      "[-0.8192208   1.83732169]\n",
      "[-0.82023741  1.83823651]\n",
      "[-0.82124831  1.83914619]\n",
      "[-0.82225352  1.84005075]\n",
      "[-0.82325308  1.84095023]\n",
      "[-0.82424702  1.84184465]\n",
      "[-0.82523537  1.84273404]\n",
      "[-0.82621816  1.84361842]\n",
      "[-0.82719543  1.84449784]\n",
      "[-0.8281672  1.8453723]\n",
      "[-0.8291335   1.84624186]\n",
      "[-0.83009437  1.84710652]\n",
      "[-0.83104984  1.84796631]\n",
      "[-0.83199993  1.84882128]\n",
      "[-0.83294468  1.84967143]\n",
      "[-0.83388412  1.85051681]\n",
      "[-0.83481827  1.85135743]\n",
      "[-0.83574717  1.85219332]\n",
      "[-0.83667085  1.85302451]\n",
      "[-0.83758933  1.85385103]\n",
      "[-0.83850265  1.8546729 ]\n",
      "[-0.83941084  1.85549015]\n"
     ]
    },
    {
     "name": "stdout",
     "output_type": "stream",
     "text": [
      "[-0.84031391  1.85630281]\n",
      "[-0.84121191  1.85711089]\n",
      "[-0.84210485  1.85791443]\n",
      "[-0.84299278  1.85871345]\n",
      "[-0.84387571  1.85950797]\n",
      "[-0.84475368  1.86029803]\n",
      "[-0.84562671  1.86108365]\n",
      "[-0.84649483  1.86186485]\n",
      "[-0.84735807  1.86264165]\n",
      "[-0.84821645  1.86341409]\n",
      "[-0.84907001  1.86418218]\n",
      "[-0.84991876  1.86494595]\n",
      "[-0.85076275  1.86570543]\n",
      "[-0.85160199  1.86646064]\n",
      "[-0.8524365  1.8672116]\n",
      "[-0.85326633  1.86795834]\n",
      "[-0.85409149  1.86870087]\n",
      "[-0.85491201  1.86943924]\n",
      "[-0.85572791  1.87017345]\n",
      "[-0.85653923  1.87090353]\n",
      "[-0.85734598  1.8716295 ]\n",
      "[-0.8581482  1.8723514]\n",
      "[-0.8589459   1.87306923]\n",
      "[-0.85973912  1.87378303]\n",
      "[-0.86052788  1.87449281]\n",
      "[-0.8613122  1.8751986]\n",
      "[-0.86209212  1.87590042]\n",
      "[-0.86286764  1.8765983 ]\n",
      "[-0.86363881  1.87729225]\n",
      "[-0.86440564  1.8779823 ]\n",
      "[-0.86516815  1.87866847]\n",
      "[-0.86592638  1.87935078]\n",
      "[-0.86668035  1.88002925]\n",
      "[-0.86743007  1.8807039 ]\n",
      "[-0.86817558  1.88137477]\n",
      "[-0.8689169   1.88204186]\n",
      "[-0.86965404  1.8827052 ]\n",
      "[-0.87038705  1.88336481]\n",
      "[-0.87111593  1.88402071]\n",
      "[-0.87184071  1.88467292]\n",
      "[-0.87256141  1.88532146]\n",
      "[-0.87327806  1.88596636]\n",
      "[-0.87399069  1.88660763]\n",
      "[-0.8746993   1.88724529]\n",
      "[-0.87540393  1.88787937]\n",
      "[-0.8761046   1.88850988]\n",
      "[-0.87680133  1.88913684]\n",
      "[-0.87749414  1.88976029]\n",
      "[-0.87818305  1.89038022]\n",
      "[-0.87886809  1.89099667]\n",
      "[-0.87954928  1.89160965]\n",
      "[-0.88022663  1.89221918]\n",
      "[-0.88090018  1.89282529]\n",
      "[-0.88156994  1.89342799]\n",
      "[-0.88223593  1.8940273 ]\n",
      "[-0.88289818  1.89462324]\n",
      "[-0.8835567   1.89521582]\n",
      "[-0.88421152  1.89580508]\n",
      "[-0.88486266  1.89639102]\n",
      "[-0.88551014  1.89697367]\n",
      "[-0.88615397  1.89755304]\n",
      "[-0.88679419  1.89812915]\n",
      "[-0.8874308   1.89870202]\n",
      "[-0.88806384  1.89927167]\n",
      "[-0.88869331  1.89983812]\n",
      "[-0.88931924  1.90040138]\n",
      "[-0.88994166  1.90096147]\n",
      "[-0.89056057  1.90151842]\n",
      "[-0.89117601  1.90207223]\n",
      "[-0.89178798  1.90262293]\n",
      "[-0.89239651  1.90317053]\n",
      "[-0.89300162  1.90371505]\n",
      "[-0.89360333  1.90425651]\n",
      "[-0.89420165  1.90479493]\n",
      "[-0.89479661  1.90533031]\n",
      "[-0.89538822  1.90586269]\n",
      "[-0.89597651  1.90639207]\n",
      "[-0.89656149  1.90691848]\n",
      "[-0.89714317  1.90744192]\n",
      "[-0.89772159  1.90796242]\n",
      "[-0.89829675  1.90848   ]\n",
      "[-0.89886868  1.90899466]\n",
      "[-0.8994374   1.90950643]\n",
      "[-0.90000291  1.91001532]\n",
      "[-0.90056525  1.91052135]\n",
      "[-0.90112442  1.91102454]\n",
      "[-0.90168045  1.91152489]\n",
      "[-0.90223335  1.91202243]\n",
      "[-0.90278314  1.91251718]\n",
      "[-0.90332984  1.91300914]\n",
      "[-0.90387347  1.91349833]\n",
      "[-0.90441403  1.91398477]\n",
      "[-0.90495156  1.91446848]\n",
      "[-0.90548607  1.91494947]\n",
      "[-0.90601757  1.91542775]\n",
      "[-0.90654608  1.91590335]\n",
      "[-0.90707162  1.91637626]\n",
      "[-0.9075942   1.91684652]\n",
      "[-0.90811385  1.91731414]\n",
      "[-0.90863057  1.91777912]\n",
      "[-0.90914439  1.91824149]\n",
      "[-0.90965532  1.91870126]\n",
      "[-0.91016337  1.91915845]\n",
      "[-0.91066857  1.91961306]\n",
      "[-0.91117093  1.92006512]\n",
      "[-0.91167046  1.92051463]\n",
      "[-0.91216718  1.92096162]\n",
      "[-0.91266111  1.92140609]\n",
      "[-0.91315226  1.92184807]\n",
      "[-0.91364065  1.92228756]\n",
      "[-0.91412629  1.92272457]\n",
      "[-0.9146092   1.92315913]\n",
      "[-0.9150894   1.92359125]\n",
      "[-0.9155669   1.92402093]\n",
      "[-0.91604171  1.9244482 ]\n",
      "[-0.91651385  1.92487307]\n",
      "[-0.91698333  1.92529555]\n",
      "[-0.91745018  1.92571565]\n",
      "[-0.9179144   1.92613339]\n",
      "[-0.91837601  1.92654878]\n",
      "[-0.91883502  1.92696183]\n",
      "[-0.91929145  1.92737256]\n",
      "[-0.91974532  1.92778098]\n",
      "[-0.92019663  1.92818711]\n",
      "[-0.92064541  1.92859095]\n",
      "[-0.92109166  1.92899252]\n",
      "[-0.9215354   1.92939183]\n",
      "[-0.92197665  1.92978889]\n",
      "[-0.92241541  1.93018373]\n",
      "[-0.92285171  1.93057634]\n",
      "[-0.92328555  1.93096674]\n",
      "[-0.92371696  1.93135495]\n",
      "[-0.92414594  1.93174098]\n",
      "[-0.9245725   1.93212484]\n",
      "[-0.92499667  1.93250653]\n",
      "[-0.92541845  1.93288608]\n",
      "[-0.92583786  1.9332635 ]\n",
      "[-0.92625492  1.93363879]\n",
      "[-0.92666962  1.93401198]\n",
      "[-0.927082    1.93438306]\n",
      "[-0.92749205  1.93475206]\n",
      "[-0.9278998   1.93511898]\n",
      "[-0.92830526  1.93548384]\n",
      "[-0.92870843  1.93584665]\n",
      "[-0.92910934  1.93620741]\n",
      "[-0.929508    1.93656615]\n",
      "[-0.92990441  1.93692287]\n",
      "[-0.93029859  1.93727759]\n",
      "[-0.93069056  1.93763031]\n",
      "[-0.93108032  1.93798105]\n",
      "[-0.93146789  1.93832981]\n",
      "[-0.93185328  1.93867661]\n",
      "[-0.93223651  1.93902147]\n",
      "[-0.93261758  1.93936438]\n",
      "[-0.9329965   1.93970536]\n",
      "[-0.9333733   1.94004443]\n",
      "[-0.93374797  1.94038159]\n",
      "[-0.93412054  1.94071686]\n",
      "[-0.93449102  1.94105024]\n",
      "[-0.93485941  1.94138174]\n",
      "[-0.93522573  1.94171138]\n",
      "[-0.93558999  1.94203917]\n",
      "[-0.9359522   1.94236511]\n",
      "[-0.93631237  1.94268922]\n",
      "[-0.93667052  1.94301151]\n",
      "[-0.93702665  1.94333199]\n",
      "[-0.93738078  1.94365066]\n",
      "[-0.93773292  1.94396754]\n",
      "[-0.93808308  1.94428264]\n",
      "[-0.93843127  1.94459597]\n",
      "[-0.93877751  1.94490753]\n",
      "[-0.93912179  1.94521735]\n",
      "[-0.93946414  1.94552542]\n",
      "[-0.93980457  1.94583176]\n",
      "[-0.94014308  1.94613637]\n",
      "[-0.94047968  1.94643927]\n",
      "[-0.94081439  1.94674047]\n",
      "[-0.94114723  1.94703998]\n",
      "[-0.94147819  1.9473378 ]\n",
      "[-0.94180728  1.94763395]\n",
      "[-0.94213453  1.94792843]\n",
      "[-0.94245994  1.94822125]\n",
      "[-0.94278352  1.94851243]\n",
      "[-0.94310527  1.94880197]\n",
      "[-0.94342522  1.94908989]\n",
      "[-0.94374337  1.94937618]\n",
      "[-0.94405973  1.94966086]\n",
      "[-0.94437431  1.94994395]\n",
      "[-0.94468712  1.95022544]\n",
      "[-0.94499818  1.95050534]\n",
      "[-0.94530748  1.95078368]\n",
      "[-0.94561504  1.95106045]\n",
      "[-0.94592088  1.95133566]\n",
      "[-0.94622499  1.95160932]\n",
      "[-0.9465274   1.95188145]\n",
      "[-0.9468281   1.95215204]\n",
      "[-0.94712711  1.95242112]\n",
      "[-0.94742444  1.95268868]\n",
      "[-0.9477201   1.95295473]\n",
      "[-0.9480141   1.95321929]\n",
      "[-0.94830644  1.95348237]\n",
      "[-0.94859714  1.95374396]\n",
      "[-0.94888621  1.95400408]\n",
      "[-0.94917365  1.95426274]\n",
      "[-0.94945947  1.95451994]\n",
      "[-0.94974368  1.9547757 ]\n",
      "[-0.9500263   1.95503002]\n",
      "[-0.95030733  1.95528291]\n",
      "[-0.95058678  1.95553438]\n",
      "[-0.95086465  1.95578443]\n",
      "[-0.95114097  1.95603308]\n",
      "[-0.95141573  1.95628032]\n",
      "[-0.95168894  1.95652618]\n",
      "[-0.95196062  1.95677066]\n",
      "[-0.95223077  1.95701376]\n",
      "[-0.9524994   1.95725549]\n",
      "[-0.95276652  1.95749587]\n",
      "[-0.95303214  1.95773489]\n",
      "[-0.95329626  1.95797257]\n",
      "[-0.9535589   1.95820891]\n",
      "[-0.95382006  1.95844392]\n",
      "[-0.95407976  1.95867761]\n",
      "[-0.95433799  1.95890999]\n",
      "[-0.95459477  1.95914106]\n",
      "[-0.95485011  1.95937083]\n",
      "[-0.95510401  1.95959931]\n",
      "[-0.95535648  1.9598265 ]\n",
      "[-0.95560753  1.96005242]\n",
      "[-0.95585718  1.96027707]\n",
      "[-0.95610541  1.96050045]\n",
      "[-0.95635225  1.96072257]\n",
      "[-0.95659771  1.96094345]\n",
      "[-0.95684178  1.96116309]\n",
      "[-0.95708448  1.96138149]\n",
      "[-0.95732582  1.96159866]\n",
      "[-0.9575658   1.96181461]\n",
      "[-0.95780443  1.96202934]\n",
      "[-0.95804171  1.96224287]\n",
      "[-0.95827767  1.9624552 ]\n",
      "[-0.95851229  1.96266633]\n",
      "[-0.9587456   1.96287628]\n",
      "[-0.95897759  1.96308505]\n",
      "[-0.95920828  1.96329264]\n",
      "[-0.95943768  1.96349906]\n",
      "[-0.95966578  1.96370433]\n",
      "[-0.9598926   1.96390843]\n",
      "[-0.96011814  1.9641114 ]\n",
      "[-0.96034242  1.96431322]\n",
      "[-0.96056544  1.9645139 ]\n",
      "[-0.9607872   1.96471346]\n",
      "[-0.96100771  1.96491189]\n",
      "[-0.96122698  1.96510921]\n",
      "[-0.96144502  1.96530542]\n",
      "[-0.96166184  1.96550052]\n",
      "[-0.96187743  1.96569453]\n",
      "[-0.96209182  1.96588745]\n",
      "[-0.96230499  1.96607928]\n",
      "[-0.96251697  1.96627004]\n",
      "[-0.96272776  1.96645972]\n",
      "[-0.96293736  1.96664833]\n",
      "[-0.96314578  1.96683588]\n",
      "[-0.96335303  1.96702238]\n",
      "[-0.96355912  1.96720783]\n",
      "[-0.96376404  1.96739224]\n",
      "[-0.96396782  1.96757561]\n",
      "[-0.96417044  1.96775795]\n",
      "[-0.96437193  1.96793926]\n",
      "[-0.96457229  1.96811956]\n",
      "[-0.96477151  1.96829884]\n",
      "[-0.96496962  1.96847711]\n",
      "[-0.96516662  1.96865438]\n",
      "[-0.9653625   1.96883065]\n",
      "[-0.96555729  1.96900593]\n",
      "[-0.96575097  1.96918023]\n",
      "[-0.96594357  1.96935354]\n",
      "[-0.96613509  1.96952588]\n",
      "[-0.96632553  1.96969726]\n",
      "[-0.9665149   1.96986766]\n",
      "[-0.9667032   1.97003711]\n",
      "[-0.96689045  1.97020561]\n",
      "[-0.96707664  1.97037316]\n",
      "[-0.96726179  1.97053977]\n",
      "[-0.96744589  1.97070544]\n",
      "[-0.96762896  1.97087017]\n",
      "[-0.967811    1.97103399]\n",
      "[-0.96799201  1.97119688]\n",
      "[-0.96817201  1.97135885]\n",
      "[-0.96835099  1.97151992]\n",
      "[-0.96852897  1.97168007]\n",
      "[-0.96870595  1.97183933]\n",
      "[-0.96888193  1.97199769]\n",
      "[-0.96905693  1.97215516]\n",
      "[-0.96923093  1.97231175]\n",
      "[-0.96940396  1.97246746]\n",
      "[-0.96957602  1.97262228]\n",
      "[-0.96974711  1.97277624]\n",
      "[-0.96991724  1.97292934]\n",
      "[-0.97008641  1.97308157]\n",
      "[-0.97025463  1.97323295]\n",
      "[-0.9704219   1.97338347]\n",
      "[-0.97058824  1.97353315]\n",
      "[-0.97075363  1.97368199]\n",
      "[-0.9709181   1.97382998]\n",
      "[-0.97108164  1.97397715]\n",
      "[-0.97124427  1.97412349]\n",
      "[-0.97140597  1.97426901]\n",
      "[-0.97156677  1.97441371]\n",
      "[-0.97172667  1.97455759]\n",
      "[-0.97188566  1.97470067]\n",
      "[-0.97204376  1.97484294]\n",
      "[-0.97220098  1.97498441]\n",
      "[-0.9723573   1.97512509]\n",
      "[-0.97251275  1.97526497]\n",
      "[-0.97266733  1.97540407]\n",
      "[-0.97282103  1.97554238]\n",
      "[-0.97297388  1.97567992]\n",
      "[-0.97312586  1.97581669]\n",
      "[-0.97327698  1.97595268]\n",
      "[-0.97342726  1.97608791]\n",
      "[-0.97357669  1.97622238]\n",
      "[-0.97372529  1.97635609]\n",
      "[-0.97387304  1.97648906]\n",
      "[-0.97401997  1.97662127]\n",
      "[-0.97416607  1.97675274]\n",
      "[-0.97431134  1.97688347]\n",
      "[-0.9744558   1.97701347]\n",
      "[-0.97459945  1.97714273]\n",
      "[-0.97474229  1.97727127]\n",
      "[-0.97488433  1.97739909]\n",
      "[-0.97502557  1.97752618]\n",
      "[-0.97516601  1.97765257]\n",
      "[-0.97530567  1.97777824]\n",
      "[-0.97544453  1.9779032 ]\n",
      "[-0.97558262  1.97802746]\n",
      "[-0.97571993  1.97815103]\n",
      "[-0.97585647  1.97827389]\n",
      "[-0.97599224  1.97839607]\n",
      "[-0.97612725  1.97851756]\n",
      "[-0.9762615   1.97863837]\n",
      "[-0.976395    1.97875849]\n",
      "[-0.97652774  1.97887795]\n",
      "[-0.97665973  1.97899673]\n",
      "[-0.97679099  1.97911484]\n",
      "[-0.97692151  1.97923229]\n",
      "[-0.97705129  1.97934907]\n",
      "[-0.97718034  1.9794652 ]\n",
      "[-0.97730867  1.97958068]\n",
      "[-0.97743627  1.97969551]\n",
      "[-0.97756316  1.97980969]\n",
      "[-0.97768933  1.97992323]\n",
      "[-0.9778148   1.98003614]\n",
      "[-0.97793956  1.9801484 ]\n",
      "[-0.97806361  1.98026004]\n",
      "[-0.97818697  1.98037105]\n",
      "[-0.97830964  1.98048143]\n",
      "[-0.97843161  1.98059119]\n",
      "[-0.9785529   1.98070034]\n",
      "[-0.97867351  1.98080887]\n",
      "[-0.97879344  1.98091679]\n",
      "[-0.9789127   1.98102411]\n",
      "[-0.97903128  1.98113082]\n",
      "[-0.9791492   1.98123693]\n",
      "[-0.97926645  1.98134244]\n",
      "[-0.97938305  1.98144736]\n",
      "[-0.97949899  1.9815517 ]\n",
      "[-0.97961428  1.98165544]\n",
      "[-0.97972892  1.9817586 ]\n",
      "[-0.97984291  1.98186118]\n",
      "[-0.97995627  1.98196318]\n",
      "[-0.98006898  1.98206462]\n",
      "[-0.98018106  1.98216548]\n",
      "[-0.98029252  1.98226577]\n",
      "[-0.98040334  1.9823655 ]\n",
      "[-0.98051354  1.98246466]\n",
      "[-0.98062313  1.98256327]\n",
      "[-0.98073209  1.98266133]\n",
      "[-0.98084044  1.98275883]\n",
      "[-0.98094819  1.98285579]\n",
      "[-0.98105533  1.9829522 ]\n",
      "[-0.98116186  1.98304807]\n",
      "[-0.9812678  1.9831434]\n",
      "[-0.98137314  1.98323819]\n",
      "[-0.98147789  1.98333245]\n",
      "[-0.98158205  1.98342618]\n",
      "[-0.98168562  1.98351939]\n",
      "[-0.98178861  1.98361206]\n",
      "[-0.98189102  1.98370422]\n",
      "[-0.98199286  1.98379586]\n",
      "[-0.98209412  1.98388699]\n",
      "[-0.98219482  1.9839776 ]\n",
      "[-0.98229495  1.9840677 ]\n",
      "[-0.98239451  1.9841573 ]\n",
      "[-0.98249351  1.98424639]\n",
      "[-0.98259196  1.98433498]\n",
      "[-0.98268986  1.98442307]\n",
      "[-0.9827872   1.98451067]\n",
      "[-0.982884    1.98459777]\n",
      "[-0.98298025  1.98468439]\n",
      "[-0.98307596  1.98477051]\n",
      "[-0.98317113  1.98485616]\n",
      "[-0.98326577  1.98494132]\n",
      "[-0.98335987  1.985026  ]\n",
      "[-0.98345345  1.98511021]\n",
      "[-0.9835465   1.98519394]\n",
      "[-0.98363903  1.9852772 ]\n",
      "[-0.98373103  1.98536   ]\n",
      "[-0.98382252  1.98544232]\n",
      "[-0.9839135   1.98552419]\n",
      "[-0.98400396  1.98560559]\n",
      "[-0.98409391  1.98568654]\n",
      "[-0.98418336  1.98576703]\n",
      "[-0.98427231  1.98584707]\n",
      "[-0.98436075  1.98592666]\n",
      "[-0.9844487  1.9860058]\n",
      "[-0.98453615  1.9860845 ]\n",
      "[-0.98462311  1.98616275]\n",
      "[-0.98470958  1.98624057]\n",
      "[-0.98479557  1.98631794]\n",
      "[-0.98488107  1.98639489]\n",
      "[-0.98496609  1.98647139]\n",
      "[-0.98505064  1.98654747]\n",
      "[-0.98513471  1.98662312]\n",
      "[-0.9852183   1.98669835]\n",
      "[-0.98530143  1.98677315]\n",
      "[-0.98538408  1.98684753]\n",
      "[-0.98546628  1.98692149]\n",
      "[-0.98554801  1.98699504]\n",
      "[-0.98562928  1.98706818]\n",
      "[-0.98571009  1.9871409 ]\n",
      "[-0.98579045  1.98721321]\n",
      "[-0.98587036  1.98728512]\n",
      "[-0.98594982  1.98735662]\n",
      "[-0.98602883  1.98742772]\n",
      "[-0.9861074   1.98749842]\n",
      "[-0.98618552  1.98756872]\n",
      "[-0.98626321  1.98763863]\n",
      "[-0.98634046  1.98770815]\n",
      "[-0.98641727  1.98777727]\n",
      "[-0.98649365  1.987846  ]\n",
      "[-0.98656961  1.98791435]\n",
      "[-0.98664513  1.98798232]\n",
      "[-0.98672023  1.9880499 ]\n",
      "[-0.98679491  1.9881171 ]\n",
      "[-0.98686917  1.98818392]\n",
      "[-0.98694301  1.98825037]\n",
      "[-0.98701644  1.98831644]\n",
      "[-0.98708945  1.98838215]\n",
      "[-0.98716205  1.98844748]\n",
      "[-0.98723425  1.98851245]\n",
      "[-0.98730604  1.98857705]\n",
      "[-0.98737742  1.98864128]\n",
      "[-0.9874484   1.98870516]\n",
      "[-0.98751899  1.98876868]\n",
      "[-0.98758918  1.98883184]\n",
      "[-0.98765897  1.98889464]\n",
      "[-0.98772837  1.98895709]\n",
      "[-0.98779738  1.98901919]\n",
      "[-0.987866    1.98908094]\n",
      "[-0.98793424  1.98914234]\n",
      "[-0.98800209  1.9892034 ]\n",
      "[-0.98806956  1.98926412]\n",
      "[-0.98813665  1.98932449]\n",
      "[-0.98820336  1.98938452]\n",
      "[-0.9882697   1.98944422]\n",
      "[-0.98833567  1.98950358]\n",
      "[-0.98840126  1.98956261]\n",
      "[-0.98846649  1.9896213 ]\n",
      "[-0.98853135  1.98967967]\n",
      "[-0.98859584  1.9897377 ]\n",
      "[-0.98865997  1.98979541]\n",
      "[-0.98872374  1.9898528 ]\n",
      "[-0.98878715  1.98990986]\n",
      "[-0.98885021  1.98996661]\n",
      "[-0.98891291  1.99002303]\n",
      "[-0.98897526  1.99007913]\n",
      "[-0.98903726  1.99013492]\n",
      "[-0.98909891  1.9901904 ]\n",
      "[-0.98916021  1.99024556]\n",
      "[-0.98922117  1.99030042]\n",
      "[-0.98928178  1.99035496]\n",
      "[-0.98934206  1.9904092 ]\n",
      "[-0.98940199  1.99046314]\n",
      "[-0.98946159  1.99051677]\n",
      "[-0.98952085  1.9905701 ]\n",
      "[-0.98957978  1.99062313]\n",
      "[-0.98963838  1.99067586]"
     ]
    },
    {
     "name": "stdout",
     "output_type": "stream",
     "text": [
      "\n",
      "[-0.98969665  1.99072829]\n",
      "[-0.98975459  1.99078043]\n",
      "[-0.9898122   1.99083228]\n",
      "[-0.9898695   1.99088383]\n",
      "[-0.98992646  1.9909351 ]\n",
      "[-0.98998311  1.99098607]\n",
      "[-0.99003944  1.99103676]\n",
      "[-0.99009546  1.99108717]\n",
      "[-0.99015115  1.99113729]\n",
      "[-0.99020654  1.99118713]\n",
      "[-0.99026161  1.99123669]\n",
      "[-0.99031638  1.99128597]\n",
      "[-0.99037083  1.99133497]\n",
      "[-0.99042498  1.9913837 ]\n",
      "[-0.99047883  1.99143215]\n",
      "[-0.99053237  1.99148034]\n",
      "[-0.99058561  1.99152825]\n",
      "[-0.99063855  1.99157589]\n",
      "[-0.9906912   1.99162326]\n",
      "[-0.99074355  1.99167037]\n",
      "[-0.9907956   1.99171721]\n",
      "[-0.99084736  1.99176379]\n",
      "[-0.99089883  1.9918101 ]\n",
      "[-0.99095001  1.99185616]\n",
      "[-0.9910009   1.99190196]\n",
      "[-0.99105151  1.9919475 ]\n",
      "[-0.99110183  1.99199278]\n",
      "[-0.99115187  1.99203781]\n",
      "[-0.99120163  1.99208258]\n",
      "[-0.99125111  1.99212711]\n",
      "[-0.99130031  1.99217138]\n",
      "[-0.99134923  1.99221541]\n",
      "[-0.99139788  1.99225918]\n",
      "[-0.99144625  1.99230271]\n",
      "[-0.99149435  1.992346  ]\n",
      "[-0.99154218  1.99238904]\n",
      "[-0.99158975  1.99243184]\n",
      "[-0.99163704  1.9924744 ]\n",
      "[-0.99168407  1.99251672]\n",
      "[-0.99173084  1.9925588 ]\n",
      "[-0.99177734  1.99260065]\n",
      "[-0.99182358  1.99264226]\n",
      "[-0.99186956  1.99268364]\n",
      "[-0.99191528  1.99272478]\n",
      "[-0.99196075  1.99276569]\n",
      "[-0.99200595  1.99280637]\n",
      "[-0.99205091  1.99284683]\n",
      "[-0.99209561  1.99288705]\n",
      "[-0.99214006  1.99292705]\n",
      "[-0.99218426  1.99296683]\n",
      "[-0.99222821  1.99300638]\n",
      "[-0.99227192  1.99304571]\n",
      "[-0.99231538  1.99308482]\n",
      "[-0.99235859  1.9931237 ]\n",
      "[-0.99240156  1.99316237]\n",
      "[-0.99244429  1.99320082]\n",
      "[-0.99248678  1.99323906]\n",
      "[-0.99252903  1.99327708]\n",
      "[-0.99257105  1.99331489]\n",
      "[-0.99261282  1.99335248]\n",
      "[-0.99265436  1.99338986]\n",
      "[-0.99269567  1.99342703]\n",
      "[-0.99273675  1.993464  ]\n",
      "[-0.99277759  1.99350075]\n",
      "[-0.99281821  1.9935373 ]\n",
      "[-0.9928586   1.99357364]\n",
      "[-0.99289876  1.99360978]\n",
      "[-0.99293869  1.99364572]\n",
      "[-0.9929784   1.99368145]\n",
      "[-0.99301789  1.99371698]\n",
      "[-0.99305715  1.99375232]\n",
      "[-0.99309619  1.99378745]\n",
      "[-0.99313502  1.99382239]\n",
      "[-0.99317362  1.99385713]\n",
      "[-0.99321201  1.99389167]\n",
      "[-0.99325018  1.99392602]\n",
      "[-0.99328814  1.99396018]\n",
      "[-0.99332588  1.99399414]\n",
      "[-0.99336342  1.99402792]\n",
      "[-0.99340074  1.9940615 ]\n",
      "[-0.99343785  1.9940949 ]\n",
      "[-0.99347475  1.9941281 ]\n",
      "[-0.99351145  1.99416112]\n",
      "[-0.99354793  1.99419396]\n",
      "[-0.99358422  1.99422661]\n",
      "[-0.9936203   1.99425908]\n",
      "[-0.99365617  1.99429136]\n",
      "[-0.99369185  1.99432346]\n",
      "[-0.99372732  1.99435539]\n",
      "[-0.9937626   1.99438713]\n",
      "[-0.99379767  1.99441869]\n",
      "[-0.99383255  1.99445008]\n",
      "[-0.99386723  1.99448129]\n",
      "[-0.99390172  1.99451232]\n",
      "[-0.99393601  1.99454318]\n",
      "[-0.99397012  1.99457387]\n",
      "[-0.99400402  1.99460438]\n",
      "[-0.99403774  1.99463473]\n",
      "[-0.99407127  1.9946649 ]\n",
      "[-0.99410461  1.9946949 ]\n",
      "[-0.99413777  1.99472473]\n",
      "[-0.99417073  1.9947544 ]\n",
      "[-0.99420351  1.9947839 ]\n",
      "[-0.99423611  1.99481323]\n",
      "[-0.99426852  1.9948424 ]\n",
      "[-0.99430075  1.9948714 ]\n",
      "[-0.9943328   1.99490024]\n",
      "[-0.99436467  1.99492892]\n",
      "[-0.99439636  1.99495744]\n",
      "[-0.99442788  1.9949858 ]\n",
      "[-0.99445921  1.99501399]\n",
      "[-0.99449037  1.99504203]\n",
      "[-0.99452135  1.99506991]\n",
      "[-0.99455216  1.99509764]\n",
      "[-0.9945828   1.99512521]\n",
      "[-0.99461326  1.99515262]\n",
      "[-0.99464355  1.99517988]\n",
      "[-0.99467368  1.99520698]\n",
      "[-0.99470363  1.99523394]\n",
      "[-0.99473341  1.99526074]\n",
      "[-0.99476303  1.99528739]\n",
      "[-0.99479248  1.99531389]\n",
      "[-0.99482176  1.99534025]\n",
      "[-0.99485088  1.99536645]\n",
      "[-0.99487984  1.99539251]\n",
      "[-0.99490863  1.99541842]\n",
      "[-0.99493726  1.99544418]\n",
      "[-0.99496573  1.9954698 ]\n",
      "[-0.99499405  1.99549528]\n",
      "[-0.9950222   1.99552061]\n",
      "[-0.99505019  1.9955458 ]\n",
      "[-0.99507802  1.99557085]\n",
      "[-0.9951057   1.99559575]\n",
      "[-0.99513323  1.99562052]\n",
      "[-0.99516059  1.99564515]\n",
      "[-0.99518781  1.99566964]\n",
      "[-0.99521487  1.99569399]\n",
      "[-0.99524178  1.99571821]\n",
      "[-0.99526854  1.99574228]\n",
      "[-0.99529515  1.99576623]\n",
      "[-0.9953216   1.99579004]\n",
      "[-0.99534791  1.99581371]\n",
      "[-0.99537407  1.99583725]\n",
      "[-0.99540009  1.99586066]\n",
      "[-0.99542595  1.99588394]\n",
      "[-0.99545168  1.99590709]\n",
      "[-0.99547725  1.9959301 ]\n",
      "[-0.99550269  1.99595299]\n",
      "[-0.99552798  1.99597575]\n",
      "[-0.99555313  1.99599838]\n",
      "[-0.99557813  1.99602088]\n",
      "[-0.995603    1.99604326]\n",
      "[-0.99562773  1.99606551]\n",
      "[-0.99565231  1.99608764]\n",
      "[-0.99567676  1.99610964]\n",
      "[-0.99570108  1.99613151]\n",
      "[-0.99572525  1.99615327]\n",
      "[-0.99574929  1.9961749 ]\n",
      "[-0.99577319  1.99619641]\n",
      "[-0.99579696  1.9962178 ]\n",
      "[-0.9958206   1.99623907]\n",
      "[-0.9958441   1.99626022]\n",
      "[-0.99586747  1.99628125]\n",
      "[-0.99589071  1.99630216]\n",
      "[-0.99591382  1.99632296]\n",
      "[-0.9959368   1.99634364]\n",
      "[-0.99595965  1.9963642 ]\n",
      "[-0.99598237  1.99638464]\n",
      "[-0.99600496  1.99640497]\n",
      "[-0.99602743  1.99642519]\n",
      "[-0.99604977  1.99644529]\n",
      "[-0.99607198  1.99646528]\n",
      "[-0.99609407  1.99648516]\n",
      "[-0.99611604  1.99650493]\n",
      "[-0.99613788  1.99652458]\n",
      "[-0.9961596   1.99654413]\n",
      "[-0.99618119  1.99656356]\n",
      "[-0.99620267  1.99658288]\n",
      "[-0.99622402  1.9966021 ]\n",
      "[-0.99624526  1.99662121]\n",
      "[-0.99626637  1.99664021]\n",
      "[-0.99628737  1.9966591 ]\n",
      "[-0.99630825  1.99667789]\n",
      "[-0.99632901  1.99669657]\n",
      "[-0.99634965  1.99671515]\n",
      "[-0.99637018  1.99673362]\n",
      "[-0.99639059  1.99675199]\n",
      "[-0.99641089  1.99677026]\n",
      "[-0.99643107  1.99678842]\n",
      "[-0.99645114  1.99680648]\n",
      "[-0.9964711   1.99682444]\n",
      "[-0.99649094  1.9968423 ]\n",
      "[-0.99651068  1.99686005]\n",
      "[-0.9965303   1.99687771]\n",
      "[-0.99654981  1.99689527]\n",
      "[-0.99656921  1.99691273]\n",
      "[-0.99658851  1.99693009]\n",
      "[-0.99660769  1.99694735]\n",
      "[-0.99662677  1.99696452]\n",
      "[-0.99664574  1.99698159]\n",
      "[-0.9966646   1.99699856]\n",
      "[-0.99668336  1.99701544]\n",
      "[-0.99670201  1.99703223]\n",
      "[-0.99672055  1.99704892]\n",
      "[-0.996739    1.99706551]\n",
      "[-0.99675733  1.99708201]\n",
      "[-0.99677557  1.99709842]\n",
      "[-0.9967937   1.99711474]\n",
      "[-0.99681173  1.99713096]\n",
      "[-0.99682966  1.9971471 ]\n",
      "[-0.99684749  1.99716314]\n",
      "[-0.99686522  1.9971791 ]\n",
      "[-0.99688285  1.99719496]\n",
      "[-0.99690038  1.99721073]\n",
      "[-0.99691781  1.99722642]\n",
      "[-0.99693514  1.99724202]\n",
      "[-0.99695238  1.99725753]\n",
      "[-0.99696951  1.99727295]\n",
      "[-0.99698656  1.99728828]\n",
      "[-0.9970035   1.99730353]\n",
      "[-0.99702035  1.9973187 ]\n",
      "[-0.99703711  1.99733377]\n",
      "[-0.99705377  1.99734877]\n",
      "[-0.99707034  1.99736368]\n",
      "[-0.99708681  1.9973785 ]\n",
      "[-0.9971032   1.99739324]\n",
      "[-0.99711949  1.9974079 ]\n",
      "[-0.99713569  1.99742248]\n",
      "[-0.99715179  1.99743698]\n",
      "[-0.99716781  1.99745139]\n",
      "[-0.99718374  1.99746572]\n",
      "[-0.99719957  1.99747997]\n",
      "[-0.99721532  1.99749414]\n",
      "[-0.99723098  1.99750824]\n",
      "[-0.99724655  1.99752225]\n",
      "[-0.99726204  1.99753618]\n",
      "[-0.99727743  1.99755004]\n",
      "[-0.99729274  1.99756381]\n",
      "[-0.99730797  1.99757751]\n",
      "[-0.99732311  1.99759114]\n",
      "[-0.99733816  1.99760468]\n",
      "[-0.99735313  1.99761815]\n",
      "[-0.99736801  1.99763155]\n",
      "[-0.99738282  1.99764487]\n",
      "[-0.99739753  1.99765811]\n",
      "[-0.99741217  1.99767128]\n",
      "[-0.99742672  1.99768438]\n",
      "[-0.99744119  1.9976974 ]\n",
      "[-0.99745558  1.99771035]\n",
      "[-0.99746989  1.99772322]\n",
      "[-0.99748412  1.99773603]\n",
      "[-0.99749827  1.99774876]\n",
      "[-0.99751233  1.99776142]\n",
      "[-0.99752632  1.99777401]\n",
      "[-0.99754024  1.99778652]\n",
      "[-0.99755407  1.99779897]\n",
      "[-0.99756782  1.99781135]\n",
      "[-0.9975815   1.99782366]\n",
      "[-0.9975951  1.9978359]\n",
      "[-0.99760862  1.99784807]\n",
      "[-0.99762207  1.99786017]\n",
      "[-0.99763544  1.9978722 ]\n",
      "[-0.99764874  1.99788417]\n",
      "[-0.99766196  1.99789606]\n",
      "[-0.99767511  1.9979079 ]\n",
      "[-0.99768819  1.99791966]\n",
      "[-0.99770119  1.99793136]\n",
      "[-0.99771411  1.99794299]\n",
      "[-0.99772697  1.99795456]\n",
      "[-0.99773975  1.99796606]\n",
      "[-0.99775246  1.9979775 ]\n",
      "[-0.9977651   1.99798887]\n",
      "[-0.99777767  1.99800018]\n",
      "[-0.99779017  1.99801143]\n",
      "[-0.99780259  1.99802261]\n",
      "[-0.99781495  1.99803373]\n",
      "[-0.99782724  1.99804479]\n",
      "[-0.99783946  1.99805579]\n",
      "[-0.99785161  1.99806672]\n",
      "[-0.99786369  1.99807759]\n",
      "[-0.9978757  1.9980884]\n",
      "[-0.99788765  1.99809915]\n",
      "[-0.99789953  1.99810984]\n",
      "[-0.99791134  1.99812047]\n",
      "[-0.99792308  1.99813104]\n",
      "[-0.99793476  1.99814155]\n",
      "[-0.99794638  1.998152  ]\n",
      "[-0.99795793  1.99816239]\n",
      "[-0.99796941  1.99817273]\n",
      "[-0.99798083  1.998183  ]\n",
      "[-0.99799218  1.99819322]\n",
      "[-0.99800347  1.99820338]\n",
      "[-0.9980147   1.99821348]\n",
      "[-0.99802587  1.99822353]\n",
      "[-0.99803697  1.99823352]\n",
      "[-0.99804801  1.99824345]\n",
      "[-0.99805898  1.99825333]\n",
      "[-0.9980699   1.99826315]\n",
      "[-0.99808075  1.99827292]\n",
      "[-0.99809155  1.99828263]\n",
      "[-0.99810228  1.99829229]\n",
      "[-0.99811295  1.99830189]\n",
      "[-0.99812356  1.99831144]\n",
      "[-0.99813411  1.99832094]\n",
      "[-0.99814461  1.99833038]\n",
      "[-0.99815504  1.99833977]\n",
      "[-0.99816542  1.99834911]\n",
      "[-0.99817573  1.99835839]\n",
      "[-0.99818599  1.99836762]\n",
      "[-0.99819619  1.9983768 ]\n",
      "[-0.99820634  1.99838593]\n",
      "[-0.99821642  1.99839501]\n",
      "[-0.99822645  1.99840403]\n",
      "[-0.99823643  1.99841301]\n",
      "[-0.99824634  1.99842193]\n",
      "[-0.99825621  1.99843081]\n",
      "[-0.99826601  1.99843963]\n",
      "[-0.99827576  1.99844841]\n",
      "[-0.99828546  1.99845713]\n",
      "[-0.9982951   1.99846581]\n",
      "[-0.99830469  1.99847444]\n",
      "[-0.99831422  1.99848301]\n",
      "[-0.9983237   1.99849154]\n",
      "[-0.99833313  1.99850003]\n",
      "[-0.9983425   1.99850846]\n",
      "[-0.99835182  1.99851685]\n",
      "[-0.99836109  1.99852519]\n",
      "[-0.99837031  1.99853348]\n",
      "[-0.99837947  1.99854173]\n",
      "[-0.99838859  1.99854993]\n",
      "[-0.99839765  1.99855809]\n",
      "[-0.99840666  1.9985662 ]\n",
      "[-0.99841562  1.99857426]\n",
      "[-0.99842453  1.99858228]\n",
      "[-0.99843339  1.99859025]\n",
      "[-0.9984422   1.99859818]\n",
      "[-0.99845096  1.99860606]\n",
      "[-0.99845967  1.9986139 ]\n",
      "[-0.99846833  1.99862169]\n",
      "[-0.99847695  1.99862944]\n",
      "[-0.99848551  1.99863715]\n",
      "[-0.99849403  1.99864482]\n",
      "[-0.9985025   1.99865244]\n",
      "[-0.99851092  1.99866001]\n",
      "[-0.99851929  1.99866755]\n",
      "[-0.99852762  1.99867504]\n",
      "[-0.9985359   1.99868249]\n",
      "[-0.99854413  1.9986899 ]\n",
      "[-0.99855232  1.99869727]\n",
      "[-0.99856046  1.9987046 ]\n",
      "[-0.99856855  1.99871188]\n",
      "[-0.9985766   1.99871912]\n",
      "[-0.99858461  1.99872633]\n",
      "[-0.99859257  1.99873349]\n",
      "[-0.99860048  1.99874061]\n",
      "[-0.99860835  1.99874769]\n",
      "[-0.99861618  1.99875474]\n",
      "[-0.99862396  1.99876174]\n",
      "[-0.9986317  1.9987687]\n",
      "[-0.99863939  1.99877563]\n",
      "[-0.99864705  1.99878251]\n",
      "[-0.99865465  1.99878936]\n",
      "[-0.99866222  1.99879617]\n",
      "[-0.99866974  1.99880294]\n",
      "[-0.99867722  1.99880967]\n",
      "[-0.99868466  1.99881636]\n",
      "[-0.99869206  1.99882302]\n",
      "[-0.99869941  1.99882964]\n",
      "[-0.99870673  1.99883622]\n",
      "[-0.998714    1.99884276]\n",
      "[-0.99872123  1.99884927]\n",
      "[-0.99872842  1.99885574]\n",
      "[-0.99873557  1.99886218]\n",
      "[-0.99874268  1.99886858]\n",
      "[-0.99874975  1.99887494]\n",
      "[-0.99875679  1.99888126]\n",
      "[-0.99876378  1.99888756]\n",
      "[-0.99877073  1.99889381]\n",
      "[-0.99877764  1.99890003]\n",
      "[-0.99878452  1.99890622]\n",
      "[-0.99879135  1.99891237]\n",
      "[-0.99879815  1.99891849]\n",
      "[-0.99880491  1.99892457]\n",
      "[-0.99881163  1.99893062]\n",
      "[-0.99881831  1.99893663]\n",
      "[-0.99882495  1.99894261]\n",
      "[-0.99883156  1.99894856]\n",
      "[-0.99883813  1.99895447]\n",
      "[-0.99884467  1.99896035]\n",
      "[-0.99885116  1.99896619]\n",
      "[-0.99885762  1.99897201]\n",
      "[-0.99886405  1.99897779]\n",
      "[-0.99887044  1.99898354]\n",
      "[-0.99887679  1.99898925]\n",
      "[-0.99888311  1.99899494]\n",
      "[-0.99888939  1.99900059]\n",
      "[-0.99889563  1.99900621]\n",
      "[-0.99890184  1.9990118 ]\n",
      "[-0.99890802  1.99901735]\n",
      "[-0.99891416  1.99902288]\n",
      "[-0.99892026  1.99902838]\n",
      "[-0.99892634  1.99903384]\n",
      "[-0.99893237  1.99903927]\n",
      "[-0.99893838  1.99904468]\n",
      "[-0.99894435  1.99905005]\n",
      "[-0.99895028  1.99905539]\n",
      "[-0.99895619  1.9990607 ]\n",
      "[-0.99896206  1.99906598]\n",
      "[-0.99896789  1.99907124]\n",
      "[-0.9989737   1.99907646]\n",
      "[-0.99897947  1.99908165]\n",
      "[-0.99898521  1.99908682]\n",
      "[-0.99899092  1.99909195]\n",
      "[-0.99899659  1.99909706]\n",
      "[-0.99900223  1.99910214]\n",
      "[-0.99900784  1.99910719]\n",
      "[-0.99901342  1.99911221]\n",
      "[-0.99901897  1.9991172 ]\n",
      "[-0.99902449  1.99912216]\n",
      "[-0.99902997  1.9991271 ]\n",
      "[-0.99903543  1.99913201]\n",
      "[-0.99904085  1.99913689]\n",
      "[-0.99904625  1.99914174]\n",
      "[-0.99905161  1.99914657]\n",
      "[-0.99905694  1.99915137]\n",
      "[-0.99906225  1.99915614]\n",
      "[-0.99906752  1.99916089]\n",
      "[-0.99907276  1.99916561]\n",
      "[-0.99907798  1.9991703 ]\n",
      "[-0.99908316  1.99917496]\n",
      "[-0.99908832  1.9991796 ]\n",
      "[-0.99909345  1.99918422]\n",
      "[-0.99909854  1.9991888 ]\n",
      "[-0.99910361  1.99919337]\n",
      "[-0.99910865  1.9991979 ]\n",
      "[-0.99911367  1.99920241]\n",
      "[-0.99911865  1.9992069 ]\n",
      "[-0.99912361  1.99921136]\n",
      "[-0.99912854  1.99921579]\n",
      "[-0.99913344  1.9992202 ]\n",
      "[-0.99913831  1.99922459]\n",
      "[-0.99914316  1.99922895]\n",
      "[-0.99914797  1.99923328]\n",
      "[-0.99915277  1.9992376 ]\n",
      "[-0.99915753  1.99924188]\n",
      "[-0.99916227  1.99924615]\n",
      "[-0.99916698  1.99925039]\n",
      "[-0.99917166  1.9992546 ]\n",
      "[-0.99917632  1.99925879]\n",
      "[-0.99918095  1.99926296]\n",
      "[-0.99918556  1.99926711]\n",
      "[-0.99919014  1.99927123]\n",
      "[-0.99919469  1.99927533]\n",
      "[-0.99919922  1.9992794 ]\n",
      "[-0.99920373  1.99928345]\n",
      "[-0.9992082   1.99928748]\n",
      "[-0.99921266  1.99929149]\n",
      "[-0.99921708  1.99929547]\n",
      "[-0.99922149  1.99929944]\n",
      "[-0.99922586  1.99930338]\n",
      "[-0.99923022  1.99930729]\n",
      "[-0.99923455  1.99931119]\n",
      "[-0.99923885  1.99931506]\n",
      "[-0.99924313  1.99931891]\n",
      "[-0.99924739  1.99932274]\n",
      "[-0.99925162  1.99932655]\n",
      "[-0.99925583  1.99933034]\n",
      "[-0.99926001  1.99933411]\n",
      "[-0.99926417  1.99933785]\n",
      "[-0.99926831  1.99934157]\n",
      "[-0.99927243  1.99934528]\n",
      "[-0.99927652  1.99934896]\n",
      "[-0.99928059  1.99935262]\n",
      "[-0.99928463  1.99935626]\n",
      "[-0.99928866  1.99935988]\n",
      "[-0.99929266  1.99936348]\n",
      "[-0.99929663  1.99936706]\n",
      "[-0.99930059  1.99937062]\n",
      "[-0.99930452  1.99937416]\n",
      "[-0.99930843  1.99937768]\n",
      "[-0.99931232  1.99938118]\n",
      "[-0.99931619  1.99938466]\n",
      "[-0.99932003  1.99938812]\n",
      "[-0.99932386  1.99939156]\n",
      "[-0.99932766  1.99939498]\n",
      "[-0.99933144  1.99939838]\n",
      "[-0.9993352   1.99940177]\n",
      "[-0.99933894  1.99940513]\n",
      "[-0.99934266  1.99940848]\n",
      "[-0.99934635  1.9994118 ]\n",
      "[-0.99935003  1.99941511]\n",
      "[-0.99935368  1.9994184 ]\n",
      "[-0.99935732  1.99942167]\n",
      "[-0.99936093  1.99942492]\n",
      "[-0.99936453  1.99942816]\n",
      "[-0.9993681   1.99943137]\n",
      "[-0.99937165  1.99943457]\n",
      "[-0.99937519  1.99943775]\n",
      "[-0.9993787   1.99944091]\n",
      "[-0.9993822   1.99944405]\n",
      "[-0.99938567  1.99944718]\n",
      "[-0.99938912  1.99945029]\n",
      "[-0.99939256  1.99945338]\n",
      "[-0.99939598  1.99945645]\n",
      "[-0.99939937  1.99945951]\n",
      "[-0.99940275  1.99946255]\n",
      "[-0.99940611  1.99946557]\n",
      "[-0.99940945  1.99946858]\n",
      "[-0.99941277  1.99947157]\n",
      "[-0.99941607  1.99947454]"
     ]
    },
    {
     "name": "stdout",
     "output_type": "stream",
     "text": [
      "\n",
      "[-0.99941936  1.99947749]\n",
      "[-0.99942262  1.99948043]\n",
      "[-0.99942587  1.99948335]\n",
      "[-0.9994291   1.99948626]\n",
      "[-0.99943231  1.99948915]\n",
      "[-0.9994355   1.99949202]\n",
      "[-0.99943867  1.99949488]\n",
      "[-0.99944183  1.99949772]\n",
      "[-0.99944497  1.99950054]\n",
      "[-0.99944809  1.99950335]\n",
      "[-0.99945119  1.99950614]\n",
      "[-0.99945428  1.99950892]\n",
      "[-0.99945735  1.99951168]\n",
      "[-0.9994604   1.99951443]\n",
      "[-0.99946344  1.99951716]\n",
      "[-0.99946645  1.99951988]\n",
      "[-0.99946945  1.99952258]\n",
      "[-0.99947244  1.99952526]\n",
      "[-0.9994754   1.99952793]\n",
      "[-0.99947835  1.99953058]\n",
      "[-0.99948129  1.99953322]\n",
      "[-0.9994842   1.99953585]\n",
      "[-0.9994871   1.99953846]\n",
      "[-0.99948999  1.99954105]\n",
      "[-0.99949286  1.99954364]\n",
      "[-0.99949571  1.9995462 ]\n",
      "[-0.99949854  1.99954875]\n",
      "[-0.99950136  1.99955129]\n",
      "[-0.99950417  1.99955381]\n",
      "[-0.99950696  1.99955632]\n",
      "[-0.99950973  1.99955882]\n",
      "[-0.99951249  1.9995613 ]\n",
      "[-0.99951523  1.99956377]\n",
      "[-0.99951795  1.99956622]\n",
      "[-0.99952067  1.99956866]\n",
      "[-0.99952336  1.99957109]\n",
      "[-0.99952604  1.9995735 ]\n",
      "[-0.99952871  1.9995759 ]\n",
      "[-0.99953136  1.99957828]\n",
      "[-0.99953399  1.99958065]\n",
      "[-0.99953661  1.99958301]\n",
      "[-0.99953922  1.99958536]\n",
      "[-0.99954181  1.99958769]\n",
      "[-0.99954439  1.99959001]\n",
      "[-0.99954695  1.99959231]\n",
      "[-0.9995495  1.9995946]\n",
      "[-0.99955203  1.99959688]\n",
      "[-0.99955455  1.99959915]\n",
      "[-0.99955705  1.9996014 ]\n",
      "[-0.99955954  1.99960365]\n",
      "[-0.99956202  1.99960588]\n",
      "[-0.99956448  1.99960809]\n",
      "[-0.99956693  1.9996103 ]\n",
      "[-0.99956937  1.99961249]\n",
      "[-0.99957179  1.99961467]\n",
      "[-0.9995742   1.99961683]\n",
      "[-0.99957659  1.99961899]\n",
      "[-0.99957897  1.99962113]\n",
      "[-0.99958134  1.99962326]\n",
      "[-0.9995837   1.99962538]\n",
      "[-0.99958604  1.99962749]\n",
      "[-0.99958837  1.99962958]\n",
      "[-0.99959068  1.99963166]\n",
      "[-0.99959298  1.99963374]\n",
      "[-0.99959527  1.9996358 ]\n",
      "[-0.99959755  1.99963784]\n",
      "[-0.99959981  1.99963988]\n",
      "[-0.99960206  1.9996419 ]\n",
      "[-0.9996043   1.99964392]\n",
      "[-0.99960652  1.99964592]\n",
      "[-0.99960874  1.99964791]\n",
      "[-0.99961094  1.99964989]\n",
      "[-0.99961312  1.99965186]\n",
      "[-0.9996153   1.99965382]\n",
      "[-0.99961746  1.99965577]\n",
      "[-0.99961961  1.9996577 ]\n",
      "[-0.99962175  1.99965963]\n",
      "[-0.99962388  1.99966154]\n",
      "[-0.999626    1.99966344]\n",
      "[-0.9996281   1.99966534]\n",
      "[-0.99963019  1.99966722]\n",
      "[-0.99963227  1.99966909]\n",
      "[-0.99963434  1.99967095]\n",
      "[-0.99963639  1.9996728 ]\n",
      "[-0.99963844  1.99967464]\n",
      "[-0.99964047  1.99967647]\n",
      "[-0.99964249  1.99967829]\n",
      "[-0.9996445  1.9996801]\n",
      "[-0.9996465  1.9996819]\n",
      "[-0.99964849  1.99968369]\n",
      "[-0.99965047  1.99968547]\n",
      "[-0.99965243  1.99968723]\n",
      "[-0.99965439  1.99968899]\n",
      "[-0.99965633  1.99969074]\n",
      "[-0.99965826  1.99969248]\n",
      "[-0.99966019  1.99969421]\n",
      "[-0.9996621   1.99969593]\n",
      "[-0.999664    1.99969764]\n",
      "[-0.99966589  1.99969934]\n",
      "[-0.99966777  1.99970103]\n",
      "[-0.99966963  1.99970271]\n",
      "[-0.99967149  1.99970438]\n",
      "[-0.99967334  1.99970605]\n",
      "[-0.99967518  1.9997077 ]\n",
      "[-0.999677    1.99970934]\n",
      "[-0.99967882  1.99971098]\n",
      "[-0.99968063  1.9997126 ]\n",
      "[-0.99968242  1.99971422]\n",
      "[-0.99968421  1.99971583]\n",
      "[-0.99968598  1.99971742]\n",
      "[-0.99968775  1.99971901]\n",
      "[-0.99968951  1.99972059]\n",
      "[-0.99969125  1.99972217]\n",
      "[-0.99969299  1.99972373]\n",
      "[-0.99969471  1.99972528]\n",
      "[-0.99969643  1.99972683]\n",
      "[-0.99969814  1.99972836]\n",
      "[-0.99969984  1.99972989]\n",
      "[-0.99970152  1.99973141]\n",
      "[-0.9997032   1.99973292]\n",
      "[-0.99970487  1.99973442]\n",
      "[-0.99970653  1.99973591]\n",
      "[-0.99970818  1.9997374 ]\n",
      "[-0.99970982  1.99973888]\n",
      "[-0.99971145  1.99974035]\n",
      "[-0.99971308  1.99974181]\n",
      "[-0.99971469  1.99974326]\n",
      "[-0.99971629  1.9997447 ]\n",
      "[-0.99971789  1.99974614]\n",
      "[-0.99971948  1.99974756]\n",
      "[-0.99972105  1.99974898]\n",
      "[-0.99972262  1.9997504 ]\n",
      "[-0.99972418  1.9997518 ]\n",
      "[-0.99972573  1.99975319]\n",
      "[-0.99972728  1.99975458]\n",
      "[-0.99972881  1.99975596]\n",
      "[-0.99973033  1.99975734]\n",
      "[-0.99973185  1.9997587 ]\n",
      "[-0.99973336  1.99976006]\n",
      "[-0.99973486  1.99976141]\n",
      "[-0.99973635  1.99976275]\n",
      "[-0.99973783  1.99976408]\n",
      "[-0.99973931  1.99976541]\n",
      "[-0.99974077  1.99976673]\n",
      "[-0.99974223  1.99976804]\n",
      "[-0.99974368  1.99976934]\n",
      "[-0.99974512  1.99977064]\n",
      "[-0.99974655  1.99977193]\n",
      "[-0.99974798  1.99977321]\n",
      "[-0.9997494   1.99977449]\n",
      "[-0.99975081  1.99977576]\n",
      "[-0.99975221  1.99977702]\n",
      "[-0.9997536   1.99977827]\n",
      "[-0.99975499  1.99977952]\n",
      "[-0.99975636  1.99978076]\n",
      "[-0.99975773  1.99978199]\n",
      "[-0.9997591   1.99978322]\n",
      "[-0.99976045  1.99978444]\n",
      "[-0.9997618   1.99978565]\n",
      "[-0.99976314  1.99978685]\n",
      "[-0.99976447  1.99978805]\n",
      "[-0.99976579  1.99978925]\n",
      "[-0.99976711  1.99979043]\n",
      "[-0.99976842  1.99979161]\n",
      "[-0.99976972  1.99979278]\n",
      "[-0.99977102  1.99979395]\n",
      "[-0.99977231  1.9997951 ]\n",
      "[-0.99977359  1.99979626]\n",
      "[-0.99977486  1.9997974 ]\n",
      "[-0.99977613  1.99979854]\n",
      "[-0.99977739  1.99979967]\n",
      "[-0.99977864  1.9998008 ]\n",
      "[-0.99977988  1.99980192]\n",
      "[-0.99978112  1.99980304]\n",
      "[-0.99978235  1.99980414]\n",
      "[-0.99978357  1.99980524]\n",
      "[-0.99978479  1.99980634]\n",
      "[-0.999786    1.99980743]\n",
      "[-0.99978721  1.99980851]\n",
      "[-0.9997884   1.99980959]\n",
      "[-0.99978959  1.99981066]\n",
      "[-0.99979077  1.99981172]\n",
      "[-0.99979195  1.99981278]\n",
      "[-0.99979312  1.99981384]\n",
      "[-0.99979428  1.99981488]\n",
      "[-0.99979544  1.99981592]\n",
      "[-0.99979659  1.99981696]\n",
      "[-0.99979774  1.99981799]\n",
      "[-0.99979887  1.99981901]\n",
      "[-0.9998      1.99982003]\n",
      "[-0.99980113  1.99982104]\n",
      "[-0.99980225  1.99982205]\n",
      "[-0.99980336  1.99982305]\n",
      "[-0.99980447  1.99982404]\n",
      "[-0.99980556  1.99982503]\n",
      "[-0.99980666  1.99982602]\n",
      "[-0.99980775  1.999827  ]\n",
      "[-0.99980883  1.99982797]\n",
      "[-0.9998099   1.99982894]\n",
      "[-0.99981097  1.9998299 ]\n",
      "[-0.99981203  1.99983085]\n",
      "[-0.99981309  1.99983181]\n",
      "[-0.99981414  1.99983275]\n",
      "[-0.99981519  1.99983369]\n",
      "[-0.99981623  1.99983463]\n",
      "[-0.99981726  1.99983556]\n",
      "[-0.99981829  1.99983648]\n",
      "[-0.99981931  1.9998374 ]\n",
      "[-0.99982033  1.99983832]\n",
      "[-0.99982134  1.99983923]\n",
      "[-0.99982234  1.99984013]\n",
      "[-0.99982334  1.99984103]\n",
      "[-0.99982433  1.99984192]\n",
      "[-0.99982532  1.99984281]\n",
      "[-0.9998263  1.9998437]\n",
      "[-0.99982728  1.99984457]\n",
      "[-0.99982825  1.99984545]\n",
      "[-0.99982922  1.99984632]\n",
      "[-0.99983018  1.99984718]\n",
      "[-0.99983113  1.99984804]\n",
      "[-0.99983208  1.9998489 ]\n",
      "[-0.99983303  1.99984975]\n",
      "[-0.99983397  1.99985059]\n",
      "[-0.9998349   1.99985143]\n",
      "[-0.99983583  1.99985227]\n",
      "[-0.99983675  1.9998531 ]\n",
      "[-0.99983767  1.99985392]\n",
      "[-0.99983858  1.99985474]\n",
      "[-0.99983949  1.99985556]\n",
      "[-0.99984039  1.99985637]\n",
      "[-0.99984129  1.99985718]\n",
      "[-0.99984218  1.99985798]\n",
      "[-0.99984307  1.99985878]\n",
      "[-0.99984395  1.99985958]\n",
      "[-0.99984483  1.99986037]\n",
      "[-0.9998457   1.99986115]\n",
      "[-0.99984657  1.99986193]\n",
      "[-0.99984743  1.99986271]\n",
      "[-0.99984829  1.99986348]\n",
      "[-0.99984914  1.99986425]\n",
      "[-0.99984999  1.99986501]\n",
      "[-0.99985084  1.99986577]\n",
      "[-0.99985167  1.99986653]\n",
      "[-0.99985251  1.99986728]\n",
      "[-0.99985334  1.99986802]\n",
      "[-0.99985416  1.99986877]\n",
      "[-0.99985498  1.9998695 ]\n",
      "[-0.9998558   1.99987024]\n",
      "[-0.99985661  1.99987097]\n",
      "[-0.99985742  1.99987169]\n",
      "[-0.99985822  1.99987241]\n"
     ]
    }
   ],
   "source": [
    "yt=[0.1 * i for i in range(1,11)]\n",
    "m=len(yt)\n",
    "k=0.9\n",
    "N=2\n",
    "Terr=10000\n",
    "w=np.ones(N)/N\n",
    "while abs(Terr)>0.00001:\n",
    "    Terr=[]\n",
    "    for j in range(N+1,m):\n",
    "        yhat = np.dot(w,yt[j-N:j])\n",
    "        err = yt[j] - yhat\n",
    "        Terr.append(err)\n",
    "        w = w + 2*k*err*np.array(yt[j-N:j])\n",
    "    Terr = max(Terr)\n",
    "    print(w)"
   ]
  },
  {
   "cell_type": "markdown",
   "metadata": {
    "id": "B5F1917B12204DB9BF1DFCAE9698B16C",
    "jupyter": {},
    "mdEditEnable": false,
    "slideshow": {
     "slide_type": "slide"
    },
    "tags": []
   },
   "source": [
    "**$N$, $k$值和初始权数的确定**\n",
    "\n",
    "在开始调整权数时，首先要确定权数个数$N$和学习常数$k$ 。一般说来，当时间序列的观测值呈季节变动时， $N$ 应取季节性长度值。如序列以一年为周期进行季节变动时，若数据是月度的，则取$N = 12$，若季节是季度的，则取$N = 4$。如果时间序列无明显的周期变动，则可用自相关系数法来确定，即取$N$为最高自相关系数的滞后时期。\n",
    "\n",
    "$k$的取值一般可定为$1/N$ ，也可以用不同的$k$值来进行计算，以确定一个能使$S$最小的$k$值。\n",
    "\n",
    "\n",
    "初始权数的确定也很重要，如无其它依据，也可用$1/ N$ 作为初始权系数用，即\n",
    "$$\n",
    "w_{i}=\\frac{1}{N}(i=1,2, \\cdots, N)\n",
    "$$\n",
    "\n",
    "自适应滤波法有两个明显的优点：\n",
    "- 一是技术比较简单，可根据预测意图来选择权数的个数和学习常数，以控制预测。也可以由计算机自动选定。\n",
    "- 二是它使用了全部历史数据来寻求最佳权系数，并随数据轨迹的变化而不断更新权数，从而不断改进预测。由于自适应滤波法的预测模型简单，又可以在计算机上对数据进行处理，所以这种预测方法应用较为广泛。"
   ]
  },
  {
   "cell_type": "markdown",
   "metadata": {
    "id": "E6CA2716077D4C239E0DD171B2079A95",
    "jupyter": {},
    "mdEditEnable": false,
    "slideshow": {
     "slide_type": "slide"
    },
    "tags": []
   },
   "source": [
    "## 预测方法总结\n",
    "\n",
    "\n",
    "**回归分析法：** 适合中、小样本预测\n",
    "**时间序列方法：** 适合中、大样本的随机因素或周期特征的未来趋势未来预测"
   ]
  },
  {
   "cell_type": "markdown",
   "metadata": {
    "id": "6807386C92834564AC21FDB8AD30593E",
    "jupyter": {},
    "mdEditEnable": false,
    "slideshow": {
     "slide_type": "slide"
    },
    "tags": []
   },
   "source": [
    "## 练习\n",
    "\n",
    "1. 用如下代码生成一个包含了随机变动的正弦函数曲线，请你使用多项式拟合方法，研究用二次，三次，以及更高次函数拟合的情况，给你你认为的最好的拟合方法。"
   ]
  },
  {
   "cell_type": "code",
   "execution_count": 19,
   "metadata": {
    "id": "F047103E9B9045A084693F710831F023",
    "jupyter": {},
    "slideshow": {
     "slide_type": "slide"
    },
    "tags": []
   },
   "outputs": [
    {
     "data": {
      "text/plain": [
       "<matplotlib.collections.PathCollection at 0x12af2b810>"
      ]
     },
     "execution_count": 19,
     "metadata": {},
     "output_type": "execute_result"
    },
    {
     "data": {
      "image/png": "[encoded data removed]",
      "text/plain": [
       "<Figure size 432x288 with 1 Axes>"
      ]
     },
     "metadata": {
      "filenames": {
       "image/png": "/Users/rentongxin/Documents/GitHub/math-models.github.io/mini_book/_build/jupyter_execute/docs/prediction_model_65_1.png"
      },
      "needs_background": "light"
     },
     "output_type": "display_data"
    }
   ],
   "source": [
    "import numpy as np\n",
    "import matplotlib.pyplot as plt\n",
    "%matplotlib inline\n",
    "x = [0.1 * i for i in range(100)]\n",
    "y = [np.sin(t) + np.random.random() for t in x]\n",
    "plt.scatter(x,y)"
   ]
  }
 ],
 "metadata": {
  "jupytext": {
   "text_representation": {
    "extension": ".md",
    "format_name": "myst",
    "format_version": 0.12,
    "jupytext_version": "1.6.0"
   }
  },
  "kernelspec": {
   "display_name": "Python 3",
   "language": "python",
   "name": "python3"
  },
  "language_info": {
   "codemirror_mode": {
    "name": "ipython",
    "version": 3
   },
   "file_extension": ".py",
   "mimetype": "text/x-python",
   "name": "python",
   "nbconvert_exporter": "python",
   "pygments_lexer": "ipython3",
   "version": "3.7.9"
  },
  "source_map": [
   14,
   20,
   33,
   48,
   65,
   79,
   112,
   116,
   141,
   145,
   159,
   172,
   186,
   190,
   202,
   206,
   210,
   222,
   226,
   244,
   258,
   262,
   281,
   285,
   303,
   312,
   316,
   330,
   344,
   355,
   380,
   384,
   442,
   449,
   453,
   457,
   461,
   471,
   502,
   506,
   512,
   526,
   530,
   538,
   561,
   588,
   592,
   607,
   638,
   642,
   646,
   711,
   715,
   734,
   765,
   769,
   773,
   795,
   801,
   805,
   827,
   845,
   870,
   888,
   896,
   902
  ]
 },
 "nbformat": 4,
 "nbformat_minor": 4
}