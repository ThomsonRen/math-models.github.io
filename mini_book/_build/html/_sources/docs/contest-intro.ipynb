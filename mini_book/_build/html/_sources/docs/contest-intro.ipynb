{
 "cells": [
  {
   "cell_type": "markdown",
   "metadata": {
    "id": "8478FBF13EA7419BA3A250ED42FE1112",
    "jupyter": {},
    "mdEditEnable": false,
    "slideshow": {
     "slide_type": "slide"
    },
    "tags": []
   },
   "source": [
    "# HiMCM\n",
    "\n",
    "## 竞赛介绍\n",
    "MCM/ICM 是 Mathematical Contest In Modeling 和 Interdisciplinary Contest In Modeling 的缩写，即“数学建模竞赛”和“交叉学科建模竞赛”。MCM 始于 1985 年，ICM 始于 2000 年，由 COMAP（the Consortium for Mathematics and Its Application，美国数学及其应用联合会）主办。自1985年举办至今已有34届，吸引了来全世界20多个国家和地区的千余所高校参与，为现今各类建模竞赛之鼻祖。\n",
    "\n",
    "\n",
    "\n",
    "\n",
    "HiMCM是在MCM取得成功的背景下，借鉴了大学生数学建模的形式，结合了中学生的特点进行设计的。HiMCM同样以团队合作的形式进行，除了与他人讨论赛题之外，比赛允许使用图书资料、互联网上的资料，队伍由2-4名成员构成，配备一名指导老师，在14天时间内从AB两个题目中选择一个，完成并提交参赛论文（此为2019年新规，2018年比赛时间为10天，更早的比赛时间为96小时）。\n",
    "\n",
    "\n",
    "\n",
    "\n",
    "\n",
    "```{tip}\n",
    "[2020 HiMCM比赛时间](https://www.comap.com/highschool/contests/himcm/instructions.html)：2020年11月4日 3:01PM—— 2020年11月17日 8:00PM(美国东部时间)\n",
    "```\n",
    "\n",
    "## 奖项设置\n",
    "\n",
    "| 英文名 | 备注 |\n",
    "| :------: | :------: |\n",
    "| Outstanding Winner | 全球共约10支队伍，约1% |\n",
    "| Finalist | 在最后一轮选拔被淘汰，约7% |\n",
    "| Meritorious | 大约14% |\n",
    "| Honorable Mention | 大约32%的队伍 |\n",
    "| Successful Participant | 成功提交论文，占大约45%队伍 |\n",
    "| Unsuccessful Participant | 未能在指定时间内提交论文 |\n",
    "| Disqualified | 被发现抄袭、违反规则等 |\n",
    "\n",
    "\n",
    "2019年O奖中有五个中国队伍:  \n",
    "+ 9548 No 2 High School of East China Normal University, Shanghai, China  \n",
    "+ 9564 Hwa Chong Institution, Singapore  \n",
    "+ 9824 Hangzhou Foreign Languages School, Zhejiang, China  \n",
    "+ 9844 The High School Affiliated To Renin University of China, Beijing, China  \n",
    "+ 9869 Shanghai Qibao Dwight High School, Shanghai, China  \n",
    "+ 10057 Shanghai High School International Division, Shanghai, China (NCTM Winner)  \n",
    "+ 10174 NC School of Science and Mathematics, NC, USA  \n",
    "+ 10337 Palo Alto High School, CA, USA (NCTM Winner)  \n",
    "+ 10407 Friends' Central School, PA, USA  \n",
    "\n",
    "\n",
    "## 参赛意义\n",
    "\n",
    "\n",
    "+ 含金量极高的数学类比赛，具有国际影响力，是含金量最高的学术竞赛之一。\n",
    "+ 提高撰写英文学术论文的能力，提高数学和编程水平，锻炼团队协作能力。为以后参加同类数学竞赛、参加科研项目打下基础。\n",
    "+ 展现及锻炼在数学、英语、计算机、自然科学、社会科学等诸多领域的综合能力，对相关大学专业的选择有提前认识。\n",
    "\n",
    "\n",
    "\n",
    "## 比赛流程\n",
    "\n",
    "| 比赛流程 | 对队员的要求 |\n",
    "| :------: | :------: |\n",
    "| 1. 结合实际问题，通过简化和假设，建立数学模型 | 了解常见的数学模型，有的放矢 |\n",
    "| 2. 将数学模型转化为计算机代码，编程计算 | 队伍中至少有一个人会简单的计算机编程 |\n",
    "| 3.对计算结果进行分析和概括，基于分析结果，撰写英文论文 | 掌握数据可视化能力，能对数据和图表等进行数学分析，并了解英文学术文章的撰写规则，了解排版软件的使用 |\n",
    "\n",
    "\n",
    "## 真题回顾\n",
    "\n",
    "-  [2019A Charge!](https://www.comap.com/highschool/contests/himcm/2019_HiMCM_Problem_A.pdf)\n",
    "-  [2019B Bottle Battles!](https://www.comap.com/highschool/contests/himcm/2019_HiMCM_Problem_B.pdf)"
   ]
  }
 ],
 "metadata": {
  "jupytext": {
   "text_representation": {
    "extension": ".md",
    "format_name": "myst",
    "format_version": 0.12,
    "jupytext_version": "1.6.0"
   }
  },
  "kernelspec": {
   "display_name": "Python 3",
   "language": "python",
   "name": "python3"
  },
  "language_info": {
   "codemirror_mode": {
    "name": "ipython",
    "version": 3
   },
   "file_extension": ".py",
   "mimetype": "text/x-python",
   "name": "python",
   "nbconvert_exporter": "python",
   "pygments_lexer": "ipython3",
   "version": "3.7.9"
  },
  "source_map": [
   14
  ]
 },
 "nbformat": 4,
 "nbformat_minor": 4
}