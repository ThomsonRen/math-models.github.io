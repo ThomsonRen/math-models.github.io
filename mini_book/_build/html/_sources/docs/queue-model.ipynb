{
 "cells": [
  {
   "cell_type": "markdown",
   "metadata": {
    "id": "33C0580715F84CCBB99213C7B6158D50",
    "jupyter": {},
    "mdEditEnable": false,
    "slideshow": {
     "slide_type": "slide"
    },
    "tags": []
   },
   "source": [
    "# 排队论模型"
   ]
  },
  {
   "cell_type": "markdown",
   "metadata": {
    "id": "066CFBF57AD3483F895A7B6FE41E474A",
    "jupyter": {},
    "mdEditEnable": false,
    "slideshow": {
     "slide_type": "slide"
    },
    "tags": []
   },
   "source": [
    "排队论是我们每个人都很熟悉的现象。因为人或物或是信息为了得到某种服务必须排队。\n",
    "- 有一类排队是有形的，例如在售票处等待买票的排队，加油站前汽车等待加油的排队等；\n",
    "- 还有一类排队是无形的，例如电话交换机接到的电话呼叫信号的排队，等待计算机中心处理机处理的信息的排队等。\n",
    "\n",
    "为了叙述的方便，**排队者**无论是人、物、或信息，以后**统称为“顾客”**。**服务者**无论是人，或事物， 例如一台电子计算机也可以是排队系统中的服务者，我们以后**统称为“服务员”**。\n",
    "\n",
    "\n",
    "\n",
    "![Image Name](https://cdn.kesci.com/upload/image/q768d7cnmr.jpg?imageView2/0/w/960/h/960)\n",
    "\n",
    "\n",
    "排队论是研究排队系统在不同的条件下（最主要的是顾客到达的随机规律和服务时间的随机规律）产生的排队现象的随机规律性。也就是要建立反映这种随机性的数学模型。研究的最终目的是为了运用这些规律，对实际的排队系统的设计与运行做出最优的决策。 \n",
    "\n",
    "\n",
    "\n",
    "\n",
    "排队论中的数学模型是根据概率和随机过程的理论建立起来的，我们先来讨论泊松过程，然后在此基础上研究排队系统的结构及其主要的数学模型，最后研究排队系统的优化问题。 \n",
    "\n",
    "\n",
    "## 泊松分布 \n",
    "\n",
    "### 二项分布和泊松分布\n",
    "\n",
    "\n",
    "\n",
    "```{admonition} 二项分布引入\n",
    "如果一个牛仔一枪打中靶子的概率是$p$,如果我们让他开十枪，如果每次击中一次目标就能获得一分，问他一共能获得几分？\n",
    "\n",
    "![Image Name](https://cdn.kesci.com/upload/image/q768iziig6.jpg?imageView2/0/w/960/h/960)\n",
    "\n",
    "\n",
    "```\n",
    "\n",
    "虽然我们不能在牛仔射击前准确地预测得出具体的分数$k$，但是可以求出$k$的概率分布，比如得九分的情况对应于：射失一发。根据组合数性质，它的概率是\n",
    "\n",
    "$$\n",
    "P(k=9) = C_{10}^{9}p^9(1-p)\n",
    "$$\n",
    "\n",
    "同理，得$k$分的概率就是\n",
    "\n",
    "$$\n",
    "P(k) = C_{n}^{k}p^k(1-p)^{n-k}\n",
    "$$\n",
    "\n",
    "对于一个神枪手（$p=1$）来说，他得十分的概率就是1.\n",
    "\n",
    "```{tip}\n",
    "二项分布和泊松分布的不同在于，前者研究的对象是$n$个离散的对象(10次射击)，而后者考察的是一段连续的时间。因为泊松分布就是在二项分布的基础上化离散为连续。\n",
    "```\n",
    "\n",
    "\n",
    "\n",
    "我们把单位时间划分为$n$个细小的时间片，假设在每个时间片内牛仔都在射击，击中的概率为$p$，只不过这次他发射的不是子弹，而是顾客。 “命中目标”就代表向服务台成功发射一名顾客，如果没有命中就表示顾客没能成功来到。单位时间内平均顾客的到达速度可以表示为\n",
    "\n",
    "$$\n",
    "\\lambda = np\n",
    "$$\n",
    "\n",
    "\n",
    "```{tip}\n",
    "如果$n$不是无穷大，那么会出现某个时间片内出现两个顾客同时进入系统的情况，这样的话就和我们的假设【每个时间片内只能出现一个顾客或者不出现】不同了。所以$n$必须趋向无穷。 这也是为什么泊松分布的前提是$n$很大了（另一个前提是$p$很小）。\n",
    "```\n",
    "\n",
    "\n",
    "这样一来我们就能用二项分布的公式来表示单位时间内到来$k$个顾客的概率了。在单位时间，我们执行$n$次独立的“发射试验”，把顾客发射到系统的概率是$p$，那么单位时间到来$k$个顾客的概率就是\n",
    "\n",
    "$$\n",
    "P(k) = C_{n}^{k}p^k(1-p)^{n-k}\n",
    "$$\n",
    "\n",
    "把这个组合数展开\n",
    "\n",
    "$$\n",
    "P(k)=\\frac{n(n-1) \\dots(n-k+1)}{k !} p^{k}(1-p)^{n-k}\n",
    "$$\n",
    "\n",
    "上下同乘$(1-p)^{k}$\n",
    "\n",
    "$$\n",
    "P(k)=\\frac{n(n-1) \\ldots(n-k+1)}{k !} \\frac{p^{k}(1-p)^{n}}{(1-p)^{k}}\n",
    "$$\n",
    "\n",
    "把$p^k$拆成$k$个$p$连乘的形式放在左边分子上，\n",
    "\n",
    "\n",
    "$$\n",
    "P(k)=\\frac{n p(n p-p) \\ldots(n p-k p+p)}{k !} \\frac{(1-p)^{n}}{(1-p)^{k}}\n",
    "$$\n",
    "调整$(1-p)^n$,因为$p \\to 0$ , 所以\n",
    "\n",
    "$$\n",
    "(1-p)^{-\\frac{1}{p}} \\rightarrow e\n",
    "$$\n",
    "\n",
    "$$\n",
    "P(k)=\\frac{n p(n p) \\ldots(n p)}{k !} \\frac{e^{-n p}}{(1)^{k}}\n",
    "$$\n",
    "\n",
    "令$np=\\lambda$,那么我们有\n",
    "\n",
    "$$\n",
    "P(k)=\\frac{\\lambda^{k}}{k !} e^{-\\lambda}\n",
    "$$\n",
    "\n",
    "这就是我们熟悉的泊松分布公式，其中$\\lambda$的物理意义就是单位时间内顾客到达的数量，也就是平均到达率，是一个常数。"
   ]
  },
  {
   "cell_type": "markdown",
   "metadata": {
    "id": "93326A239A7845E2814634BB9D985710",
    "jupyter": {},
    "mdEditEnable": false,
    "slideshow": {
     "slide_type": "slide"
    },
    "tags": []
   },
   "source": [
    "### 泊松分布案例"
   ]
  },
  {
   "cell_type": "markdown",
   "metadata": {
    "id": "B2BB16EF6DCD43898D9C26AB5224A310",
    "jupyter": {},
    "mdEditEnable": false,
    "slideshow": {
     "slide_type": "slide"
    },
    "tags": []
   },
   "source": [
    "我们知道，在日常生活中，大量时间是有规律可循的，例如\n",
    "\n",
    "- 某医院平均每小时出生3个婴儿\n",
    "- 某公司平均每10分钟接到一个电话\n",
    "- 某超市平均每天销售4包A品牌奶粉\n",
    "- 某网站平均每分钟有2次访问\n",
    "\n",
    "它们的特点就是，我们可以预估这些事件发生的总数，但是没法具体知道具体的发生时间。比如我们提出这样的一问题：**已知医院平均每小时出生3个婴儿，请问下一个小时，会出生几个？**\n",
    "\n",
    "\n",
    "\n",
    "有可能一下子出生6个，也要可能一个都没有。尽管我们不能做出明确的预测，但是从概率意义上，我们能够对他们的发生概率进行描述。\n",
    "\n",
    "\n",
    "在本例中，到达速度$\\lambda = 3$，我们来看下下个小时出生0个婴儿的概率\n",
    "\n",
    "$$\n",
    "P(0) = \\frac{3^0}{0!}e^{-3} = 4.98\\%\n",
    "$$\n",
    "\n",
    "在接下来的一个小时中，至少出生两个婴儿的概率\n",
    "\n",
    "$$\n",
    "\\begin{aligned}P(k\\geq2) &=1-P(k=1)-P(k=0)\\\\& =  1- \\frac{3^1}{1!}e^{-3} - \\frac{3^0}{0!}e^{-3}\\\\& = 1 - 4e^{-3}\\\\&=80.09\\%\\end{aligned}\n",
    "$$\n",
    "\n",
    "我们还可以看下泊松分布的图像。"
   ]
  },
  {
   "cell_type": "code",
   "execution_count": 1,
   "metadata": {
    "id": "BF76BE38A9664C05AAEBA6EFE85E88B6",
    "jupyter": {},
    "slideshow": {
     "slide_type": "slide"
    },
    "tags": []
   },
   "outputs": [
    {
     "data": {
      "text/plain": [
       "<BarContainer object of 12 artists>"
      ]
     },
     "execution_count": 1,
     "metadata": {},
     "output_type": "execute_result"
    },
    {
     "data": {
      "image/png": "[encoded data removed]",
      "text/plain": [
       "<Figure size 432x288 with 1 Axes>"
      ]
     },
     "metadata": {
      "filenames": {
       "image/png": "/Users/rentongxin/Documents/GitHub/math-models.github.io/mini_book/_build/jupyter_execute/docs/queue-model_4_1.png"
      },
      "needs_background": "light"
     },
     "output_type": "display_data"
    }
   ],
   "source": [
    "import numpy as np \n",
    "import matplotlib.pyplot as plt\n",
    "%matplotlib inline\n",
    "Lambda = 3\n",
    "k = [i for i in range(12)]\n",
    "pk = []\n",
    "for kk in k:\n",
    "    pk.append(Lambda ** kk / np.math.factorial(kk) * np.exp(-Lambda))\n",
    "plt.bar(k,pk)    "
   ]
  },
  {
   "cell_type": "markdown",
   "metadata": {},
   "source": [
    "```{admonition} 思考\n",
    "- 泊松分布峰值表示的是什么意思？\n",
    "- 在这个案例中，为什么会出现$n=2$和$n=3$两个最大概率？\n",
    "\n",
    "```"
   ]
  },
  {
   "cell_type": "markdown",
   "metadata": {
    "id": "62BD4A2E13B546BF8E03C74B42172AB8",
    "jupyter": {},
    "mdEditEnable": false,
    "slideshow": {
     "slide_type": "slide"
    },
    "tags": []
   },
   "source": [
    "### 指数分布"
   ]
  },
  {
   "cell_type": "markdown",
   "metadata": {
    "id": "8C1913437F56409780914547D30FDC1B",
    "jupyter": {},
    "mdEditEnable": false,
    "slideshow": {
     "slide_type": "slide"
    },
    "tags": []
   },
   "source": [
    "我们在排队论中，经常见到的另一个分布较指数分布。指数分布可以从泊松分布推导出来，我们来看下面的例子。\n",
    "\n",
    "我们设$X$为前后两次婴儿出生的间隔时间，显然$X$也是随机变量。 \n",
    "\n",
    "以上次婴儿出生的时刻为0时刻，$[0,t]$时间段内不发生新出生的概率可以用泊松分布来衡量，这时候单位时间不再是1了，而是$t$，也就是$\\lambda t = np$\n",
    "\n",
    "$$\n",
    "P(X>t) = P(k=0) = e^{-\\lambda t}\n",
    "$$\n",
    "\n",
    "\n",
    "反过来，在时间间隔$[0,t]$内发生事件的概率，就是1减去上面的值：\n",
    "\n",
    "$$\n",
    "P(X \\leq t) = 1- e^{-\\lambda t}\n",
    "$$\n",
    "\n",
    "\n",
    "根据概率论知识，我们知道，分布函数是概率密度函数从负无穷到正无穷上的积分。对上述的分布函数进行求导，得到\n",
    "\n",
    "$$\n",
    "f(t) = \\lambda e^{-\\lambda t}\n",
    "$$"
   ]
  },
  {
   "cell_type": "code",
   "execution_count": 2,
   "metadata": {
    "id": "63B1D7C2E15A44FB8F08F802A7B1CD71",
    "jupyter": {},
    "slideshow": {
     "slide_type": "slide"
    },
    "tags": []
   },
   "outputs": [
    {
     "data": {
      "text/plain": [
       "[<matplotlib.lines.Line2D at 0x11d6a53d0>]"
      ]
     },
     "execution_count": 2,
     "metadata": {},
     "output_type": "execute_result"
    },
    {
     "data": {
      "image/png": "[encoded data removed]",
      "text/plain": [
       "<Figure size 432x288 with 1 Axes>"
      ]
     },
     "metadata": {
      "filenames": {
       "image/png": "/Users/rentongxin/Documents/GitHub/math-models.github.io/mini_book/_build/jupyter_execute/docs/queue-model_8_1.png"
      },
      "needs_background": "light"
     },
     "output_type": "display_data"
    }
   ],
   "source": [
    "import numpy as np \n",
    "import matplotlib.pyplot as plt\n",
    "%matplotlib inline\n",
    "Lambda = 3\n",
    "t = np.linspace(0,4,100)\n",
    "pk = []\n",
    "for tt in t:\n",
    "    pk.append(Lambda*np.exp(-Lambda * tt))\n",
    "plt.plot(t,pk)    "
   ]
  },
  {
   "cell_type": "markdown",
   "metadata": {
    "id": "5A83A6BC96B04288BD478AD3DF8F6813",
    "jupyter": {},
    "mdEditEnable": false,
    "slideshow": {
     "slide_type": "slide"
    },
    "tags": []
   },
   "source": [
    "### 关于泊松分布和指数分布的关系\n",
    "\n",
    "\n",
    "在一个**满足马尔科夫过程**的排队系统中，随机变量$X$（单位时间内顾客到达数），满足泊松分布：$X \\sim P(X)$，概率分布函数为\n",
    "\n",
    "$$\n",
    "P(x=k)=\\frac{\\lambda^{k}}{k !} e^{-\\lambda}\n",
    "$$\n",
    "\n",
    "注意：泊松分布中的$\\lambda$，表征的是单位时间内平均到达的顾客数。\n",
    "\n",
    "\n",
    "\n",
    "在一个**满足马尔科夫过程**的排队系统中，随机变量$T$（顾客相继到达时间间隔），满足负指数分布，\n",
    "\n",
    "\n",
    "$$\n",
    "T \\sim f(t)=\\lambda e^{-\\lambda t}\n",
    "$$\n",
    "\n",
    "注意：负指数分布中的$\\lambda$，表征也的是单位时间内平均到达的顾客数。有时候，为了方便起见，我们常常做如下变换\n",
    "\n",
    "$$\n",
    "\\mu = \\frac{1}{\\lambda} \n",
    "$$\n",
    "\n",
    "$$\n",
    "T \\sim f(t)=\\frac{1}{\\mu}  e^{-\\frac{1}{\\mu} t}\n",
    "$$\n",
    "\n",
    "\n",
    "我们可以这么理解：**泊松分布和负指数分布，是从两个角度，对同一个现象进行的描述。**\n",
    "\n",
    "- 泊松分布关注的是单位时间内到达（或者离去）的顾客个数\n",
    "- 负指数分布关注的是顾客到达（或者离去）的时间间隔\n",
    "\n",
    "实际上，对于计算机模拟来说，后者更直观。我们来看一下程序实现。"
   ]
  },
  {
   "cell_type": "code",
   "execution_count": 3,
   "metadata": {
    "id": "62CCDE8FC5B4496CA86EB3C10BC8F010",
    "jupyter": {},
    "slideshow": {
     "slide_type": "slide"
    },
    "tags": []
   },
   "outputs": [
    {
     "data": {
      "text/plain": [
       "Text(0.5, 0, 'Time')"
      ]
     },
     "execution_count": 3,
     "metadata": {},
     "output_type": "execute_result"
    },
    {
     "data": {
      "image/png": "[encoded data removed]",
      "text/plain": [
       "<Figure size 1440x216 with 1 Axes>"
      ]
     },
     "metadata": {
      "filenames": {
       "image/png": "/Users/rentongxin/Documents/GitHub/math-models.github.io/mini_book/_build/jupyter_execute/docs/queue-model_10_1.png"
      },
      "needs_background": "light"
     },
     "output_type": "display_data"
    }
   ],
   "source": [
    "import numpy as np \n",
    "import matplotlib.pyplot as plt\n",
    "%matplotlib inline\n",
    "plt.figure(figsize=(20,3))\n",
    "x1 = np.random.poisson(lam=3, size=10)\n",
    "plt.bar(range(len(x1)),x1)\n",
    "plt.xlabel('Time')"
   ]
  },
  {
   "cell_type": "code",
   "execution_count": 4,
   "metadata": {
    "id": "BC1A8BDD40364AD7B0064AFB424C55B4",
    "jupyter": {},
    "slideshow": {
     "slide_type": "slide"
    },
    "tags": []
   },
   "outputs": [
    {
     "data": {
      "text/plain": [
       "Text(0.5, 0, 'Time')"
      ]
     },
     "execution_count": 4,
     "metadata": {},
     "output_type": "execute_result"
    },
    {
     "data": {
      "image/png": "[encoded data removed]",
      "text/plain": [
       "<Figure size 1440x216 with 1 Axes>"
      ]
     },
     "metadata": {
      "filenames": {
       "image/png": "/Users/rentongxin/Documents/GitHub/math-models.github.io/mini_book/_build/jupyter_execute/docs/queue-model_11_1.png"
      },
      "needs_background": "light"
     },
     "output_type": "display_data"
    }
   ],
   "source": [
    "import numpy as np \n",
    "import matplotlib.pyplot as plt\n",
    "%matplotlib inline\n",
    "\n",
    "lambda1 = 3\n",
    "size = 30\n",
    "t1 = np.random.exponential(1/lambda1, size=size)\n",
    "\n",
    "cumulativeTime = [t1[0]]\n",
    "for time in t1[1:]:\n",
    "    cumulativeTime.append(cumulativeTime[-1]+time)\n",
    "plt.figure(figsize=(20,3))\n",
    "plt.scatter(cumulativeTime,[1]*len(cumulativeTime))\n",
    "plt.xlabel('Time')"
   ]
  },
  {
   "cell_type": "markdown",
   "metadata": {
    "id": "D45451A3FFE846CDAFA5D920AA026549",
    "jupyter": {},
    "mdEditEnable": false,
    "slideshow": {
     "slide_type": "slide"
    },
    "tags": []
   },
   "source": [
    "## 排队系统的数学模型"
   ]
  },
  {
   "cell_type": "markdown",
   "metadata": {
    "id": "02F792DD4727432AABE5309A6D3939E3",
    "jupyter": {},
    "mdEditEnable": false,
    "slideshow": {
     "slide_type": "slide"
    },
    "tags": []
   },
   "source": [
    "尽管排队系统是多种多样的，但所有的排队系统都是由**输入过程、排队规则、服务规则**三个基本部分组成。"
   ]
  },
  {
   "cell_type": "markdown",
   "metadata": {
    "id": "A3D8352FCB944D9E80B1371786FF14C8",
    "jupyter": {},
    "mdEditEnable": false,
    "slideshow": {
     "slide_type": "slide"
    },
    "tags": []
   },
   "source": [
    "![Image Name](https://cdn.kesci.com/upload/image/q2yb3b8s60.png?imageView2/0/w/500/h/500)"
   ]
  },
  {
   "cell_type": "markdown",
   "metadata": {
    "id": "ED3023734FD64354966743C38F3BA5B8",
    "jupyter": {},
    "mdEditEnable": false,
    "slideshow": {
     "slide_type": "slide"
    },
    "tags": []
   },
   "source": [
    "### 输入过程\n",
    "\n",
    "输入过程是描述顾客来源以及顾客到达排队系统的规律。一般从以下几个方面对输入过程进行描述：\n",
    "- 顾客源中顾客的数量是有限还是无限；\n",
    "- 顾客到达的方式是单个还是成批；\n",
    "- 顾客的到达**是否相互独立**（以前到达的顾客对以后顾客的到达没有影响，则称顾客的到达是相互独立的，否则就是相互关联的）；\n",
    "- 顾客相继到达的**间隔时间分布是确定型的还是随机型的**（如果是随机分布，就需要指导单位时间内的顾客到达数或者顾客相继到达时间间隔的概率分布）；\n",
    "- 输入的过程是平稳的还是非平稳的（若相继到达的时间间隔分布参数（如均值、方差）都是和时间无关的，则称输入过程是平稳的，否则是非平稳的）。\n",
    "\n",
    "**在下面的讨论中，我们都假设顾客的到达是相互独立的，输入过程是平稳的。**"
   ]
  },
  {
   "cell_type": "markdown",
   "metadata": {
    "id": "403C2369BE2D4938821EC85378CB0C95",
    "jupyter": {},
    "mdEditEnable": false,
    "slideshow": {
     "slide_type": "slide"
    },
    "tags": []
   },
   "source": [
    "### 服务机构及服务规则\n",
    "\n",
    "指服务机构服务设施的个数、排列方式及服务方式，一般从一下几个方面进行描述：\n",
    "\n",
    "- **服务台（员）的个数** ：服务机构可以有一个或者多个服务台\n",
    "- **服务台的情况** ：单队伍-单服务台、单队伍-多服务台、多队伍-多服务台、串联多服务台以及混合多服务台等多种形式；\n",
    "- **服务台的服务方式** ：对顾客是单个服务还是成批服务，本课程我们只考虑单个服务的情况\n",
    "- **服务时间**：同输入过程一样，对顾客的服务时间也分为确定型的还是随机型的，如果是随机分布，需要知道单位时间内服务的顾客数或者是顾客顾客相继服务的时间间隔的概率分布。\n",
    "- 在排队论中，*一般假设顾客相继到达的时间间隔和服务时间至少有一个是随机的*。\n",
    "\n",
    "\n",
    "服务员对顾客服务过程，服务机构可以是一个服务员或多个服务员的。对顾客可以单独进行服务，也可以对成批顾客进行服务，**在我们这里仅介绍对顾客单独进行服务。**\n",
    "\n",
    "设$C$为服务机构服务员个数，当$C=1$时，为单服务系统，当$C \\geq 2$，为多服务系统。\n",
    "\n",
    "和输入过程一样，服务时间都是随机的，且我们假设，设$\\xi_n$表示服务员为$n$个顾客提供服务所需的时间，$\\xi$的概率分布是已知的可以根据原始资料判断得到的，主要有的分布为负指数分布(定长分布，一般独立分布等)."
   ]
  },
  {
   "cell_type": "markdown",
   "metadata": {
    "id": "7B56103911DE4436896830FAAA391A54",
    "jupyter": {},
    "mdEditEnable": false,
    "slideshow": {
     "slide_type": "slide"
    },
    "tags": []
   },
   "source": [
    "### 排队与服务规则\n",
    "\n",
    "顾客排队和等待的规则，排队规则一般有**等待制，损失制和混合制**。\n",
    "\n",
    " - 所谓等待制就是当一个顾客到达时，若所有服务台均被占用时，该顾客便排队等待服务，服务台按照下面的规则对顾客进行服务：\n",
    "\t 1. 先到先服务（FCFS）\n",
    "\t 2. 后到先服务（FCLS）\n",
    "\t 3. 随机服务（SIRO）\n",
    "\t 4. 有优先权的服务（PR）。\n",
    "\n",
    " - 损失制也称即时制(系统容量$D=C$)就是服务台被占用时顾客便即时离去，永不再来。\n",
    "\n",
    " - 混合制是等待制和损失制系统的结合，一般是指允许排队，但又不允许队列无限长。具体来讲，分为以下三种：\n",
    "\t1. 队长有限，即等待的空间是有限的\n",
    "\t2. 等待时间有限，即顾客在系统中的等待时间不超过某一给定值$T$，当等待时间超过$T$时，顾客自动离去，不再回来\n",
    "\t3. 逗留时间有限（等待时间和服务时间之和）"
   ]
  },
  {
   "cell_type": "markdown",
   "metadata": {
    "id": "69BF8946C72F4C00888A931DBA587563",
    "jupyter": {},
    "mdEditEnable": false,
    "slideshow": {
     "slide_type": "slide"
    },
    "tags": []
   },
   "source": [
    "### 排队模型的符号表示:kendall符号\n",
    "\n",
    "一般表示法 $A/B/C/D/E/F$\n",
    "- $A$:顾客来到时间间隔的分布类型\n",
    "- $B$:服务时间的分布类型\n",
    "- $C$:服务员个数\n",
    "- $D$:系统容量\n",
    "- $E$:顾客源个数\n",
    "- $F$:服务规则(如先到先服务$FCFS$,后到先服务$FCLS$)\n",
    "\n",
    "\n",
    "\n",
    "例\"$M/M/1/k/\\infty/FCFS$\"表示顾客到达间隔时间和服务时间均服从负指数分布，一个服务台，系统至多容纳$k$个顾客,潜在的顾客数不限，先来先服务的排队系统。\n",
    "\n",
    "有时候，我们略去后三项，得到先来先服务的等待排队模型的三参数表示法即A/B/C，\n",
    " $M/M/c$  顾客到达间隔时间和服务时间均服从负指数分布，$C$个服务台的等待制排队模型。\n",
    " $M/G/1$  顾客到达间隔服从负指数分布，服务时间是$G$分布,单个服务台的等待制排队模型。"
   ]
  },
  {
   "cell_type": "markdown",
   "metadata": {
    "id": "09F9FC32D95D4367936A915084C7E7DE",
    "jupyter": {},
    "mdEditEnable": false,
    "slideshow": {
     "slide_type": "slide"
    },
    "tags": []
   },
   "source": [
    "### 排队系统的主要指标\n",
    "\n",
    "研究排队问题的目的，是研究排队系统的运行效率估计服务质量，确定系统参数最优值，以决定系统的结构是否合理，设计改进措施等，所以必须确定用来判断系统运行优劣的基本数量指标，这些数量指标通常是\n",
    "\n",
    "- **队长**:是指系统中顾客(包括排队等待和正在接受服务的)的数目，它的期望值为$L_S$，而排队长度仅指，其期望记为$L_q$\n",
    "\n",
    "$$\n",
    "系统中的顾客数(队长) = 等待服务的顾客数+正被服务的顾客数\n",
    "$$\n",
    "\n",
    "所以$L_S,L_q$越大，说明服务效率越低。\n",
    "\n",
    "\n",
    "\n",
    "\n",
    "$$\n",
    "逗留时间=等待时间+服务时间\n",
    "$$\n",
    "\n",
    "- **忙期**:是指服务台连续繁忙的时间，即顾客从到达空闲服务台算起到服务台再次变为空闲时止的这段时间。这是服务台最关心数量指标，它直接关系到服务员工作强度，与忙期相对应的是闲期，这是指服务台连续保持空闲的时间长度；显然，在排队系统中忙期与闲期，是交替出现的。\n",
    "\n",
    "排队系统除了上述三个主要数量指标外，另外服务台的利用率(即服务员忙碌的时间在总时间中所占比例)、顾客损失率在排队论的研究中也是很重要的指标。 \n",
    "\n",
    "$$\n",
    "服务机构的工作强度 = \\frac{用于服务顾客的时间}{总时间}\n",
    "$$\n",
    "\n",
    "$$\n",
    "顾客损失率 = \\frac{没有得到服务的顾客的个数}{总顾客数}\n",
    "$$\n",
    "\n",
    "\n",
    "\n",
    "### 常用的概率分布"
   ]
  },
  {
   "cell_type": "markdown",
   "metadata": {
    "id": "41EA472C14244F7280B79C1749E53542",
    "jupyter": {},
    "mdEditEnable": false,
    "slideshow": {
     "slide_type": "slide"
    },
    "tags": []
   },
   "source": [
    "#### 定长分布\n",
    "\n",
    "定长分布简单来说就是，每一个顾客的服务时间都是定值。"
   ]
  },
  {
   "cell_type": "markdown",
   "metadata": {
    "id": "48148B3C4A2F48BA80C5D732B4407FFA",
    "jupyter": {},
    "mdEditEnable": false,
    "slideshow": {
     "slide_type": "slide"
    },
    "tags": []
   },
   "source": [
    "#### 均匀分布\n",
    "在概率论和统计学中，均匀分布也叫矩形分布，它是对称概率分布，在相同长度间隔的分布概率是等可能的。 均匀分布由两个参数$a$和$b$定义，它们是数轴上的最小值和最大值，通常缩写为$U(a,b)$。\n",
    "\n",
    "$$\n",
    "f(x)=\\begin{cases}\n",
    "\\dfrac{1}{b-a}, a<x<b\\\\\n",
    "0 , else\n",
    "\\end{cases}\n",
    "$$"
   ]
  },
  {
   "cell_type": "code",
   "execution_count": 5,
   "metadata": {
    "id": "E49F5B0C4DED497E85E7FEFB278D4D45",
    "jupyter": {},
    "slideshow": {
     "slide_type": "slide"
    },
    "tags": []
   },
   "outputs": [
    {
     "data": {
      "text/plain": [
       "(0.0, 1.2)"
      ]
     },
     "execution_count": 5,
     "metadata": {},
     "output_type": "execute_result"
    },
    {
     "data": {
      "image/png": "[encoded data removed]",
      "text/plain": [
       "<Figure size 432x288 with 1 Axes>"
      ]
     },
     "metadata": {
      "filenames": {
       "image/png": "/Users/rentongxin/Documents/GitHub/math-models.github.io/mini_book/_build/jupyter_execute/docs/queue-model_22_1.png"
      },
      "needs_background": "light"
     },
     "output_type": "display_data"
    }
   ],
   "source": [
    "def uniform(x,a,b):\n",
    "    if (x > a) and (x < b):\n",
    "        return 1/(b-a)\n",
    "    else:\n",
    "        return 0 \n",
    "\n",
    "import matplotlib.pyplot as plt\n",
    "import numpy as np\n",
    "plt.style.use('classic')\n",
    "%matplotlib inline\n",
    "a = 1\n",
    "b = 2\n",
    "t_list = [0.01 * i for i in range(300)]\n",
    "ft = [uniform(t,a,b) for t in  t_list]\n",
    "plt.plot(t_list, ft,linewidth = 2)\n",
    "plt.xlabel(r'$t$',fontsize = 15)\n",
    "plt.ylabel(r'$f(t)$',fontsize = 15)\n",
    "#plt.text(4, 0.6, r'$f(t)=\\lambda e^{-\\lambda t}, \\quad t>0$',fontsize = 20)\n",
    "plt.grid()\n",
    "plt.ylim([0,1.2])"
   ]
  },
  {
   "cell_type": "markdown",
   "metadata": {
    "id": "770376B384E149C28412BCF16A3472B8",
    "jupyter": {},
    "mdEditEnable": false,
    "slideshow": {
     "slide_type": "slide"
    },
    "tags": []
   },
   "source": [
    "#### 正态分布\n",
    "\n",
    "正态分布（Normal distribution），也称“常态分布”，又名高斯分布（Gaussian distribution），最早由A.棣莫弗在求二项分布的渐近公式中得到。C.F.高斯在研究测量误差时从另一个角度导出了它。P.S.拉普拉斯和高斯研究了它的性质。是一个在数学、物理及工程等领域都非常重要的概率分布，在统计学的许多方面有着重大的影响力。\n",
    "正态曲线呈钟型，两头低，中间高，左右对称因其曲线呈钟形，因此人们又经常称之为钟形曲线。\n",
    "\n",
    "\n",
    "$$\n",
    "f(x)=\\frac{1}{\\sqrt{2 \\pi} \\sigma} \\exp \\left(-\\frac{(x-\\mu)^{2}}{2 \\sigma^{2}}\\right)\n",
    "$$"
   ]
  },
  {
   "cell_type": "code",
   "execution_count": 6,
   "metadata": {
    "id": "E6F0CF5F31674F388A7A9936311AF254",
    "jupyter": {},
    "slideshow": {
     "slide_type": "slide"
    },
    "tags": []
   },
   "outputs": [
    {
     "data": {
      "image/png": "[encoded data removed]",
      "text/plain": [
       "<Figure size 432x288 with 1 Axes>"
      ]
     },
     "metadata": {
      "filenames": {
       "image/png": "/Users/rentongxin/Documents/GitHub/math-models.github.io/mini_book/_build/jupyter_execute/docs/queue-model_24_0.png"
      },
      "needs_background": "light"
     },
     "output_type": "display_data"
    }
   ],
   "source": [
    "mu = 6\n",
    "sigma = 1.5\n",
    "t_list = [0.01 * i for i in range(1200)]\n",
    "ft = [ 1/np.sqrt(2*np.pi)/sigma * np.exp(-(t-mu)**2/2/sigma**2)       for t in t_list]\n",
    "plt.plot(t_list, ft,linewidth = 2)\n",
    "plt.xlabel(r'$t$',fontsize = 15)\n",
    "plt.ylabel(r'$f(t)$',fontsize = 15)\n",
    "plt.grid()"
   ]
  },
  {
   "cell_type": "markdown",
   "metadata": {
    "id": "17D7C93CFE1B47EF8DF4D54553F7C0DC",
    "jupyter": {},
    "mdEditEnable": false,
    "slideshow": {
     "slide_type": "slide"
    },
    "tags": []
   },
   "source": [
    "#### 泊松分布\n",
    "泊松分布又叫泊松流，在排队论中成为最简单流。\n",
    "\n",
    "设$N(t)$表示在时间区间内$[t_0,t_0 + \\Delta t)$内到达的顾客数，是随机变量。\n",
    "当$N(t)$满足下列三个条件时，我们说顾客的到达符合泊松分布\n",
    "1. 平稳性：在时间区间$[t_0,t_0 + \\Delta t)$内到达的顾客数，只与时间区间长度$\\Delta t$有关而与起点$t_0$无关\n",
    "2. 无后效性：在时间区间$[t_0,t_0 + \\Delta t)$内到达的顾客数，与$t_0$以前的顾客数独立\n",
    "3. 普通性：在充分短的时间内$\\Delta t$内，到达两个或者两个以上顾客的概率极小，可以忽略不计。\n",
    "\n",
    "根据概率论的知识，满足以上三个条件的时候，可以推出在$t$时间段内有$n$个顾客到达服务系统的概率为\n",
    "\n",
    "$$\n",
    "P_{n}(t)=\\frac{(\\lambda t)^{n}}{n !} e^{-\\lambda t} \\quad n=0,1,2, \\cdots\n",
    "$$\n",
    "\n",
    "其中，$t \\geq 0$ 代表时间长度。 $\\lambda>0$为常数，表示单位时间到达的顾客数，即为到达率。\n",
    "\n",
    "\n",
    "由于泊松流与实际生活中排队系统到达情况的相似性，目前排队论中的理论推导基本都是基于泊松流进行推导的。本课程的后续推导也将基于最简单流（泊松流）。"
   ]
  },
  {
   "cell_type": "markdown",
   "metadata": {
    "id": "202BFB41C9264319A9901A0D51127E3C",
    "jupyter": {},
    "mdEditEnable": false,
    "slideshow": {
     "slide_type": "slide"
    },
    "tags": []
   },
   "source": [
    "#### 负指数分布\n",
    "\n",
    "在概率论中，当顾客的到达服从泊松分布时，顾客到达的间隔时间必定服从负指数分布，负指数分布的概率密度函数为\n",
    "\n",
    "$$\n",
    "f(t)=\\left\\{\\begin{array}{cc}\n",
    "{\\lambda e^{-\\lambda t},} & {t \\geq 0} \\\\\n",
    "{0,} & {t<0}\n",
    "\\end{array}\\right.\n",
    "$$\n",
    "\n",
    "其中，$\\lambda>0$与泊松分布一样，表示单位时间到达的顾客数，即为到达率。"
   ]
  },
  {
   "cell_type": "code",
   "execution_count": 7,
   "metadata": {
    "id": "281A4C468B064DB1BB4A15563AE1FF31",
    "jupyter": {},
    "slideshow": {
     "slide_type": "slide"
    },
    "tags": []
   },
   "outputs": [
    {
     "data": {
      "image/png": "[encoded data removed]",
      "text/plain": [
       "<Figure size 432x288 with 1 Axes>"
      ]
     },
     "metadata": {
      "filenames": {
       "image/png": "/Users/rentongxin/Documents/GitHub/math-models.github.io/mini_book/_build/jupyter_execute/docs/queue-model_27_0.png"
      },
      "needs_background": "light"
     },
     "output_type": "display_data"
    }
   ],
   "source": [
    "Lambda = 1\n",
    "t_list = [0.01 * i for i in range(1000)]\n",
    "ft = [Lambda * np.exp(-Lambda * t) for t in t_list]\n",
    "plt.plot(t_list, ft,linewidth = 2)\n",
    "plt.xlabel(r'$t$',fontsize = 15)\n",
    "plt.ylabel(r'$f(t)$',fontsize = 15)\n",
    "plt.text(4, 0.6, r'$f(t)=\\lambda e^{-\\lambda t}, \\quad t>0$',fontsize = 20)\n",
    "plt.grid()"
   ]
  },
  {
   "cell_type": "markdown",
   "metadata": {
    "id": "2BCCA8BC7AF1438D818B73B91EB06668",
    "jupyter": {},
    "mdEditEnable": false,
    "slideshow": {
     "slide_type": "slide"
    },
    "tags": []
   },
   "source": [
    "我们可以这么理解：**泊松分布和负指数分布，是从两个角度，对同一个现象进行的描述。**\n",
    "\n",
    "- 泊松分布关注的是单位时间内到达（或者离去）的顾客个数\n",
    "- 负指数分布关注的是顾客到达（或者离去）的时间间隔"
   ]
  },
  {
   "cell_type": "markdown",
   "metadata": {
    "id": "675B952E65EB46B08E773A5BF4E7BD0F",
    "jupyter": {},
    "mdEditEnable": false,
    "slideshow": {
     "slide_type": "slide"
    },
    "tags": []
   },
   "source": [
    "#### 爱尔朗分布\n",
    "\n",
    "设$v_1,v_2,\\cdots, v_k$是$k$个相互独立的随机变量，服从相同参数$k\\lambda$的负指数分布，那么其求和后\n",
    "\n",
    "$$\n",
    "T = v_1 + v_2 + \\cdots + v_k \n",
    "$$\n",
    "\n",
    "的概率分布为\n",
    "\n",
    "$$\n",
    "f_{k}(t)=\\frac{k \\lambda(k \\lambda t)^{k-1}}{(k-1) !} e^{-k \\lambda t} \\quad, \\quad t \\geq 0, \\quad k \\geq 0, \\quad \\lambda \\geq 0\n",
    "$$\n",
    "\n",
    "上面的分布称为$k$阶爱尔朗分布。"
   ]
  },
  {
   "cell_type": "code",
   "execution_count": 8,
   "metadata": {
    "id": "18F30621803245B5828EED2EB8453483",
    "jupyter": {},
    "slideshow": {
     "slide_type": "slide"
    },
    "tags": []
   },
   "outputs": [
    {
     "data": {
      "text/plain": [
       "Text(0, 0.5, '$f_k(t)$')"
      ]
     },
     "execution_count": 8,
     "metadata": {},
     "output_type": "execute_result"
    },
    {
     "data": {
      "image/png": "[encoded data removed]",
      "text/plain": [
       "<Figure size 432x288 with 1 Axes>"
      ]
     },
     "metadata": {
      "filenames": {
       "image/png": "/Users/rentongxin/Documents/GitHub/math-models.github.io/mini_book/_build/jupyter_execute/docs/queue-model_30_1.png"
      },
      "needs_background": "light"
     },
     "output_type": "display_data"
    }
   ],
   "source": [
    "import numpy as np\n",
    "\n",
    "import matplotlib.pyplot as plt \n",
    "plt.style.use('classic')\n",
    "%matplotlib inline \n",
    "def Erlang(t,Lambda,k):\n",
    "    import numpy as np\n",
    "    num = k*Lambda*(k*Lambda*t)**(k-1)* np.exp(-(k*Lambda*t))\n",
    "    den = np.math.factorial(k-1) \n",
    "    return  num/den\n",
    "\n",
    "Lambda = 2\n",
    "for k in range(1,20,4):\n",
    "    t_list = [0.01 * t for t in range(100)]\n",
    "    f_list = [Erlang(t,Lambda,k) for t in t_list]\n",
    "    plt.plot(t_list,f_list,label = 'k=' +  str(k))\n",
    "    plt.legend()\n",
    "plt.xlabel(r'$t$',fontsize = 15)\n",
    "plt.ylabel(r\"$f_k(t)$\",fontsize = 15)"
   ]
  },
  {
   "cell_type": "markdown",
   "metadata": {
    "id": "0952E54A6FF641F690375B35B08419EF",
    "jupyter": {},
    "mdEditEnable": false,
    "slideshow": {
     "slide_type": "slide"
    },
    "tags": []
   },
   "source": [
    "- 当$k=1$时，爱尔朗分布就是指数分布\n",
    "- $k$增大时，图形逐渐变为对称的\n",
    "- $k \\geq 30$时，近似于正态分布"
   ]
  },
  {
   "cell_type": "markdown",
   "metadata": {
    "id": "818B6A4759A34FDA91E49DD598D7BC2D",
    "jupyter": {},
    "mdEditEnable": false,
    "slideshow": {
     "slide_type": "slide"
    },
    "tags": []
   },
   "source": [
    "我们可以根据原始资料，由顾客到达的规律，对$\\lambda$的经验分布进行估计。\n",
    "\n",
    "在后续讨论中，我们主要讨论$\\lambda$的概率分布为**负指数分布**的情况。"
   ]
  },
  {
   "cell_type": "markdown",
   "metadata": {
    "id": "39D28C9793D74B4AB4150BD78BF67D40",
    "jupyter": {},
    "mdEditEnable": false,
    "slideshow": {
     "slide_type": "slide"
    },
    "tags": []
   },
   "source": [
    "### 单服务台系统理论推导"
   ]
  },
  {
   "cell_type": "markdown",
   "metadata": {
    "id": "4803DBC530344D70822EA5F7C1D74C0D",
    "jupyter": {},
    "mdEditEnable": false,
    "slideshow": {
     "slide_type": "slide"
    },
    "tags": []
   },
   "source": [
    "标准$M/M/1$模型( $M/M/1/\\infty/\\infty$ )是排队模型中最简单的一个模型，它是指顾客的到达符合参数为$\\lambda$的泊松分布，服务时间服从参数为$\\mu$的负指数分布，服务台的个数为1，顾客源的数量为无限，系统的容量无限，顾客到达间隔时间和服务时间之间相互独立，排队规则是先到先服务。"
   ]
  },
  {
   "cell_type": "markdown",
   "metadata": {
    "id": "4BF8A7C3AF0D4FA583D7992486477668",
    "jupyter": {},
    "mdEditEnable": false,
    "slideshow": {
     "slide_type": "slide"
    },
    "tags": []
   },
   "source": [
    "服务时系统的状态转移图如下图\n",
    "\n",
    "\n",
    "\n",
    "\n",
    "\n",
    "\n",
    "\n",
    "\n",
    "![状态转移图](https://cdn.kesci.com/upload/image/q2yhjoztyk.png?imageView2/0/w/960/h/960)\n",
    "\n",
    "\n",
    "\n",
    "在负指数分布中可以假定\n",
    "\n",
    "从 $[t, t+\\Delta t]$ 内 $,$有一个顾客到达的概率为 $\\lambda \\Delta t+o(\\Delta t),$有一个顾客离开的概率为 $\\mu \\Delta t+o(\\Delta t)$，多于一个顾客达到或离开的概率为 $o(\\Delta t)$ 。\n",
    "\n",
    "\n",
    "\n",
    "\n",
    "\n",
    "在时刻 $[t, t+\\Delta t]$时，$N(t+\\Delta t)=n$的概率用状态转移来理解，可以表述为如下表达式：\n",
    "\n",
    "\n",
    "$$\n",
    "P_{n}(t+\\Delta t)=P_{n-1}(t) *\\left(\\lambda \\Delta t+o(\\Delta t)\\right)+P_{n+1}(t) \\\\\n",
    "*\\left(\\mu \\Delta t+o(\\Delta t)\\right)+P_{n}(t) *\\left(\\lambda \\Delta t+o(\\Delta t)\\right) *\\left(\\mu \\Delta t+o(\\Delta t)\\right)+P_{n}(t) *(1- \\\\\n",
    "\\left.\\lambda \\Delta t+o(\\Delta t)\\right) *\\left(1-\\mu \\Delta t+o(\\Delta t)\\right)\n",
    "$$\n",
    "\n",
    "整理后得到\n",
    "\n",
    "$$\n",
    "P_{n}(t+\\Delta t)-P_{n}(t)=\\left[P_{n-1}(t) * \\lambda +P_{n+1}(t) * \\mu-P_{n}(t) * \\lambda -\\right. \\\\\n",
    "\\left.\\left.P_{n}(t) * \\mu \\right] \\Delta t+o(\\Delta t)\\right)\n",
    "$$\n",
    "\n",
    "\n",
    "对于整个系统，在系统稳定时，列状态平衡方程为\n",
    "\n",
    "$$\n",
    "\\left\\{\\begin{array}{l}\n",
    "{\\lambda P_{0}=\\mu P_{1}} \\\\\n",
    "{\\lambda P_{n-1}+\\mu P_{n+1}=\\lambda P_{n}+\\mu P_{n}(n \\geq 1)}\n",
    "\\end{array}\\right.\n",
    "$$\n",
    "\n",
    "其中，\n",
    "\n",
    "- $P_i$:系统中排队长度为$i$的概率\n",
    "- $\\lambda$:顾客到达速率\n",
    "- $\\mu$:服务速率"
   ]
  },
  {
   "cell_type": "markdown",
   "metadata": {
    "id": "29E13D406E284C7A90E995A42A542D41",
    "jupyter": {},
    "mdEditEnable": false,
    "slideshow": {
     "slide_type": "slide"
    },
    "tags": []
   },
   "source": [
    "因为所有可能的状态概率求和为1\n",
    "\n",
    "$$\n",
    "\\sum_{n=0}^{\\infty} P_{n}=1\n",
    "$$\n",
    "\n",
    "结合幂级数展开\n",
    "\n",
    "$$\n",
    "\\frac{1}{1-\\rho} = 1+\\rho+\\rho^2+\\rho^3 + \\cdots+\\rho^n (\\rho<1)\n",
    "$$\n",
    "\n",
    "\n",
    "可以得到\n",
    "\n",
    "$$\n",
    "\\begin{aligned}\n",
    "&P_{0}=1-\\rho\\\\\n",
    "&\\mathrm{P}_{\\mathrm{n}}=(1-\\rho) \\rho^{n}, \\quad n \\geq 1\n",
    "\\end{aligned}\n",
    "$$\n",
    "\n",
    "其中\n",
    "\n",
    "$$\n",
    "\\rho=\\frac{\\lambda}{\\mu}\n",
    "$$\n",
    "为单位时间顾客平均到达率与平均服务率的比值，反映了服务机构的忙碌或利用的程度。"
   ]
  },
  {
   "cell_type": "markdown",
   "metadata": {
    "id": "6339BB8461FB4D9881B1C6F7040E896B",
    "jupyter": {},
    "mdEditEnable": false,
    "slideshow": {
     "slide_type": "slide"
    },
    "tags": []
   },
   "source": [
    "系统中顾客(包括排队等待和正在接受服务的)的数目定义为平均队长$L_s$\n",
    "\n",
    "$$\n",
    "\\begin{aligned}\n",
    "L_{s} &=\\sum_{n=0}^{\\infty} n P_{n}=\\sum_{n=1}^{\\infty} n(1-\\rho) \\rho^{n} \\\\\n",
    "&=\\left(\\rho+2 \\rho^{2}+3 \\rho^{3}+\\cdots\\right)-\\left(\\rho^{2}+2 \\rho^{3}+3 \\rho^{4}+\\cdots\\right) \\\\\n",
    "&=\\rho+\\rho^{2}+\\rho^{3}+\\cdots \\\\\n",
    "&=\\frac{\\rho}{1-\\rho}=\\frac{\\lambda}{\\mu-\\lambda}, 0<\\rho<1\n",
    "\\end{aligned}\n",
    "$$"
   ]
  },
  {
   "cell_type": "markdown",
   "metadata": {
    "id": "F16D5C4B9C7947A5B26C8E343CA14E1B",
    "jupyter": {},
    "mdEditEnable": false,
    "slideshow": {
     "slide_type": "slide"
    },
    "tags": []
   },
   "source": [
    "在队列中排队等待的顾客数定义为平均排队长\n",
    "\n",
    "$$\n",
    "\\begin{aligned}\n",
    "L_{q} &=\\sum_{n=1}^{\\infty}(n-1) P_{n}=\\sum_{n=1}^{\\infty} n P_{n}-\\sum_{n=1}^{\\infty} P_{n}=L_{s}-\\rho \\\\\n",
    "&=\\frac{\\rho^{2}}{(1-\\rho)}=\\frac{\\rho \\lambda}{\\mu-\\lambda}=\\frac{\\lambda^{2}}{\\mu(\\mu-\\lambda)}\n",
    "\\end{aligned}\n",
    "$$\n",
    "\n",
    "正在预期接受服务的顾客数\n",
    "\n",
    "$$\n",
    "L=0 P_{0}+1\\left(P_{1}+P_{2}+\\ldots+P_{n}+\\ldots\\right)=1-P_{0}=1-(1-\\rho)=\\rho\n",
    "$$\n",
    "\n",
    "我们可以验证\n",
    "\n",
    "$$\n",
    "L_{s}=L_{q}+L\n",
    "$$"
   ]
  },
  {
   "cell_type": "markdown",
   "metadata": {
    "id": "E253F898D07D4D3389A5EEA6C20EF628",
    "jupyter": {},
    "mdEditEnable": false,
    "slideshow": {
     "slide_type": "slide"
    },
    "tags": []
   },
   "source": [
    "其他指标的计算方法为\n",
    "从顾客到达时刻算起到他接受服务完毕为止所需要的时间，即是顾客在系统中所花费的总时间定义为平均逗留时间 \n",
    "\n",
    "$$\n",
    "W_s = \\dfrac{L_s}{\\lambda}\n",
    "$$\n",
    "\n",
    "从顾客到达时间算起到他开始接受服务时止的这段时间定义为平均等待时间\n",
    "\n",
    "$$\n",
    "W_q = \\dfrac{L_q}{\\lambda}\n",
    "$$\n",
    "\n",
    "每个顾客的平均服务时间为$d\\dfrac{1}{\\mu}$,因此\n",
    "\n",
    "$$\n",
    "W_s = W_q + \\dfrac{1}{\\mu}\n",
    "$$"
   ]
  },
  {
   "cell_type": "markdown",
   "metadata": {
    "id": "BDD1B07B2C4445B696A087B76FD6CC9B",
    "jupyter": {},
    "mdEditEnable": false,
    "slideshow": {
     "slide_type": "slide"
    },
    "tags": []
   },
   "source": [
    "```{admonition} $M/M/1$模型计算案例\n",
    "已知顾客到达快餐定的频率为平均6分钟一个人，服务员对顾客的平均服务时间为4分钟一个人，到达时间和服务时间都服从负指数分布。请回答以下问题\n",
    "1. 服务员空闲的概率\n",
    "2. 排队等待服务员服务的平均顾客数\n",
    "3. 顾客在快餐店的平均逗留时间\n",
    "4. 服务员平均每小时将为多少顾客提供服务\n",
    "```"
   ]
  },
  {
   "cell_type": "markdown",
   "metadata": {
    "id": "3463D1B3C8CD47DF8795E0513B5BAFA6",
    "jupyter": {},
    "mdEditEnable": false,
    "slideshow": {
     "slide_type": "slide"
    },
    "tags": []
   },
   "source": [
    "根据题意，该模型是标准的$M/M/1$模型\n",
    "\n",
    "$$\n",
    "\\lambda = 10 人/小时, \\mu = 15人/小时, \\rho = \\dfrac{2}{3}\n",
    "$$\n",
    "\n",
    "(1)\n",
    "\n",
    "$$\n",
    "P_{0}=1-\\rho=1-\\frac{2}{3}=\\frac{1}{3}\n",
    "$$\n",
    "(2)\n",
    "\n",
    "$$\n",
    "L_{q}=\\frac{\\rho 2}{1-\\rho}=\\frac{\\left(\\frac{2}{3}\\right)^{2}}{1-\\frac{2}{3}}=\\frac{4}{3}(人)\n",
    "$$\n",
    "\n",
    "(3)\n",
    "\n",
    "$$\n",
    "L_{s}=\\frac{\\rho}{1-\\rho}=\\frac{\\frac{2}{3}}{1-\\frac{2}{3}}=2 (人)\n",
    "$$\n",
    "\n",
    "$$\n",
    "W_{s}=\\frac{L_{s}}{\\lambda}=\\frac{2}{10}=\\frac{1}{5} (小时) = 12 （分钟）\n",
    "$$\n",
    "(4) 如果服务员一直繁忙，平均每小时服务15人，由(1)知，其繁忙率为$\\dfrac{2}{3}$，因此平均每小时服务10人。"
   ]
  },
  {
   "cell_type": "markdown",
   "metadata": {
    "id": "297649C48F7042B4942CB005B5040C2E",
    "jupyter": {},
    "mdEditEnable": false,
    "slideshow": {
     "slide_type": "slide"
    },
    "tags": []
   },
   "source": [
    "### 多服务台系统理论推导"
   ]
  },
  {
   "cell_type": "markdown",
   "metadata": {
    "id": "84CBD534F84F4CEE995B24BE6BC0B87C",
    "jupyter": {},
    "mdEditEnable": false,
    "slideshow": {
     "slide_type": "slide"
    },
    "tags": []
   },
   "source": [
    "标准$M/M/c$模型( $M/M/c/\\infty/\\infty$ )是指顾客的到达符合参数为$\\lambda$的泊松分布，服务时间服从参数为$\\mu$的负指数分布，服务台的个数为$c$，顾客源的数量为无限，系统的容量无限，顾客到达间隔时间和服务时间之间相互独立，排队规则是先到先服务。其生灭过程如下图所示"
   ]
  },
  {
   "cell_type": "markdown",
   "metadata": {
    "id": "CBA4C714B4204652B2BA378C23D3D9E4",
    "jupyter": {},
    "mdEditEnable": false,
    "slideshow": {
     "slide_type": "slide"
    },
    "tags": []
   },
   "source": [
    "![Image Name](https://cdn.kesci.com/upload/image/q30r1rz097.png?imageView2/0/w/960/h/960)"
   ]
  },
  {
   "cell_type": "markdown",
   "metadata": {
    "id": "CB8CC8F2D23C440683C02CFD6082170A",
    "jupyter": {},
    "mdEditEnable": false,
    "slideshow": {
     "slide_type": "slide"
    },
    "tags": []
   },
   "source": [
    "状态平衡方程\n",
    "\n",
    "$$\n",
    "{\\lambda P_{0}=\\mu P_{1}} \n",
    "$$\n",
    "\n",
    "$$\n",
    "\\lambda P_{n-1}+(n+1) \\mu P_{n+1}=(\\lambda+n \\mu) P_{n},( 1 \\leq n < c )\n",
    "$$\n",
    "\n",
    "$$\n",
    "{c \\mu P_{n+1}+\\lambda P_{n-1}=(\\lambda+c \\mu) P_{n}, (n \\geq c)}\n",
    "$$"
   ]
  },
  {
   "cell_type": "markdown",
   "metadata": {
    "id": "D22CE12A9EEA42328C97BBF905EABE8F",
    "jupyter": {},
    "mdEditEnable": false,
    "slideshow": {
     "slide_type": "slide"
    },
    "tags": []
   },
   "source": [
    "得到每个状态的概率为（具体推导过程略）\n",
    "\n",
    "$$\n",
    "P_{0}=\\left[\\sum_{k=0}^{c-1} \\frac{1}{k !}\\left(\\frac{\\lambda}{\\mu}\\right)^{k}+\\frac{1}{c !} \\frac{1}{1-\\rho}\\left(\\frac{\\lambda}{\\mu}\\right)^{c}\\right]^{-1}\n",
    "$$\n",
    "\n",
    "\n",
    "$$\n",
    "P_{n}={\\dfrac{1}{n !}\\left(\\dfrac{\\lambda}{\\mu}\\right)^{n} P_{0},(n < c)} \n",
    "$$\n",
    "\n",
    "$$\n",
    "P_{n}= {\\dfrac{1}{c ! c^{n-c}}\\left(\\dfrac{\\lambda}{\\mu}\\right)^{n} P_{0},(n \\geq c)}\n",
    "$$\n",
    "\n",
    "其中\n",
    "\n",
    "$$\n",
    "\\rho = \\frac{\\lambda}{c\\mu}\n",
    "$$"
   ]
  },
  {
   "cell_type": "markdown",
   "metadata": {
    "id": "5DF2403359DD4C888E3154D1511A1784",
    "jupyter": {},
    "mdEditEnable": false,
    "slideshow": {
     "slide_type": "slide"
    },
    "tags": []
   },
   "source": [
    "其他指标：\n",
    "\n",
    "平均排队长\n",
    "\n",
    "$$\n",
    "L_q=\\sum_{n=c+1}^{\\infty}(n-c) P_{n}=\\frac{(c \\rho)^{c} \\rho}{c !(1-\\rho)^{2}} P_{0}\n",
    "$$\n",
    "\n",
    "平均队长\n",
    "\n",
    "$$\n",
    "L_{s}=L_{q}+\\frac{\\lambda}{\\mu}\n",
    "$$\n",
    "\n",
    "\n",
    "平均逗留时间\n",
    "\n",
    "$$\n",
    "W_{s}=\\frac{L_{s}}{\\lambda}\n",
    "$$\n",
    "\n",
    "平均等待时间\n",
    "\n",
    "$$\n",
    "W_{q}=\\frac{L_{q}}{\\lambda}\n",
    "$$"
   ]
  },
  {
   "cell_type": "markdown",
   "metadata": {
    "id": "C849B4AFB49342A2A992A35913E403A3",
    "jupyter": {},
    "mdEditEnable": false,
    "slideshow": {
     "slide_type": "slide"
    },
    "tags": []
   },
   "source": [
    "```{admonition} $M/M/c$模型计算案例\n",
    "某银行有三个出纳员，顾客的到达服从泊松分布，平均每小时达到30人，顾客排成一队。出纳员对顾客的服务时间服从负指数分布，平均每小时可以服务12人。试求\n",
    "1. 三名出纳员都忙的概率以及该银行的主要运行指标\n",
    "2. 若所有的顾客都排成三队，顾客平均每小时到达10人，计算该银行的主要运行指标。\n",
    "3. 对比以上两个指标，你能得到什么结论？\n",
    "```"
   ]
  },
  {
   "cell_type": "markdown",
   "metadata": {
    "id": "234050C95EAE4D7580E6BF8D65EFFF34",
    "jupyter": {},
    "mdEditEnable": false,
    "slideshow": {
     "slide_type": "slide"
    },
    "tags": []
   },
   "source": [
    "**解**：\n",
    "\n",
    "(1) 根据题意，这是标准的$M/M/c$模型，$c=3$\n",
    "$\\lambda = 30（人/小时）， \\mu = 12 （人/小时）, \\dfrac{\\lambda}{\\mu} =\\dfrac{5}{2}, \\rho = \\dfrac{\\lambda}{c\\mu} = \\dfrac{5}{6}$\n",
    "则有，\n",
    "\n",
    "$$\n",
    "P_{0}=\\left[\\frac{\\left(\\frac{5}{2}\\right)^{0}}{0 !}+\\frac{\\left(\\frac{5}{2}\\right)^{1}}{1 !}+\\frac{\\left(\\frac{5}{2}\\right)^{2}}{2 !}+\\frac{\\left(\\frac{5}{2}\\right)^{3}}{3 !} \\times \\frac{1}{1-\\frac{5}{6}}\\right]^{-1}=0.0449\n",
    "$$\n",
    "\n",
    "\n",
    "$$\n",
    "P(n \\geq 3)=\\frac{\\left(\\frac{5}{2}\\right)^{3}}{3 !} \\times 0.0449=0.117\n",
    "$$\n",
    "\n",
    "$$\n",
    "L_{q}=\\frac{\\left(\\frac{5}{2}\\right)^{3} \\times \\frac{5}{6}}{6 \\times\\left(1-\\frac{5}{6}\\right)} \\times 0.0449=3.51\n",
    "$$\n",
    "\n",
    "$$\n",
    "L_{s}=L_{q}+\\frac{\\lambda}{\\mu}=3.51+2.5=6.01\n",
    "$$\n",
    "\n",
    "$$\n",
    "W_{s}=\\frac{L_{s}}{\\lambda}=\\frac{6.01}{30}=0.2\n",
    "$$\n",
    "\n",
    "$$\n",
    "W_{q}=\\frac{L_{q}}{\\lambda}=\\frac{3.51}{30}=0.12\n",
    "$$"
   ]
  },
  {
   "cell_type": "markdown",
   "metadata": {
    "id": "A0DDEB16E73F417A83C427582715BEA3",
    "jupyter": {},
    "mdEditEnable": false,
    "slideshow": {
     "slide_type": "slide"
    },
    "tags": []
   },
   "source": [
    "(2) 该模型为三个标准的$M/M/1$模型\n",
    "\n",
    "$\\lambda = 10（人/小时）， \\mu = 12 （人/小时）,  \\rho = \\dfrac{\\lambda}{\\mu} = \\dfrac{5}{6}$\n",
    "\n",
    "则有，\n",
    "\n",
    "$$\n",
    "P_{0}=1-\\rho=\\frac{1}{6} \\quad P(n \\geq 1)=1-P_{0}=\\frac{5}{6}\n",
    "$$\n",
    "\n",
    "$$\n",
    "L_{s}=\\frac{\\lambda}{\\mu-\\lambda}=\\frac{10}{12-10}=5\n",
    "$$\n",
    "\n",
    "$$\n",
    "L_{q}=L_{s}-\\rho=\\frac{25}{6}=4.17\n",
    "$$\n",
    "\n",
    "$$\n",
    "W_{s}=\\frac{L_{s}}{\\lambda}=\\frac{5}{10}=0.5\n",
    "$$\n",
    "\n",
    "$$\n",
    "W_{q}=W_{s}-\\frac{1}{\\mu}=0.5-\\frac{1}{12}=0.417\n",
    "$$"
   ]
  },
  {
   "cell_type": "markdown",
   "metadata": {
    "id": "FC7E6A69AF2C4C35AD4BA809EC32C0FD",
    "jupyter": {},
    "mdEditEnable": false,
    "slideshow": {
     "slide_type": "slide"
    },
    "tags": []
   },
   "source": [
    "(3) 比较前两问的结果，不难发现。单队列的排队系统比多队列的排队系统空闲概率低，而且单队列排队长度也比多队列长，逗留时间和等待时间也都比多队列长。可见，排队方式对排队系统的运行指标影响还是很大的。"
   ]
  },
  {
   "cell_type": "markdown",
   "metadata": {
    "id": "A167D03C6DD248EF8A9C08E279C41571",
    "jupyter": {},
    "mdEditEnable": false,
    "slideshow": {
     "slide_type": "slide"
    },
    "tags": []
   },
   "source": [
    "## 使用蒙特卡洛方法模拟排队系统"
   ]
  },
  {
   "cell_type": "code",
   "execution_count": 9,
   "metadata": {
    "id": "6139B57E770D4527867E0F9F0A934331",
    "jupyter": {},
    "slideshow": {
     "slide_type": "slide"
    },
    "tags": []
   },
   "outputs": [],
   "source": [
    "def MM1(Lambda,mu):\n",
    "    return Lambda**2/(mu*(mu-Lambda))"
   ]
  },
  {
   "cell_type": "code",
   "execution_count": 10,
   "metadata": {
    "id": "B234B967AA37495CB72A6FE6D89EB328",
    "jupyter": {},
    "slideshow": {
     "slide_type": "slide"
    },
    "tags": []
   },
   "outputs": [
    {
     "data": {
      "text/plain": [
       "array([3.10212935e-02, 3.43839234e-02, 1.29425173e-02, 2.01574293e+00,\n",
       "       3.95923649e-01, 3.22628334e+00, 1.70463916e+00, 4.25268837e+00,\n",
       "       4.55862480e-01, 4.31614420e-01, 1.42269905e+00, 5.73886243e-01,\n",
       "       2.06740966e-01, 4.75452345e-01, 5.22357603e+00, 6.39296630e-02,\n",
       "       6.46127855e-01, 3.31902899e-01, 6.98067147e-01, 1.16354280e+00,\n",
       "       1.04606194e+00, 8.64788050e-01, 7.03505707e-01, 8.98148161e-01,\n",
       "       2.58326490e-01, 4.69089519e-03, 5.12110382e-01, 2.42954509e+00,\n",
       "       1.99818737e+00, 9.34847305e-01, 1.15755473e+00, 1.14478155e+00,\n",
       "       1.46014726e+00, 2.35911260e-01, 1.53193837e+00, 1.76439019e+00,\n",
       "       2.37476992e-01, 1.03869171e+00, 2.11131490e+00, 2.14333449e+00,\n",
       "       2.80335931e+00, 8.56025764e-01, 8.24063105e-02, 2.28144937e+00,\n",
       "       6.11857097e-02, 6.17268493e-01, 3.03412026e-02, 3.24593257e-01,\n",
       "       1.91594459e+00, 2.12231848e+00, 1.76803533e+00, 3.72430193e-01,\n",
       "       5.73168975e-02, 2.25615938e-01, 1.83498365e+00, 4.78744373e+00,\n",
       "       2.70892795e-02, 3.33056281e-01, 4.96121040e-01, 1.05155331e+00,\n",
       "       4.52219100e-01, 4.24980577e-01, 2.60805661e-01, 8.46397824e-02,\n",
       "       6.37362470e-01, 1.22309442e-01, 4.27705180e-02, 7.28221600e-02,\n",
       "       7.25408754e-02, 7.14602420e-01, 2.23580267e+00, 5.54002169e-01,\n",
       "       9.89219842e-01, 1.23331017e-01, 1.05967584e-01, 1.21897755e-01,\n",
       "       6.53529921e-01, 3.85327807e-01, 2.70863147e+00, 2.57864039e+00,\n",
       "       4.67989241e+00, 4.55947197e-01, 9.33862626e-02, 1.51347234e+00,\n",
       "       2.27435536e-01, 1.65519675e+00, 4.97866770e-01, 2.49638529e-01,\n",
       "       5.24998599e-01, 1.75751191e-01, 2.16903860e+00, 1.17398578e-01,\n",
       "       2.27149547e+00, 1.86986881e-01, 1.67793339e-01, 3.66569794e-01,\n",
       "       7.43543119e-02, 9.99563919e-01, 3.35039944e+00, 1.91955753e-01])"
      ]
     },
     "execution_count": 10,
     "metadata": {},
     "output_type": "execute_result"
    }
   ],
   "source": [
    "lambda1 = 1\n",
    "size = 100\n",
    "t1 = np.random.exponential(1/lambda1, size=size)\n",
    "t1"
   ]
  },
  {
   "cell_type": "code",
   "execution_count": 11,
   "metadata": {
    "id": "BDA20A7D21A94385823F312CDF9D2E14",
    "jupyter": {},
    "slideshow": {
     "slide_type": "slide"
    },
    "tags": []
   },
   "outputs": [
    {
     "data": {
      "image/png": "[encoded data removed]",
      "text/plain": [
       "<Figure size 432x288 with 1 Axes>"
      ]
     },
     "metadata": {
      "filenames": {
       "image/png": "/Users/rentongxin/Documents/GitHub/math-models.github.io/mini_book/_build/jupyter_execute/docs/queue-model_55_0.png"
      },
      "needs_background": "light"
     },
     "output_type": "display_data"
    }
   ],
   "source": [
    "import numpy as np\n",
    "import matplotlib.pyplot as plt\n",
    "#np.random.seed(4)\n",
    "lambda1 = 1.5\n",
    "mu1 = 2\n",
    "lambdalist = [0.1 * i for i in range(1,20)]\n",
    "MC = []\n",
    "QC = []\n",
    "for lambda1 in lambdalist:\n",
    "    size = 10000\n",
    "    t1 = np.random.exponential(1/lambda1, size=size)\n",
    "    t2 = np.random.exponential(1/mu1, size=size)\n",
    "    \n",
    "    ArrTime = [0]\n",
    "    LeaveTime = []\n",
    "    WaitingTime = []\n",
    "    \n",
    "    # 累计到达时间\n",
    "    for t in t1:\n",
    "        ArrTime.append(ArrTime[-1] + t)\n",
    "        \n",
    "    \n",
    "    ## 对于第一个顾客来说，可以直接接受服务,不需要等待\n",
    "    LeaveTime.append(t2[0])\n",
    "    WaitingTime.append(0)\n",
    "    for i in range(1,size):\n",
    "        # 更新到达时刻空闲队伍的个数\n",
    "        CurrentTime = ArrTime[i]\n",
    "        if CurrentTime > LeaveTime[i-1]:\n",
    "            WaitingTime.append(0)\n",
    "            LeaveTime.append(CurrentTime+t2[i])\n",
    "        else:\n",
    "            WaitingTime.append(LeaveTime[i-1] - CurrentTime)\n",
    "            LeaveTime.append(LeaveTime[i-1] + t2[i])\n",
    "    MC.append(np.mean(WaitingTime))\n",
    "    QC.append(MM1(lambda1,mu1)/lambda1)\n",
    "plt.plot(MC)\n",
    "plt.plot(QC)\n",
    "plt.xlabel(r'$\\lambda$',fontsize = 15)\n",
    "plt.ylabel(r'$W_q$',fontsize = 15)\n",
    "plt.grid()"
   ]
  },
  {
   "cell_type": "markdown",
   "metadata": {
    "id": "3530B6A48AD54C2C84A31DC0F2AF001C",
    "jupyter": {},
    "mdEditEnable": false,
    "slideshow": {
     "slide_type": "slide"
    },
    "tags": []
   },
   "source": [
    "**结合蒙特卡洛模拟，可以避开繁杂的理论推导，直观且容易编程。**"
   ]
  },
  {
   "cell_type": "markdown",
   "metadata": {
    "id": "58FC363FD86441A99EDB3145E2C7106B",
    "jupyter": {},
    "mdEditEnable": false,
    "slideshow": {
     "slide_type": "slide"
    },
    "tags": []
   },
   "source": [
    "## 作业\n",
    "\n",
    "```{admonition} 作业\n",
    "\n",
    "- 某医院手术室根据病人来诊和完成手术时间的记录，经统计分析算出每小时病人平均 到达率为 2.1 人/h，为泊松分布。每次手术平均时间 0.4h/人，即平均服务率是 2.5 人/h，服从负指数分布。求:\n",
    "  - (1)病房中病人的平均数($L$)。\n",
    "  - (2)排队等待手术病人的平均数( $\\left.L_{q}\\right)$\n",
    "  - (3)病人在病房中平均逗留时间($W$)。\n",
    "  - (4)病人排队等待时间(期望值队 $\\left.W_{q}\\right)$\n",
    "- 到达某铁路售票处顾客分两类：一类买南方线路票，到达率为$\\lambda_1$/小时，另一类买北方线路票，到达率为$\\lambda_2$/小时，以上均服从泊松分布。该售票处设两个窗口，各窗口服务一名顾客时间均服从参数$\\mu=10$的指数分布。试比较下列情况时顾客分别等待时间 ：\n",
    "  - 两个窗口分别售南方票和北方票；\n",
    "  - 每个窗口两种票均出售。（分别比较 $\\lambda_1 = \\lambda_2 = 2,4,6,8,10$时的情形）\n",
    "```"
   ]
  }
 ],
 "metadata": {
  "jupytext": {
   "text_representation": {
    "extension": ".md",
    "format_name": "myst",
    "format_version": 0.12,
    "jupytext_version": "1.6.0"
   }
  },
  "kernelspec": {
   "display_name": "Python 3",
   "language": "python",
   "name": "python3"
  },
  "language_info": {
   "codemirror_mode": {
    "name": "ipython",
    "version": 3
   },
   "file_extension": ".py",
   "mimetype": "text/x-python",
   "name": "python",
   "nbconvert_exporter": "python",
   "pygments_lexer": "ipython3",
   "version": "3.7.9"
  },
  "source_map": [
   14,
   18,
   127,
   131,
   161,
   178,
   188,
   192,
   218,
   237,
   277,
   294,
   318,
   322,
   326,
   332,
   345,
   367,
   390,
   411,
   448,
   454,
   466,
   496,
   508,
   526,
   548,
   564,
   582,
   589,
   607,
   636,
   642,
   649,
   653,
   657,
   712,
   743,
   756,
   779,
   800,
   812,
   842,
   846,
   850,
   855,
   871,
   894,
   924,
   933,
   967,
   995,
   999,
   1004,
   1016,
   1030,
   1081,
   1085
  ]
 },
 "nbformat": 4,
 "nbformat_minor": 4
}